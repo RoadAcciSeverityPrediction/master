{
 "cells": [
  {
   "cell_type": "code",
   "execution_count": 1,
   "id": "0a3f5490",
   "metadata": {},
   "outputs": [],
   "source": [
    "import numpy as np\n",
    "import pandas as pd"
   ]
  },
  {
   "cell_type": "code",
   "execution_count": 11,
   "id": "66d5994a",
   "metadata": {},
   "outputs": [
    {
     "ename": "KeyError",
     "evalue": "\"None of [Index(['Number_of_Vehicles', 'Number_of_Casualties', '1st_Road_Class',\\n       'Road_Type', 'Junction_Control', '2nd_Road_Class',\\n       'Road_Surface_Conditions', 'Special_Conditions_at_Site',\\n       'Urban_or_Rural_Area', 'Did_Police_Officer_Attend_Scene_of_Accident'],\\n      dtype='object')] are in the [columns]\"",
     "output_type": "error",
     "traceback": [
      "\u001b[1;31m---------------------------------------------------------------------------\u001b[0m",
      "\u001b[1;31mKeyError\u001b[0m                                  Traceback (most recent call last)",
      "\u001b[1;32m~\\AppData\\Local\\Temp/ipykernel_14488/3464238514.py\u001b[0m in \u001b[0;36m<module>\u001b[1;34m\u001b[0m\n\u001b[0;32m      1\u001b[0m \u001b[1;31m# Read the CSV file and select the columns\u001b[0m\u001b[1;33m\u001b[0m\u001b[1;33m\u001b[0m\u001b[0m\n\u001b[0;32m      2\u001b[0m \u001b[0mmodel_data\u001b[0m \u001b[1;33m=\u001b[0m \u001b[0mpd\u001b[0m\u001b[1;33m.\u001b[0m\u001b[0mread_csv\u001b[0m\u001b[1;33m(\u001b[0m\u001b[1;34m\"acc_data_after_cleaning.csv\"\u001b[0m\u001b[1;33m,\u001b[0m \u001b[0mengine\u001b[0m\u001b[1;33m=\u001b[0m\u001b[1;34m'python'\u001b[0m\u001b[1;33m)\u001b[0m\u001b[1;33m\u001b[0m\u001b[1;33m\u001b[0m\u001b[0m\n\u001b[1;32m----> 3\u001b[1;33m \u001b[0mmodel_a\u001b[0m \u001b[1;33m=\u001b[0m \u001b[0mmodel_data\u001b[0m\u001b[1;33m[\u001b[0m\u001b[1;33m[\u001b[0m\u001b[1;34m'Number_of_Vehicles'\u001b[0m\u001b[1;33m,\u001b[0m \u001b[1;34m'Number_of_Casualties'\u001b[0m\u001b[1;33m,\u001b[0m \u001b[1;34m'1st_Road_Class'\u001b[0m\u001b[1;33m,\u001b[0m \u001b[1;34m'Road_Type'\u001b[0m\u001b[1;33m,\u001b[0m \u001b[1;34m'Junction_Control'\u001b[0m\u001b[1;33m,\u001b[0m \u001b[1;34m'2nd_Road_Class'\u001b[0m\u001b[1;33m,\u001b[0m \u001b[1;34m'Road_Surface_Conditions'\u001b[0m\u001b[1;33m,\u001b[0m \u001b[1;34m'Special_Conditions_at_Site'\u001b[0m\u001b[1;33m,\u001b[0m \u001b[1;34m'Urban_or_Rural_Area'\u001b[0m\u001b[1;33m,\u001b[0m \u001b[1;34m'Did_Police_Officer_Attend_Scene_of_Accident'\u001b[0m\u001b[1;33m]\u001b[0m\u001b[1;33m]\u001b[0m\u001b[1;33m\u001b[0m\u001b[1;33m\u001b[0m\u001b[0m\n\u001b[0m\u001b[0;32m      4\u001b[0m \u001b[0mmodel_a\u001b[0m\u001b[1;33m\u001b[0m\u001b[1;33m\u001b[0m\u001b[0m\n\u001b[0;32m      5\u001b[0m \u001b[1;31m# Save the new dataframe as a CSV file\u001b[0m\u001b[1;33m\u001b[0m\u001b[1;33m\u001b[0m\u001b[0m\n",
      "\u001b[1;32m~\\anaconda3\\lib\\site-packages\\pandas\\core\\frame.py\u001b[0m in \u001b[0;36m__getitem__\u001b[1;34m(self, key)\u001b[0m\n\u001b[0;32m   3462\u001b[0m             \u001b[1;32mif\u001b[0m \u001b[0mis_iterator\u001b[0m\u001b[1;33m(\u001b[0m\u001b[0mkey\u001b[0m\u001b[1;33m)\u001b[0m\u001b[1;33m:\u001b[0m\u001b[1;33m\u001b[0m\u001b[1;33m\u001b[0m\u001b[0m\n\u001b[0;32m   3463\u001b[0m                 \u001b[0mkey\u001b[0m \u001b[1;33m=\u001b[0m \u001b[0mlist\u001b[0m\u001b[1;33m(\u001b[0m\u001b[0mkey\u001b[0m\u001b[1;33m)\u001b[0m\u001b[1;33m\u001b[0m\u001b[1;33m\u001b[0m\u001b[0m\n\u001b[1;32m-> 3464\u001b[1;33m             \u001b[0mindexer\u001b[0m \u001b[1;33m=\u001b[0m \u001b[0mself\u001b[0m\u001b[1;33m.\u001b[0m\u001b[0mloc\u001b[0m\u001b[1;33m.\u001b[0m\u001b[0m_get_listlike_indexer\u001b[0m\u001b[1;33m(\u001b[0m\u001b[0mkey\u001b[0m\u001b[1;33m,\u001b[0m \u001b[0maxis\u001b[0m\u001b[1;33m=\u001b[0m\u001b[1;36m1\u001b[0m\u001b[1;33m)\u001b[0m\u001b[1;33m[\u001b[0m\u001b[1;36m1\u001b[0m\u001b[1;33m]\u001b[0m\u001b[1;33m\u001b[0m\u001b[1;33m\u001b[0m\u001b[0m\n\u001b[0m\u001b[0;32m   3465\u001b[0m \u001b[1;33m\u001b[0m\u001b[0m\n\u001b[0;32m   3466\u001b[0m         \u001b[1;31m# take() does not accept boolean indexers\u001b[0m\u001b[1;33m\u001b[0m\u001b[1;33m\u001b[0m\u001b[0m\n",
      "\u001b[1;32m~\\anaconda3\\lib\\site-packages\\pandas\\core\\indexing.py\u001b[0m in \u001b[0;36m_get_listlike_indexer\u001b[1;34m(self, key, axis)\u001b[0m\n\u001b[0;32m   1312\u001b[0m             \u001b[0mkeyarr\u001b[0m\u001b[1;33m,\u001b[0m \u001b[0mindexer\u001b[0m\u001b[1;33m,\u001b[0m \u001b[0mnew_indexer\u001b[0m \u001b[1;33m=\u001b[0m \u001b[0max\u001b[0m\u001b[1;33m.\u001b[0m\u001b[0m_reindex_non_unique\u001b[0m\u001b[1;33m(\u001b[0m\u001b[0mkeyarr\u001b[0m\u001b[1;33m)\u001b[0m\u001b[1;33m\u001b[0m\u001b[1;33m\u001b[0m\u001b[0m\n\u001b[0;32m   1313\u001b[0m \u001b[1;33m\u001b[0m\u001b[0m\n\u001b[1;32m-> 1314\u001b[1;33m         \u001b[0mself\u001b[0m\u001b[1;33m.\u001b[0m\u001b[0m_validate_read_indexer\u001b[0m\u001b[1;33m(\u001b[0m\u001b[0mkeyarr\u001b[0m\u001b[1;33m,\u001b[0m \u001b[0mindexer\u001b[0m\u001b[1;33m,\u001b[0m \u001b[0maxis\u001b[0m\u001b[1;33m)\u001b[0m\u001b[1;33m\u001b[0m\u001b[1;33m\u001b[0m\u001b[0m\n\u001b[0m\u001b[0;32m   1315\u001b[0m \u001b[1;33m\u001b[0m\u001b[0m\n\u001b[0;32m   1316\u001b[0m         if needs_i8_conversion(ax.dtype) or isinstance(\n",
      "\u001b[1;32m~\\anaconda3\\lib\\site-packages\\pandas\\core\\indexing.py\u001b[0m in \u001b[0;36m_validate_read_indexer\u001b[1;34m(self, key, indexer, axis)\u001b[0m\n\u001b[0;32m   1372\u001b[0m                 \u001b[1;32mif\u001b[0m \u001b[0muse_interval_msg\u001b[0m\u001b[1;33m:\u001b[0m\u001b[1;33m\u001b[0m\u001b[1;33m\u001b[0m\u001b[0m\n\u001b[0;32m   1373\u001b[0m                     \u001b[0mkey\u001b[0m \u001b[1;33m=\u001b[0m \u001b[0mlist\u001b[0m\u001b[1;33m(\u001b[0m\u001b[0mkey\u001b[0m\u001b[1;33m)\u001b[0m\u001b[1;33m\u001b[0m\u001b[1;33m\u001b[0m\u001b[0m\n\u001b[1;32m-> 1374\u001b[1;33m                 \u001b[1;32mraise\u001b[0m \u001b[0mKeyError\u001b[0m\u001b[1;33m(\u001b[0m\u001b[1;34mf\"None of [{key}] are in the [{axis_name}]\"\u001b[0m\u001b[1;33m)\u001b[0m\u001b[1;33m\u001b[0m\u001b[1;33m\u001b[0m\u001b[0m\n\u001b[0m\u001b[0;32m   1375\u001b[0m \u001b[1;33m\u001b[0m\u001b[0m\n\u001b[0;32m   1376\u001b[0m             \u001b[0mnot_found\u001b[0m \u001b[1;33m=\u001b[0m \u001b[0mlist\u001b[0m\u001b[1;33m(\u001b[0m\u001b[0mensure_index\u001b[0m\u001b[1;33m(\u001b[0m\u001b[0mkey\u001b[0m\u001b[1;33m)\u001b[0m\u001b[1;33m[\u001b[0m\u001b[0mmissing_mask\u001b[0m\u001b[1;33m.\u001b[0m\u001b[0mnonzero\u001b[0m\u001b[1;33m(\u001b[0m\u001b[1;33m)\u001b[0m\u001b[1;33m[\u001b[0m\u001b[1;36m0\u001b[0m\u001b[1;33m]\u001b[0m\u001b[1;33m]\u001b[0m\u001b[1;33m.\u001b[0m\u001b[0munique\u001b[0m\u001b[1;33m(\u001b[0m\u001b[1;33m)\u001b[0m\u001b[1;33m)\u001b[0m\u001b[1;33m\u001b[0m\u001b[1;33m\u001b[0m\u001b[0m\n",
      "\u001b[1;31mKeyError\u001b[0m: \"None of [Index(['Number_of_Vehicles', 'Number_of_Casualties', '1st_Road_Class',\\n       'Road_Type', 'Junction_Control', '2nd_Road_Class',\\n       'Road_Surface_Conditions', 'Special_Conditions_at_Site',\\n       'Urban_or_Rural_Area', 'Did_Police_Officer_Attend_Scene_of_Accident'],\\n      dtype='object')] are in the [columns]\""
     ]
    }
   ],
   "source": [
    "# Read the CSV file and select the columns\n",
    "model_data = pd.read_csv(\"acc_data_after_cleaning.csv\", engine='python')\n",
    "model_a = model_data[['Number_of_Vehicles', 'Number_of_Casualties', '1st_Road_Class', 'Road_Type', 'Junction_Control', '2nd_Road_Class', 'Road_Surface_Conditions', 'Special_Conditions_at_Site', 'Urban_or_Rural_Area', 'Did_Police_Officer_Attend_Scene_of_Accident',]]\n",
    "model_a\n",
    "# Save the new dataframe as a CSV file\n",
    "model_data.to_csv('model_acc_data.csv', index=False)\n"
   ]
  },
  {
   "cell_type": "code",
   "execution_count": 17,
   "id": "ccb9041f",
   "metadata": {},
   "outputs": [
    {
     "name": "stdout",
     "output_type": "stream",
     "text": [
      "        number_of_vehicles  number_of_casualties  1st_road_class  road_type  \\\n",
      "0                        2                     1               3          3   \n",
      "1                        1                     1               3          6   \n",
      "2                        2                     1               5          6   \n",
      "3                        2                     1               3          3   \n",
      "4                        1                     1               4          3   \n",
      "...                    ...                   ...             ...        ...   \n",
      "186045                  13                     7               2          3   \n",
      "186046                  13                     7               2          3   \n",
      "186047                  13                     7               2          3   \n",
      "186048                  13                     7               2          3   \n",
      "186049                  13                     7               2          3   \n",
      "\n",
      "        junction_control  2nd_road_class  road_surface_conditions  \\\n",
      "0                      8               8                        1   \n",
      "1                      0               0                        1   \n",
      "2                      5               5                        1   \n",
      "3                      2               2                        1   \n",
      "4                      1               1                        1   \n",
      "...                  ...             ...                      ...   \n",
      "186045                 0               0                        4   \n",
      "186046                 0               0                        4   \n",
      "186047                 0               0                        4   \n",
      "186048                 0               0                        4   \n",
      "186049                 0               0                        4   \n",
      "\n",
      "        special_conditions_at_site  urban_or_rural_area  \\\n",
      "0                                0                    1   \n",
      "1                                0                    1   \n",
      "2                                0                    1   \n",
      "3                                0                    1   \n",
      "4                                0                    1   \n",
      "...                            ...                  ...   \n",
      "186045                           0                    2   \n",
      "186046                           0                    2   \n",
      "186047                           0                    2   \n",
      "186048                           0                    2   \n",
      "186049                           0                    2   \n",
      "\n",
      "        did_police_officer_attend_scene_of_accident  \n",
      "0                                                 1  \n",
      "1                                                 1  \n",
      "2                                                 2  \n",
      "3                                                 1  \n",
      "4                                                 1  \n",
      "...                                             ...  \n",
      "186045                                            1  \n",
      "186046                                            1  \n",
      "186047                                            1  \n",
      "186048                                            1  \n",
      "186049                                            1  \n",
      "\n",
      "[186050 rows x 10 columns]\n"
     ]
    }
   ],
   "source": [
    "import pandas as pd\n",
    "\n",
    "model_data = pd.read_csv(\"acc_data_after_cleaning.csv\", engine='python')\n",
    "model_a = model_data[['number_of_vehicles','number_of_casualties','1st_road_class','road_type','junction_control','2nd_road_class','road_surface_conditions','special_conditions_at_site','urban_or_rural_area','did_police_officer_attend_scene_of_accident']]\n",
    "\n",
    "\n"
   ]
  },
  {
   "cell_type": "code",
   "execution_count": 18,
   "id": "0bc471f4",
   "metadata": {},
   "outputs": [],
   "source": [
    "model_a.to_csv('model_acc_data.csv', index=False)\n"
   ]
  },
  {
   "cell_type": "code",
   "execution_count": null,
   "id": "ee137870",
   "metadata": {},
   "outputs": [],
   "source": []
  }
 ],
 "metadata": {
  "kernelspec": {
   "display_name": "Python 3 (ipykernel)",
   "language": "python",
   "name": "python3"
  },
  "language_info": {
   "codemirror_mode": {
    "name": "ipython",
    "version": 3
   },
   "file_extension": ".py",
   "mimetype": "text/x-python",
   "name": "python",
   "nbconvert_exporter": "python",
   "pygments_lexer": "ipython3",
   "version": "3.9.7"
  }
 },
 "nbformat": 4,
 "nbformat_minor": 5
}
