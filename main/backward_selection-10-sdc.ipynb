{
 "cells": [
  {
   "cell_type": "markdown",
   "id": "5417053b",
   "metadata": {},
   "source": [
    "import pandas as pd\n",
    "import numpy as np\n",
    "from sklearn.model_selection import train_test_split\n",
    "from sklearn.linear_model import LogisticRegression\n",
    "from sklearn.model_selection import StratifiedShuffleSplit\n",
    "\n",
    "# Load the data\n",
    "data = pd.read_csv('acc_data_sampling_50.csv')\n",
    "\n",
    "# Split the data into training and testing sets\n",
    "# Split the data into features and target variable (if applicable)\n",
    "X = data.drop(columns=['accident_severity', 'time']) # Replace 'target' with the name of your target variable column.\n",
    "y = data['accident_severity'] # Replace 'target' with the name of your target variable column.\n",
    "\n",
    "# Use StratifiedShuffleSplit to split the data into training and test sets\n",
    "sss = StratifiedShuffleSplit(n_splits=1, test_size=0.2, random_state=42)\n",
    "train_index, test_index = next(sss.split(X, y))\n",
    "X_train, X_test = X.iloc[train_index], X.iloc[test_index]\n",
    "y_train, y_test = y.iloc[train_index], y.iloc[test_index]\n",
    "\n",
    "X_train = pd.concat([X_train, pd.DataFrame({'Intercept': np.ones(len(X_train))})], axis=1)\n",
    "\n",
    "# Initialize an empty set to store the selected features\n",
    "selected_features = set()\n",
    "\n",
    "# Create a list of remaining features\n",
    "remaining_features = list(X_train.columns)\n",
    "\n",
    "# Train a logistic regression model with only the intercept term\n",
    "log_reg = LogisticRegression(random_state=42, solver='lbfgs', max_iter=1000).fit(X_train[['Intercept']], y_train)\n",
    "\n",
    "# Calculate the model's accuracy on the testing data\n",
    "best_accuracy = log_reg.score(X_test[['Intercept']], y_test)\n",
    "\n",
    "# Repeat until no features remain\n",
    "while remaining_features:\n",
    "\n",
    "    # Initialize variables to store the best feature and its accuracy\n",
    "    best_feature = None\n",
    "    feature_accuracy = 0\n",
    "\n",
    "    # Try adding each remaining feature to the selected features\n",
    "    for feature in remaining_features:\n",
    "\n",
    "        # Train a logistic regression model with the selected features\n",
    "        features = list(selected_features) + [feature]\n",
    "        log_reg = LogisticRegression(random_state=42, solver='lbfgs', max_iter=1000).fit(X_train[features], y_train)\n",
    "\n",
    "        # Calculate the model's accuracy on the testing data\n",
    "        accuracy = log_reg.score(X_test[features], y_test)\n",
    "\n",
    "        # If the accuracy is higher than the current best accuracy, update the variables\n",
    "        if accuracy > feature_accuracy:\n",
    "            best_feature = feature\n",
    "            feature_accuracy = accuracy\n",
    "\n",
    "    # Add the best feature to the selected features and remove it from the remaining features\n",
    "    selected_features.add(best_feature)\n",
    "    remaining_features.remove(best_feature)\n",
    "\n",
    "    # If the feature improves the accuracy, print the selected features and the new accuracy\n",
    "    if feature_accuracy > best_accuracy:\n",
    "        best_accuracy = feature_accuracy\n",
    "        print(f'Selected features: {list(selected_features)}\\nAccuracy: {best_accuracy:.4f}')\n"
   ]
  },
  {
   "cell_type": "code",
   "execution_count": 1,
   "id": "eb2f5776",
   "metadata": {},
   "outputs": [
    {
     "name": "stdout",
     "output_type": "stream",
     "text": [
      "Requirement already satisfied: mlxtend in c:\\users\\dell\\appdata\\roaming\\python\\python39\\site-packages (0.22.0)\n",
      "Requirement already satisfied: joblib>=0.13.2 in c:\\users\\dell\\anaconda3\\lib\\site-packages (from mlxtend) (1.2.0)\n",
      "Requirement already satisfied: setuptools in c:\\users\\dell\\anaconda3\\lib\\site-packages (from mlxtend) (58.0.4)\n",
      "Requirement already satisfied: matplotlib>=3.0.0 in c:\\users\\dell\\anaconda3\\lib\\site-packages (from mlxtend) (3.4.3)\n",
      "Requirement already satisfied: pandas>=0.24.2 in c:\\users\\dell\\anaconda3\\lib\\site-packages (from mlxtend) (1.3.4)\n",
      "Requirement already satisfied: scikit-learn>=1.0.2 in c:\\users\\dell\\anaconda3\\lib\\site-packages (from mlxtend) (1.2.2)\n",
      "Requirement already satisfied: numpy>=1.16.2 in c:\\users\\dell\\anaconda3\\lib\\site-packages (from mlxtend) (1.20.3)\n",
      "Requirement already satisfied: scipy>=1.2.1 in c:\\users\\dell\\anaconda3\\lib\\site-packages (from mlxtend) (1.7.1)\n",
      "Requirement already satisfied: cycler>=0.10 in c:\\users\\dell\\anaconda3\\lib\\site-packages (from matplotlib>=3.0.0->mlxtend) (0.10.0)\n",
      "Requirement already satisfied: pillow>=6.2.0 in c:\\users\\dell\\anaconda3\\lib\\site-packages (from matplotlib>=3.0.0->mlxtend) (8.4.0)\n",
      "Requirement already satisfied: kiwisolver>=1.0.1 in c:\\users\\dell\\anaconda3\\lib\\site-packages (from matplotlib>=3.0.0->mlxtend) (1.3.1)\n",
      "Requirement already satisfied: python-dateutil>=2.7 in c:\\users\\dell\\anaconda3\\lib\\site-packages (from matplotlib>=3.0.0->mlxtend) (2.8.2)\n",
      "Requirement already satisfied: pyparsing>=2.2.1 in c:\\users\\dell\\anaconda3\\lib\\site-packages (from matplotlib>=3.0.0->mlxtend) (3.0.4)\n",
      "Requirement already satisfied: six in c:\\users\\dell\\anaconda3\\lib\\site-packages (from cycler>=0.10->matplotlib>=3.0.0->mlxtend) (1.16.0)\n",
      "Requirement already satisfied: pytz>=2017.3 in c:\\users\\dell\\anaconda3\\lib\\site-packages (from pandas>=0.24.2->mlxtend) (2021.3)\n",
      "Requirement already satisfied: threadpoolctl>=2.0.0 in c:\\users\\dell\\anaconda3\\lib\\site-packages (from scikit-learn>=1.0.2->mlxtend) (2.2.0)\n",
      "Note: you may need to restart the kernel to use updated packages.\n"
     ]
    }
   ],
   "source": [
    "pip install mlxtend --user\n"
   ]
  },
  {
   "cell_type": "code",
   "execution_count": 2,
   "id": "119823ff",
   "metadata": {},
   "outputs": [],
   "source": [
    "import pandas as pd\n",
    "from mlxtend.feature_selection import SequentialFeatureSelector\n",
    "from sklearn.model_selection import StratifiedShuffleSplit"
   ]
  },
  {
   "cell_type": "code",
   "execution_count": 3,
   "id": "b9c03839",
   "metadata": {},
   "outputs": [],
   "source": [
    "data = pd.read_csv('data_process_v2.csv')\n"
   ]
  },
  {
   "cell_type": "code",
   "execution_count": 4,
   "id": "21cafef1",
   "metadata": {},
   "outputs": [
    {
     "data": {
      "text/plain": [
       "27"
      ]
     },
     "execution_count": 4,
     "metadata": {},
     "output_type": "execute_result"
    }
   ],
   "source": [
    "len(data.columns)"
   ]
  },
  {
   "cell_type": "code",
   "execution_count": 5,
   "id": "cd6829f2",
   "metadata": {},
   "outputs": [],
   "source": [
    "from sklearn.preprocessing import LabelEncoder\n",
    "categorical_cols = data.select_dtypes(include=['object']).columns.tolist()\n",
    "le = LabelEncoder()\n",
    "data = data.copy()\n",
    "data[categorical_cols] = data[categorical_cols].apply(lambda col: le.fit_transform(col))"
   ]
  },
  {
   "cell_type": "code",
   "execution_count": 6,
   "id": "e113866f",
   "metadata": {},
   "outputs": [],
   "source": [
    "# Split the data into training and testing sets\n",
    "# Split the data into features and target variable (if applicable)\n",
    "X = data.drop(columns=['accident_severity', 'time']) # Replace 'target' with the name of your target variable column.\n",
    "y = data['accident_severity'] # Replace 'target' with the name of your target variable column.\n",
    "\n",
    "# Use StratifiedShuffleSplit to split the data into training and test sets\n",
    "sss = StratifiedShuffleSplit(n_splits=1, test_size=0.2, random_state=42)\n",
    "train_index, test_index = next(sss.split(X, y))\n",
    "X_train, X_test = X.iloc[train_index], X.iloc[test_index]\n",
    "y_train, y_test = y.iloc[train_index], y.iloc[test_index]"
   ]
  },
  {
   "cell_type": "code",
   "execution_count": 7,
   "id": "86b1ab9f",
   "metadata": {},
   "outputs": [],
   "source": [
    "from sklearn.linear_model import SGDClassifier"
   ]
  },
  {
   "cell_type": "code",
   "execution_count": 8,
   "id": "4e9dbbc0",
   "metadata": {},
   "outputs": [
    {
     "data": {
      "text/plain": [
       "25"
      ]
     },
     "execution_count": 8,
     "metadata": {},
     "output_type": "execute_result"
    }
   ],
   "source": [
    " X.shape[1]"
   ]
  },
  {
   "cell_type": "code",
   "execution_count": 9,
   "id": "e3bd0400",
   "metadata": {},
   "outputs": [],
   "source": [
    "clf = SGDClassifier()"
   ]
  },
  {
   "cell_type": "code",
   "execution_count": 10,
   "id": "2b63059e",
   "metadata": {},
   "outputs": [
    {
     "name": "stderr",
     "output_type": "stream",
     "text": [
      "[Parallel(n_jobs=1)]: Using backend SequentialBackend with 1 concurrent workers.\n",
      "[Parallel(n_jobs=1)]: Done   1 out of   1 | elapsed:    2.7s remaining:    0.0s\n",
      "[Parallel(n_jobs=1)]: Done  25 out of  25 | elapsed:  1.0min finished\n",
      "\n",
      "[2023-05-04 05:21:32] Features: 24/10 -- score: 0.47326337149633035[Parallel(n_jobs=1)]: Using backend SequentialBackend with 1 concurrent workers.\n",
      "[Parallel(n_jobs=1)]: Done   1 out of   1 | elapsed:    2.0s remaining:    0.0s\n",
      "[Parallel(n_jobs=1)]: Done  24 out of  24 | elapsed:   54.1s finished\n",
      "\n",
      "[2023-05-04 05:22:26] Features: 23/10 -- score: 0.4840370847478953[Parallel(n_jobs=1)]: Using backend SequentialBackend with 1 concurrent workers.\n",
      "[Parallel(n_jobs=1)]: Done   1 out of   1 | elapsed:    2.3s remaining:    0.0s\n",
      "[Parallel(n_jobs=1)]: Done  23 out of  23 | elapsed:   54.7s finished\n",
      "\n",
      "[2023-05-04 05:23:21] Features: 22/10 -- score: 0.4914135816963917[Parallel(n_jobs=1)]: Using backend SequentialBackend with 1 concurrent workers.\n",
      "[Parallel(n_jobs=1)]: Done   1 out of   1 | elapsed:    2.0s remaining:    0.0s\n",
      "[Parallel(n_jobs=1)]: Done  22 out of  22 | elapsed:   44.0s finished\n",
      "\n",
      "[2023-05-04 05:24:05] Features: 21/10 -- score: 0.49721132878478985[Parallel(n_jobs=1)]: Using backend SequentialBackend with 1 concurrent workers.\n",
      "[Parallel(n_jobs=1)]: Done   1 out of   1 | elapsed:    2.0s remaining:    0.0s\n",
      "[Parallel(n_jobs=1)]: Done  21 out of  21 | elapsed:   40.2s finished\n",
      "\n",
      "[2023-05-04 05:24:45] Features: 20/10 -- score: 0.5141552020400415[Parallel(n_jobs=1)]: Using backend SequentialBackend with 1 concurrent workers.\n",
      "[Parallel(n_jobs=1)]: Done   1 out of   1 | elapsed:    1.1s remaining:    0.0s\n",
      "[Parallel(n_jobs=1)]: Done  20 out of  20 | elapsed:   24.4s finished\n",
      "\n",
      "[2023-05-04 05:25:09] Features: 19/10 -- score: 0.5315601475021415[Parallel(n_jobs=1)]: Using backend SequentialBackend with 1 concurrent workers.\n",
      "[Parallel(n_jobs=1)]: Done   1 out of   1 | elapsed:    0.9s remaining:    0.0s\n",
      "[Parallel(n_jobs=1)]: Done  19 out of  19 | elapsed:   24.1s finished\n",
      "\n",
      "[2023-05-04 05:25:34] Features: 18/10 -- score: 0.5414779913549876[Parallel(n_jobs=1)]: Using backend SequentialBackend with 1 concurrent workers.\n",
      "[Parallel(n_jobs=1)]: Done   1 out of   1 | elapsed:    0.9s remaining:    0.0s\n",
      "[Parallel(n_jobs=1)]: Done  18 out of  18 | elapsed:   22.0s finished\n",
      "\n",
      "[2023-05-04 05:25:56] Features: 17/10 -- score: 0.5396699855380017[Parallel(n_jobs=1)]: Using backend SequentialBackend with 1 concurrent workers.\n",
      "[Parallel(n_jobs=1)]: Done   1 out of   1 | elapsed:    3.1s remaining:    0.0s\n",
      "[Parallel(n_jobs=1)]: Done  17 out of  17 | elapsed:   52.6s finished\n",
      "\n",
      "[2023-05-04 05:26:49] Features: 16/10 -- score: 0.5482614512765256[Parallel(n_jobs=1)]: Using backend SequentialBackend with 1 concurrent workers.\n",
      "[Parallel(n_jobs=1)]: Done   1 out of   1 | elapsed:    3.4s remaining:    0.0s\n",
      "[Parallel(n_jobs=1)]: Done  16 out of  16 | elapsed:   49.9s finished\n",
      "\n",
      "[2023-05-04 05:27:39] Features: 15/10 -- score: 0.5426919360277858[Parallel(n_jobs=1)]: Using backend SequentialBackend with 1 concurrent workers.\n",
      "[Parallel(n_jobs=1)]: Done   1 out of   1 | elapsed:    1.7s remaining:    0.0s\n",
      "[Parallel(n_jobs=1)]: Done  15 out of  15 | elapsed:   26.6s finished\n",
      "\n",
      "[2023-05-04 05:28:05] Features: 14/10 -- score: 0.5395487739487985[Parallel(n_jobs=1)]: Using backend SequentialBackend with 1 concurrent workers.\n",
      "[Parallel(n_jobs=1)]: Done   1 out of   1 | elapsed:    1.5s remaining:    0.0s\n",
      "[Parallel(n_jobs=1)]: Done  14 out of  14 | elapsed:   24.2s finished\n",
      "\n",
      "[2023-05-04 05:28:30] Features: 13/10 -- score: 0.5325282308886924[Parallel(n_jobs=1)]: Using backend SequentialBackend with 1 concurrent workers.\n",
      "[Parallel(n_jobs=1)]: Done   1 out of   1 | elapsed:    1.5s remaining:    0.0s\n",
      "[Parallel(n_jobs=1)]: Done  13 out of  13 | elapsed:   18.8s finished\n",
      "\n",
      "[2023-05-04 05:28:48] Features: 12/10 -- score: 0.5226228958962891[Parallel(n_jobs=1)]: Using backend SequentialBackend with 1 concurrent workers.\n",
      "[Parallel(n_jobs=1)]: Done   1 out of   1 | elapsed:    1.9s remaining:    0.0s\n",
      "[Parallel(n_jobs=1)]: Done  12 out of  12 | elapsed:   21.3s finished\n",
      "\n",
      "[2023-05-04 05:29:10] Features: 11/10 -- score: 0.5401565143731195[Parallel(n_jobs=1)]: Using backend SequentialBackend with 1 concurrent workers.\n",
      "[Parallel(n_jobs=1)]: Done   1 out of   1 | elapsed:    1.6s remaining:    0.0s\n",
      "[Parallel(n_jobs=1)]: Done  11 out of  11 | elapsed:   18.1s finished\n",
      "\n",
      "[2023-05-04 05:29:28] Features: 10/10 -- score: 0.5411205744419841"
     ]
    }
   ],
   "source": [
    "backward_feature_elimination = SequentialFeatureSelector(clf,\n",
    "                                                     k_features = 10,\n",
    "                                                     forward = False,\n",
    "                                                     floating= False,\n",
    "                                                     verbose=2,\n",
    "                                                     scoring = \"accuracy\",\n",
    "                                                     cv=5).fit(X_train, y_train)"
   ]
  },
  {
   "cell_type": "code",
   "execution_count": 11,
   "id": "1f24b34b",
   "metadata": {},
   "outputs": [
    {
     "data": {
      "text/plain": [
       "('propulsion_code',\n",
       " 'age_of_vehicle',\n",
       " 'number_of_vehicles',\n",
       " 'day_of_week',\n",
       " 'road_type',\n",
       " 'junction_control',\n",
       " '2nd_road_class',\n",
       " 'pedestrian_crossing-human_control',\n",
       " 'weather_conditions',\n",
       " 'urban_or_rural_area')"
      ]
     },
     "execution_count": 11,
     "metadata": {},
     "output_type": "execute_result"
    }
   ],
   "source": [
    "backward_feature_elimination.k_feature_names_"
   ]
  },
  {
   "cell_type": "code",
   "execution_count": null,
   "id": "a254343a",
   "metadata": {},
   "outputs": [],
   "source": []
  }
 ],
 "metadata": {
  "kernelspec": {
   "display_name": "Python 3 (ipykernel)",
   "language": "python",
   "name": "python3"
  },
  "language_info": {
   "codemirror_mode": {
    "name": "ipython",
    "version": 3
   },
   "file_extension": ".py",
   "mimetype": "text/x-python",
   "name": "python",
   "nbconvert_exporter": "python",
   "pygments_lexer": "ipython3",
   "version": "3.9.7"
  }
 },
 "nbformat": 4,
 "nbformat_minor": 5
}
