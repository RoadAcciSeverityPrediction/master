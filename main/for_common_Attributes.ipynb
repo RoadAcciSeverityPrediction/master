{
 "cells": [
  {
   "cell_type": "code",
   "execution_count": 1,
   "id": "f118a444",
   "metadata": {},
   "outputs": [],
   "source": [
    "import pandas as pd\n",
    "import numpy as np"
   ]
  },
  {
   "cell_type": "code",
   "execution_count": 5,
   "id": "74866269",
   "metadata": {},
   "outputs": [],
   "source": [
    "fs_sdgc = np.array(['towing_and_articulation',\n",
    " 'sex_of_driver',\n",
    " 'propulsion_code',\n",
    " 'age_of_vehicle',\n",
    " 'day_of_week',\n",
    " 'junction_detail',\n",
    " '2nd_road_class',\n",
    " 'light_conditions',\n",
    " 'special_conditions_at_site',\n",
    " 'urban_or_rural_area'])"
   ]
  },
  {
   "cell_type": "code",
   "execution_count": 3,
   "id": "1a758485",
   "metadata": {},
   "outputs": [],
   "source": [
    "fs_rf = np.array(['towing_and_articulation',\n",
    " 'number_of_vehicles',\n",
    " '1st_road_class',\n",
    " '1st_road_number',\n",
    " 'speed_limit',\n",
    " '2nd_road_number',\n",
    " 'pedestrian_crossing-human_control',\n",
    " 'weather_conditions',\n",
    " 'special_conditions_at_site',\n",
    " 'urban_or_rural_area'])"
   ]
  },
  {
   "cell_type": "code",
   "execution_count": 4,
   "id": "1698fa34",
   "metadata": {},
   "outputs": [],
   "source": [
    "be_sdgc =  np.array(['propulsion_code',\n",
    " 'age_of_vehicle',\n",
    " 'number_of_vehicles',\n",
    " 'day_of_week',\n",
    " 'road_type',\n",
    " 'junction_control',\n",
    " '2nd_road_class',\n",
    " 'pedestrian_crossing-human_control',\n",
    " 'weather_conditions',\n",
    " 'urban_or_rural_area'])"
   ]
  },
  {
   "cell_type": "code",
   "execution_count": 6,
   "id": "6d8a7ddb",
   "metadata": {},
   "outputs": [],
   "source": [
    "be_rf = np.array(['engine_capacity_(cc)',\n",
    " 'number_of_vehicles',\n",
    " '1st_road_class',\n",
    " '1st_road_number',\n",
    " 'road_type',\n",
    " 'speed_limit',\n",
    " 'junction_detail',\n",
    " '2nd_road_number',\n",
    " 'light_conditions',\n",
    " 'weather_conditions'])"
   ]
  },
  {
   "cell_type": "code",
   "execution_count": 7,
   "id": "2cf73546",
   "metadata": {},
   "outputs": [],
   "source": [
    "rfe = np.array(['vehicle_type', 'age_of_driver', 'engine_capacity_(cc)',\n",
    "       'age_of_vehicle', 'day_of_week', 'time', '1st_road_number',\n",
    "       'speed_limit', 'junction_detail', 'urban_or_rural_area'])"
   ]
  },
  {
   "cell_type": "code",
   "execution_count": 9,
   "id": "9b4abee6",
   "metadata": {},
   "outputs": [],
   "source": [
    "ba = np.array(['age_of_driver', 'time', '1st_road_number', 'speed_limit',\n",
    "       'urban_or_rural_area'])"
   ]
  },
  {
   "cell_type": "code",
   "execution_count": 22,
   "id": "d3ec943e",
   "metadata": {},
   "outputs": [],
   "source": [
    "#common_attributes = np.intersect1d(fs_sdgc, [be_sdgc,fs_rf, be_rf, rfe, ba])\n",
    "common_attributes = set(fs_sdgc).intersection(fs_rf)"
   ]
  },
  {
   "cell_type": "code",
   "execution_count": 23,
   "id": "149cc545",
   "metadata": {},
   "outputs": [
    {
     "name": "stdout",
     "output_type": "stream",
     "text": [
      "Common attributes: {'urban_or_rural_area', 'towing_and_articulation', 'special_conditions_at_site'}\n"
     ]
    }
   ],
   "source": [
    "print(\"Common attributes:\", common_attributes)"
   ]
  },
  {
   "cell_type": "code",
   "execution_count": 19,
   "id": "1ea8b778",
   "metadata": {},
   "outputs": [],
   "source": [
    "for col in common_attributes:\n",
    "    print(col)"
   ]
  },
  {
   "cell_type": "code",
   "execution_count": 24,
   "id": "583b0f2f",
   "metadata": {},
   "outputs": [
    {
     "name": "stdout",
     "output_type": "stream",
     "text": [
      "Common attributes: {'number_of_vehicles', 'road_type', 'weather_conditions'}\n"
     ]
    }
   ],
   "source": [
    "common_attributes = set(be_sdgc).intersection(be_rf)\n",
    "print(\"Common attributes:\", common_attributes)"
   ]
  },
  {
   "cell_type": "code",
   "execution_count": 25,
   "id": "96d0deea",
   "metadata": {},
   "outputs": [
    {
     "name": "stdout",
     "output_type": "stream",
     "text": [
      "Common attributes: {'age_of_vehicle', 'urban_or_rural_area', 'day_of_week'}\n"
     ]
    }
   ],
   "source": [
    "common_attributes = set(be_sdgc).intersection(rfe)\n",
    "print(\"Common attributes:\", common_attributes)"
   ]
  },
  {
   "cell_type": "code",
   "execution_count": 27,
   "id": "9c8ae730",
   "metadata": {},
   "outputs": [
    {
     "name": "stdout",
     "output_type": "stream",
     "text": [
      "Common attributes: {'1st_road_number', 'speed_limit', 'age_of_driver', 'urban_or_rural_area', 'time'}\n"
     ]
    }
   ],
   "source": [
    "common_attributes = set(ba).intersection(rfe)\n",
    "print(\"Common attributes:\", common_attributes)"
   ]
  },
  {
   "cell_type": "code",
   "execution_count": null,
   "id": "eae893e2",
   "metadata": {},
   "outputs": [],
   "source": []
  }
 ],
 "metadata": {
  "kernelspec": {
   "display_name": "Python 3 (ipykernel)",
   "language": "python",
   "name": "python3"
  },
  "language_info": {
   "codemirror_mode": {
    "name": "ipython",
    "version": 3
   },
   "file_extension": ".py",
   "mimetype": "text/x-python",
   "name": "python",
   "nbconvert_exporter": "python",
   "pygments_lexer": "ipython3",
   "version": "3.9.7"
  }
 },
 "nbformat": 4,
 "nbformat_minor": 5
}
