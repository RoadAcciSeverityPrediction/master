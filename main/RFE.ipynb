{
 "cells": [
  {
   "cell_type": "code",
   "execution_count": 1,
   "id": "336fcdbb",
   "metadata": {},
   "outputs": [
    {
     "name": "stdout",
     "output_type": "stream",
     "text": [
      "Wall time: 2.33 s\n"
     ]
    }
   ],
   "source": [
    "%%time\n",
    "\n",
    "import pandas as pd\n",
    "from sklearn.model_selection import StratifiedShuffleSplit\n",
    "from sklearn.feature_selection import RFE\n",
    "from sklearn.ensemble import RandomForestClassifier\n",
    "from sklearn.model_selection import train_test_split\n",
    "\n",
    "\n",
    "# Load the data\n",
    "data = pd.read_csv('data_process_v2.csv')\n"
   ]
  },
  {
   "cell_type": "code",
   "execution_count": 2,
   "id": "0dbf9020",
   "metadata": {},
   "outputs": [
    {
     "data": {
      "text/plain": [
       "2    3750\n",
       "3    3750\n",
       "1    2836\n",
       "Name: accident_severity, dtype: int64"
      ]
     },
     "execution_count": 2,
     "metadata": {},
     "output_type": "execute_result"
    }
   ],
   "source": [
    "data['accident_severity'].value_counts()"
   ]
  },
  {
   "cell_type": "code",
   "execution_count": 3,
   "id": "4167eb2a",
   "metadata": {},
   "outputs": [
    {
     "name": "stdout",
     "output_type": "stream",
     "text": [
      "Selected Features:  Index(['vehicle_type', 'age_of_driver', 'engine_capacity_(cc)',\n",
      "       'age_of_vehicle', 'day_of_week', 'time', '1st_road_number',\n",
      "       'speed_limit', 'junction_detail', 'urban_or_rural_area'],\n",
      "      dtype='object')\n"
     ]
    }
   ],
   "source": [
    "\n",
    "from sklearn.preprocessing import LabelEncoder\n",
    "categorical_cols = data.select_dtypes(include=['object']).columns.tolist()\n",
    "le = LabelEncoder()\n",
    "data = data.copy()\n",
    "data[categorical_cols] = data[categorical_cols].apply(lambda col: le.fit_transform(col))\n",
    "\n",
    "# Split the data into features and target variable (if applicable)\n",
    "X = data.drop(columns=['accident_severity' ]) # Replace 'target' with the name of your target variable column.\n",
    "y = data['accident_severity'] # Replace 'target' with the name of your target variable column.\n",
    "\n",
    "# Use StratifiedShuffleSplit to split the data into training and test sets\n",
    "sss = StratifiedShuffleSplit(n_splits=1, test_size=0.2, random_state=42)\n",
    "train_index, test_index = next(sss.split(X, y))\n",
    "X_train, X_test = X.iloc[train_index], X.iloc[test_index]\n",
    "y_train, y_test = y.iloc[train_index], y.iloc[test_index]\n",
    "\n",
    "\n",
    "rf = RandomForestClassifier(n_estimators=100, random_state=42)\n",
    "rf.fit(X_train, y_train)\n",
    "\n",
    "# Create a RFE object and fit it to the training set\n",
    "rfe = RFE(estimator=rf, n_features_to_select=10, step=1)\n",
    "rfe.fit(X_train, y_train)\n",
    "\n",
    "# Print the selected features\n",
    "selected_features = X_train.columns[rfe.support_]\n",
    "print('Selected Features: ', selected_features)\n",
    "\n"
   ]
  },
  {
   "cell_type": "code",
   "execution_count": null,
   "id": "6b49da22",
   "metadata": {},
   "outputs": [],
   "source": []
  }
 ],
 "metadata": {
  "kernelspec": {
   "display_name": "Python 3 (ipykernel)",
   "language": "python",
   "name": "python3"
  },
  "language_info": {
   "codemirror_mode": {
    "name": "ipython",
    "version": 3
   },
   "file_extension": ".py",
   "mimetype": "text/x-python",
   "name": "python",
   "nbconvert_exporter": "python",
   "pygments_lexer": "ipython3",
   "version": "3.9.7"
  }
 },
 "nbformat": 4,
 "nbformat_minor": 5
}
