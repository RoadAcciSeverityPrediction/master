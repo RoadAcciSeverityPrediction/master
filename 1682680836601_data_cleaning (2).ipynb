{
 "cells": [
  {
   "cell_type": "code",
   "execution_count": 1,
   "id": "7155f82a-0c3d-4a48-8806-dada00758069",
   "metadata": {},
   "outputs": [],
   "source": [
    "import pandas as pd\n",
    "import numpy as np\n",
    "pd.options.display.max_rows = None"
   ]
  },
  {
   "cell_type": "code",
   "execution_count": 2,
   "id": "bc749558-5b10-414c-9840-71122def2da5",
   "metadata": {
    "tags": []
   },
   "outputs": [],
   "source": [
    "acc_data_cleaning = pd.read_csv(\"acc_data_after_data_exploration.csv\", engine='python')\n"
   ]
  },
  {
   "cell_type": "code",
   "execution_count": 38,
   "id": "611af454-35ec-4095-b5c1-0a3c00f8e570",
   "metadata": {
    "tags": []
   },
   "outputs": [],
   "source": [
    "acc_data_cleaning = acc_data_cleaning[ ['vehicle_type',\n",
    "       'towing_and_articulation', 'vehicle_manoeuvre',\n",
    "       'vehicle_location-restricted_lane', 'junction_location',\n",
    "       'skidding_and_overturning', 'hit_object_in_carriageway',\n",
    "       'vehicle_leaving_carriageway', 'hit_object_off_carriageway',\n",
    "       '1st_point_of_impact', 'was_vehicle_left_hand_drive?',\n",
    "       'journey_purpose_of_driver', 'sex_of_driver', 'age_of_driver',\n",
    "       'age_band_of_driver', 'engine_capacity_(cc)', 'propulsion_code',\n",
    "       'age_of_vehicle', 'driver_home_area_type',\n",
    "       'NUmber_of_Casualities_unique_to_accident_index',\n",
    "       'No_of_Vehicles_involved_unique_to_accident_index',\n",
    "     'longitude',\n",
    "       'latitude', 'police_force', 'accident_severity', 'number_of_vehicles',\n",
    "       'number_of_casualties', 'day_of_week', 'time',\n",
    "       'local_authority_(district)', 'local_authority_(highway)',\n",
    "       '1st_road_class', '1st_road_number', 'road_type', 'speed_limit',\n",
    "       'junction_detail', 'junction_control', '2nd_road_class',\n",
    "       '2nd_road_number', 'pedestrian_crossing-human_control',\n",
    "       'pedestrian_crossing-physical_facilities', 'light_conditions',\n",
    "       'weather_conditions', 'road_surface_conditions',\n",
    "       'special_conditions_at_site', 'carriageway_hazards',\n",
    "       'urban_or_rural_area', 'did_police_officer_attend_scene_of_accident',\n",
    "       'casualty_reference', 'casualty_class',\n",
    "       'sex_of_casualty', 'age_of_casualty', 'age_band_of_casualty',\n",
    "       'casualty_severity', 'pedestrian_location', 'pedestrian_movement',\n",
    "       'car_passenger', 'bus_or_coach_passenger',\n",
    "       'pedestrian_road_maintenance_worker', 'casualty_type',\n",
    "       'casualty_home_area_type', 'casualty_imd_decile']]"
   ]
  },
  {
   "cell_type": "code",
   "execution_count": 39,
   "id": "bf8e2611-c893-4f46-a4fd-eac27fb09672",
   "metadata": {
    "tags": []
   },
   "outputs": [
    {
     "data": {
      "text/plain": [
       "62"
      ]
     },
     "execution_count": 39,
     "metadata": {},
     "output_type": "execute_result"
    }
   ],
   "source": [
    "rows = len(acc_data_cleaning.axes[0])\n",
    "\n",
    "# computing number of columns\n",
    "cols = len(acc_data_cleaning.axes[1])\n",
    "cols"
   ]
  },
  {
   "cell_type": "code",
   "execution_count": 40,
   "id": "c2b2d0df-d163-4bd4-8144-afc0f4d2db5e",
   "metadata": {
    "tags": []
   },
   "outputs": [
    {
     "name": "stdout",
     "output_type": "stream",
     "text": [
      "vehicle_type : 0\n",
      "towing_and_articulation : 0\n",
      "vehicle_manoeuvre : 0\n",
      "vehicle_location-restricted_lane : 0\n",
      "junction_location : 0\n",
      "skidding_and_overturning : 0\n",
      "hit_object_in_carriageway : 0\n",
      "vehicle_leaving_carriageway : 0\n",
      "hit_object_off_carriageway : 0\n",
      "1st_point_of_impact : 0\n",
      "was_vehicle_left_hand_drive? : 0\n",
      "journey_purpose_of_driver : 0\n",
      "sex_of_driver : 0\n",
      "age_of_driver : 0\n",
      "age_band_of_driver : 0\n",
      "engine_capacity_(cc) : 0\n",
      "propulsion_code : 0\n",
      "age_of_vehicle : 0\n",
      "driver_home_area_type : 0\n",
      "NUmber_of_Casualities_unique_to_accident_index : 0\n",
      "No_of_Vehicles_involved_unique_to_accident_index : 0\n",
      "longitude : 0\n",
      "latitude : 0\n",
      "police_force : 0\n",
      "accident_severity : 0\n",
      "number_of_vehicles : 0\n",
      "number_of_casualties : 0\n",
      "day_of_week : 0\n",
      "time : 2\n",
      "local_authority_(district) : 0\n",
      "local_authority_(highway) : 1\n",
      "1st_road_class : 0\n",
      "1st_road_number : 0\n",
      "road_type : 0\n",
      "speed_limit : 0\n",
      "junction_detail : 0\n",
      "junction_control : 0\n",
      "2nd_road_class : 0\n",
      "2nd_road_number : 0\n",
      "pedestrian_crossing-human_control : 0\n",
      "pedestrian_crossing-physical_facilities : 0\n",
      "light_conditions : 0\n",
      "weather_conditions : 0\n",
      "road_surface_conditions : 0\n",
      "special_conditions_at_site : 0\n",
      "carriageway_hazards : 0\n",
      "urban_or_rural_area : 0\n",
      "did_police_officer_attend_scene_of_accident : 0\n",
      "casualty_reference : 0\n",
      "casualty_class : 0\n",
      "sex_of_casualty : 0\n",
      "age_of_casualty : 0\n",
      "age_band_of_casualty : 0\n",
      "casualty_severity : 0\n",
      "pedestrian_location : 0\n",
      "pedestrian_movement : 0\n",
      "car_passenger : 0\n",
      "bus_or_coach_passenger : 0\n",
      "pedestrian_road_maintenance_worker : 0\n",
      "casualty_type : 0\n",
      "casualty_home_area_type : 0\n",
      "casualty_imd_decile : 0\n"
     ]
    }
   ],
   "source": [
    "for column in acc_data_cleaning.columns:\n",
    "    count = acc_data_cleaning[column].value_counts().get(-1,0)\n",
    "    print(f\"{column} : {count}\")"
   ]
  },
  {
   "cell_type": "code",
   "execution_count": 6,
   "id": "e44e43c1-4752-4e6f-ad99-5ebd37e8c344",
   "metadata": {
    "tags": []
   },
   "outputs": [
    {
     "data": {
      "text/plain": [
       "0"
      ]
     },
     "execution_count": 6,
     "metadata": {},
     "output_type": "execute_result"
    }
   ],
   "source": [
    "acc_data_cleaning['vehicle_type'].isna().sum()"
   ]
  },
  {
   "cell_type": "code",
   "execution_count": 7,
   "id": "2409f427-98fb-49bf-a318-f009bdb38a3a",
   "metadata": {
    "tags": []
   },
   "outputs": [],
   "source": [
    "acc_data_cleaning = acc_data_cleaning.replace(-1,np.nan)"
   ]
  },
  {
   "cell_type": "code",
   "execution_count": 8,
   "id": "4f537377-845c-4972-97b2-11ed68cfce77",
   "metadata": {
    "tags": []
   },
   "outputs": [
    {
     "name": "stdout",
     "output_type": "stream",
     "text": [
      "vehicle_type : 0\n",
      "towing_and_articulation : 0\n",
      "vehicle_manoeuvre : 0\n",
      "vehicle_location-restricted_lane : 0\n",
      "junction_location : 0\n",
      "skidding_and_overturning : 0\n",
      "hit_object_in_carriageway : 0\n",
      "vehicle_leaving_carriageway : 0\n",
      "hit_object_off_carriageway : 0\n",
      "1st_point_of_impact : 0\n",
      "was_vehicle_left_hand_drive? : 0\n",
      "journey_purpose_of_driver : 0\n",
      "sex_of_driver : 0\n",
      "age_of_driver : 0\n",
      "age_band_of_driver : 0\n",
      "engine_capacity_(cc) : 0\n",
      "propulsion_code : 0\n",
      "age_of_vehicle : 0\n",
      "driver_home_area_type : 0\n",
      "NUmber_of_Casualities_unique_to_accident_index : 0\n",
      "No_of_Vehicles_involved_unique_to_accident_index : 0\n",
      "longitude : 0\n",
      "latitude : 0\n",
      "police_force : 0\n",
      "accident_severity : 0\n",
      "number_of_vehicles : 0\n",
      "number_of_casualties : 0\n",
      "day_of_week : 0\n",
      "time : 2\n",
      "local_authority_(district) : 0\n",
      "local_authority_(highway) : 1\n",
      "1st_road_class : 0\n",
      "1st_road_number : 0\n",
      "road_type : 0\n",
      "speed_limit : 0\n",
      "junction_detail : 0\n",
      "junction_control : 0\n",
      "2nd_road_class : 0\n",
      "2nd_road_number : 0\n",
      "pedestrian_crossing-human_control : 0\n",
      "pedestrian_crossing-physical_facilities : 0\n",
      "light_conditions : 0\n",
      "weather_conditions : 0\n",
      "road_surface_conditions : 0\n",
      "special_conditions_at_site : 0\n",
      "carriageway_hazards : 0\n",
      "urban_or_rural_area : 0\n",
      "did_police_officer_attend_scene_of_accident : 0\n",
      "casualty_reference : 0\n",
      "casualty_class : 0\n",
      "sex_of_casualty : 0\n",
      "age_of_casualty : 0\n",
      "age_band_of_casualty : 0\n",
      "casualty_severity : 0\n",
      "pedestrian_location : 0\n",
      "pedestrian_movement : 0\n",
      "car_passenger : 0\n",
      "bus_or_coach_passenger : 0\n",
      "pedestrian_road_maintenance_worker : 0\n",
      "casualty_type : 0\n",
      "casualty_home_area_type : 0\n",
      "casualty_imd_decile : 0\n"
     ]
    }
   ],
   "source": [
    "for column in acc_data_cleaning.columns:\n",
    "    count = acc_data_cleaning[column].value_counts().get(-1,0)\n",
    "    print(f\"{column} : {count}\")"
   ]
  },
  {
   "cell_type": "code",
   "execution_count": 9,
   "id": "ae9c5091-33fb-4822-819f-9f38ce475afd",
   "metadata": {
    "tags": []
   },
   "outputs": [
    {
     "data": {
      "text/plain": [
       "20"
      ]
     },
     "execution_count": 9,
     "metadata": {},
     "output_type": "execute_result"
    }
   ],
   "source": [
    "acc_data_cleaning['vehicle_type'].isna().sum()"
   ]
  },
  {
   "cell_type": "code",
   "execution_count": 10,
   "id": "e33dd5ca-8ae1-4a2d-8c8a-b66e9b49f2c5",
   "metadata": {
    "tags": []
   },
   "outputs": [
    {
     "data": {
      "text/plain": [
       "9.0"
      ]
     },
     "execution_count": 10,
     "metadata": {},
     "output_type": "execute_result"
    }
   ],
   "source": [
    "acc_data_cleaning['vehicle_type'].median()"
   ]
  },
  {
   "cell_type": "code",
   "execution_count": 11,
   "id": "e513ed86-6f36-47ce-93f7-aa20e05f0c56",
   "metadata": {
    "tags": []
   },
   "outputs": [],
   "source": [
    "acc_data_cleaning['vehicle_type'] = acc_data_cleaning['vehicle_type'].fillna(acc_data_cleaning['vehicle_type'].median())"
   ]
  },
  {
   "cell_type": "code",
   "execution_count": 12,
   "id": "c2421dc4-bffa-4981-9b88-7ebcbe615fef",
   "metadata": {
    "tags": []
   },
   "outputs": [
    {
     "data": {
      "text/plain": [
       "0"
      ]
     },
     "execution_count": 12,
     "metadata": {},
     "output_type": "execute_result"
    }
   ],
   "source": [
    "acc_data_cleaning['vehicle_type'].isna().sum()"
   ]
  },
  {
   "cell_type": "code",
   "execution_count": 13,
   "id": "9208f4fc-677d-493e-8ccd-0c75d934e60d",
   "metadata": {
    "tags": []
   },
   "outputs": [],
   "source": [
    "# # calculate the median of a column with NaN and -1 values\n",
    "# median = acc_data_cleaning['vehicle_type'].median(skipna=True)\n",
    "# print('Median of column {}: {}'.format(column_name, median))"
   ]
  },
  {
   "cell_type": "code",
   "execution_count": 14,
   "id": "75974205-49de-414b-a078-55a07a205387",
   "metadata": {
    "tags": []
   },
   "outputs": [
    {
     "data": {
      "text/plain": [
       "9.0     126327\n",
       "1.0      19277\n",
       "3.0       9210\n",
       "5.0       7161\n",
       "19.0      6195\n",
       "11.0      5632\n",
       "8.0       4155\n",
       "4.0       2180\n",
       "2.0       2169\n",
       "21.0      1053\n",
       "90.0       752\n",
       "20.0       585\n",
       "10.0       526\n",
       "97.0       243\n",
       "22.0       209\n",
       "98.0       176\n",
       "17.0       103\n",
       "16.0        95\n",
       "18.0        15\n",
       "23.0         9\n",
       "Name: vehicle_type, dtype: int64"
      ]
     },
     "execution_count": 14,
     "metadata": {},
     "output_type": "execute_result"
    }
   ],
   "source": [
    "acc_data_cleaning['vehicle_type'].value_counts()"
   ]
  },
  {
   "cell_type": "code",
   "execution_count": 15,
   "id": "6207a9bd-8830-4fb3-935e-1bd8ecbb9e26",
   "metadata": {},
   "outputs": [
    {
     "data": {
      "text/plain": [
       "62"
      ]
     },
     "execution_count": 15,
     "metadata": {},
     "output_type": "execute_result"
    }
   ],
   "source": [
    "cola=  acc_data_cleaning.shape[1]\n",
    "cola"
   ]
  },
  {
   "cell_type": "code",
   "execution_count": 17,
   "id": "a9239a77-8bfc-4344-b122-91171f5f6309",
   "metadata": {
    "tags": []
   },
   "outputs": [
    {
     "ename": "KeyError",
     "evalue": "'vehicle_imd_decile'",
     "output_type": "error",
     "traceback": [
      "\u001b[1;31m---------------------------------------------------------------------------\u001b[0m",
      "\u001b[1;31mKeyError\u001b[0m                                  Traceback (most recent call last)",
      "\u001b[1;32m~\\anaconda3\\lib\\site-packages\\pandas\\core\\indexes\\base.py\u001b[0m in \u001b[0;36mget_loc\u001b[1;34m(self, key, method, tolerance)\u001b[0m\n\u001b[0;32m   3360\u001b[0m             \u001b[1;32mtry\u001b[0m\u001b[1;33m:\u001b[0m\u001b[1;33m\u001b[0m\u001b[1;33m\u001b[0m\u001b[0m\n\u001b[1;32m-> 3361\u001b[1;33m                 \u001b[1;32mreturn\u001b[0m \u001b[0mself\u001b[0m\u001b[1;33m.\u001b[0m\u001b[0m_engine\u001b[0m\u001b[1;33m.\u001b[0m\u001b[0mget_loc\u001b[0m\u001b[1;33m(\u001b[0m\u001b[0mcasted_key\u001b[0m\u001b[1;33m)\u001b[0m\u001b[1;33m\u001b[0m\u001b[1;33m\u001b[0m\u001b[0m\n\u001b[0m\u001b[0;32m   3362\u001b[0m             \u001b[1;32mexcept\u001b[0m \u001b[0mKeyError\u001b[0m \u001b[1;32mas\u001b[0m \u001b[0merr\u001b[0m\u001b[1;33m:\u001b[0m\u001b[1;33m\u001b[0m\u001b[1;33m\u001b[0m\u001b[0m\n",
      "\u001b[1;32m~\\anaconda3\\lib\\site-packages\\pandas\\_libs\\index.pyx\u001b[0m in \u001b[0;36mpandas._libs.index.IndexEngine.get_loc\u001b[1;34m()\u001b[0m\n",
      "\u001b[1;32m~\\anaconda3\\lib\\site-packages\\pandas\\_libs\\index.pyx\u001b[0m in \u001b[0;36mpandas._libs.index.IndexEngine.get_loc\u001b[1;34m()\u001b[0m\n",
      "\u001b[1;32mpandas\\_libs\\hashtable_class_helper.pxi\u001b[0m in \u001b[0;36mpandas._libs.hashtable.PyObjectHashTable.get_item\u001b[1;34m()\u001b[0m\n",
      "\u001b[1;32mpandas\\_libs\\hashtable_class_helper.pxi\u001b[0m in \u001b[0;36mpandas._libs.hashtable.PyObjectHashTable.get_item\u001b[1;34m()\u001b[0m\n",
      "\u001b[1;31mKeyError\u001b[0m: 'vehicle_imd_decile'",
      "\nThe above exception was the direct cause of the following exception:\n",
      "\u001b[1;31mKeyError\u001b[0m                                  Traceback (most recent call last)",
      "\u001b[1;32m~\\AppData\\Local\\Temp/ipykernel_11892/3145669095.py\u001b[0m in \u001b[0;36m<module>\u001b[1;34m\u001b[0m\n\u001b[0;32m      8\u001b[0m \u001b[1;31m# the nan value is present for more than half of the rows entry , so lets decide later\u001b[0m\u001b[1;33m\u001b[0m\u001b[1;33m\u001b[0m\u001b[0m\n\u001b[0;32m      9\u001b[0m \u001b[1;31m# value_Counts = acc_data_cleaning.apply(pd.Series.value_counts, dropna = False)\u001b[0m\u001b[1;33m\u001b[0m\u001b[1;33m\u001b[0m\u001b[0m\n\u001b[1;32m---> 10\u001b[1;33m \u001b[0macc_data_cleaning\u001b[0m\u001b[1;33m[\u001b[0m\u001b[1;34m'vehicle_imd_decile'\u001b[0m\u001b[1;33m]\u001b[0m\u001b[1;33m.\u001b[0m\u001b[0mvalue_counts\u001b[0m\u001b[1;33m(\u001b[0m\u001b[0mdropna\u001b[0m\u001b[1;33m=\u001b[0m\u001b[1;32mFalse\u001b[0m\u001b[1;33m)\u001b[0m\u001b[1;33m\u001b[0m\u001b[1;33m\u001b[0m\u001b[0m\n\u001b[0m",
      "\u001b[1;32m~\\anaconda3\\lib\\site-packages\\pandas\\core\\frame.py\u001b[0m in \u001b[0;36m__getitem__\u001b[1;34m(self, key)\u001b[0m\n\u001b[0;32m   3456\u001b[0m             \u001b[1;32mif\u001b[0m \u001b[0mself\u001b[0m\u001b[1;33m.\u001b[0m\u001b[0mcolumns\u001b[0m\u001b[1;33m.\u001b[0m\u001b[0mnlevels\u001b[0m \u001b[1;33m>\u001b[0m \u001b[1;36m1\u001b[0m\u001b[1;33m:\u001b[0m\u001b[1;33m\u001b[0m\u001b[1;33m\u001b[0m\u001b[0m\n\u001b[0;32m   3457\u001b[0m                 \u001b[1;32mreturn\u001b[0m \u001b[0mself\u001b[0m\u001b[1;33m.\u001b[0m\u001b[0m_getitem_multilevel\u001b[0m\u001b[1;33m(\u001b[0m\u001b[0mkey\u001b[0m\u001b[1;33m)\u001b[0m\u001b[1;33m\u001b[0m\u001b[1;33m\u001b[0m\u001b[0m\n\u001b[1;32m-> 3458\u001b[1;33m             \u001b[0mindexer\u001b[0m \u001b[1;33m=\u001b[0m \u001b[0mself\u001b[0m\u001b[1;33m.\u001b[0m\u001b[0mcolumns\u001b[0m\u001b[1;33m.\u001b[0m\u001b[0mget_loc\u001b[0m\u001b[1;33m(\u001b[0m\u001b[0mkey\u001b[0m\u001b[1;33m)\u001b[0m\u001b[1;33m\u001b[0m\u001b[1;33m\u001b[0m\u001b[0m\n\u001b[0m\u001b[0;32m   3459\u001b[0m             \u001b[1;32mif\u001b[0m \u001b[0mis_integer\u001b[0m\u001b[1;33m(\u001b[0m\u001b[0mindexer\u001b[0m\u001b[1;33m)\u001b[0m\u001b[1;33m:\u001b[0m\u001b[1;33m\u001b[0m\u001b[1;33m\u001b[0m\u001b[0m\n\u001b[0;32m   3460\u001b[0m                 \u001b[0mindexer\u001b[0m \u001b[1;33m=\u001b[0m \u001b[1;33m[\u001b[0m\u001b[0mindexer\u001b[0m\u001b[1;33m]\u001b[0m\u001b[1;33m\u001b[0m\u001b[1;33m\u001b[0m\u001b[0m\n",
      "\u001b[1;32m~\\anaconda3\\lib\\site-packages\\pandas\\core\\indexes\\base.py\u001b[0m in \u001b[0;36mget_loc\u001b[1;34m(self, key, method, tolerance)\u001b[0m\n\u001b[0;32m   3361\u001b[0m                 \u001b[1;32mreturn\u001b[0m \u001b[0mself\u001b[0m\u001b[1;33m.\u001b[0m\u001b[0m_engine\u001b[0m\u001b[1;33m.\u001b[0m\u001b[0mget_loc\u001b[0m\u001b[1;33m(\u001b[0m\u001b[0mcasted_key\u001b[0m\u001b[1;33m)\u001b[0m\u001b[1;33m\u001b[0m\u001b[1;33m\u001b[0m\u001b[0m\n\u001b[0;32m   3362\u001b[0m             \u001b[1;32mexcept\u001b[0m \u001b[0mKeyError\u001b[0m \u001b[1;32mas\u001b[0m \u001b[0merr\u001b[0m\u001b[1;33m:\u001b[0m\u001b[1;33m\u001b[0m\u001b[1;33m\u001b[0m\u001b[0m\n\u001b[1;32m-> 3363\u001b[1;33m                 \u001b[1;32mraise\u001b[0m \u001b[0mKeyError\u001b[0m\u001b[1;33m(\u001b[0m\u001b[0mkey\u001b[0m\u001b[1;33m)\u001b[0m \u001b[1;32mfrom\u001b[0m \u001b[0merr\u001b[0m\u001b[1;33m\u001b[0m\u001b[1;33m\u001b[0m\u001b[0m\n\u001b[0m\u001b[0;32m   3364\u001b[0m \u001b[1;33m\u001b[0m\u001b[0m\n\u001b[0;32m   3365\u001b[0m         \u001b[1;32mif\u001b[0m \u001b[0mis_scalar\u001b[0m\u001b[1;33m(\u001b[0m\u001b[0mkey\u001b[0m\u001b[1;33m)\u001b[0m \u001b[1;32mand\u001b[0m \u001b[0misna\u001b[0m\u001b[1;33m(\u001b[0m\u001b[0mkey\u001b[0m\u001b[1;33m)\u001b[0m \u001b[1;32mand\u001b[0m \u001b[1;32mnot\u001b[0m \u001b[0mself\u001b[0m\u001b[1;33m.\u001b[0m\u001b[0mhasnans\u001b[0m\u001b[1;33m:\u001b[0m\u001b[1;33m\u001b[0m\u001b[1;33m\u001b[0m\u001b[0m\n",
      "\u001b[1;31mKeyError\u001b[0m: 'vehicle_imd_decile'"
     ]
    }
   ],
   "source": [
    "# #engine_capacity_(cc)                                 51565\n",
    "# propulsion_code                                      51290\n",
    "# age_of_vehicle                                       58621\n",
    "\n",
    "# vehicle_imd_decile                                  186072\n",
    "# junction_control                                     76621\n",
    "# 2nd_road_class                                       77325\n",
    "# the nan value is present for more than half of the rows entry , so lets decide later\n",
    "# value_Counts = acc_data_cleaning.apply(pd.Series.value_counts, dropna = False)\n",
    "acc_data_cleaning['vehicle_imd_decile'].value_counts(dropna=False)\n"
   ]
  },
  {
   "cell_type": "code",
   "execution_count": 18,
   "id": "5ab37d39-3aab-4504-8236-80e10bcd09c0",
   "metadata": {
    "tags": []
   },
   "outputs": [
    {
     "data": {
      "text/plain": [
       "['skidding_and_overturning',\n",
       " 'hit_object_in_carriageway',\n",
       " 'vehicle_leaving_carriageway',\n",
       " 'hit_object_off_carriageway',\n",
       " '1st_point_of_impact',\n",
       " 'was_vehicle_left_hand_drive?',\n",
       " 'journey_purpose_of_driver',\n",
       " 'sex_of_driver',\n",
       " 'age_of_driver',\n",
       " 'age_band_of_driver',\n",
       " 'driver_home_area_type',\n",
       " 'junction_detail',\n",
       " '2nd_road_number',\n",
       " 'pedestrian_crossing-human_control',\n",
       " 'pedestrian_crossing-physical_facilities',\n",
       " 'road_surface_conditions',\n",
       " 'special_conditions_at_site',\n",
       " 'carriageway_hazards',\n",
       " 'did_police_officer_attend_scene_of_accident',\n",
       " 'sex_of_casualty',\n",
       " 'age_of_casualty',\n",
       " 'age_band_of_casualty',\n",
       " 'pedestrian_location',\n",
       " 'pedestrian_movement',\n",
       " 'car_passenger',\n",
       " 'bus_or_coach_passenger',\n",
       " 'pedestrian_road_maintenance_worker',\n",
       " 'casualty_home_area_type',\n",
       " 'casualty_imd_decile']"
      ]
     },
     "execution_count": 18,
     "metadata": {},
     "output_type": "execute_result"
    }
   ],
   "source": [
    "replace_cols = [\n",
    "       'skidding_and_overturning', 'hit_object_in_carriageway',\n",
    "       'vehicle_leaving_carriageway', 'hit_object_off_carriageway',\n",
    "       '1st_point_of_impact', 'was_vehicle_left_hand_drive?',\n",
    "       'journey_purpose_of_driver', 'sex_of_driver', 'age_of_driver',\n",
    "       'age_band_of_driver', 'driver_home_area_type',\n",
    "       'junction_detail',\n",
    "       '2nd_road_number', 'pedestrian_crossing-human_control',\n",
    "       'pedestrian_crossing-physical_facilities',  'road_surface_conditions',\n",
    "       'special_conditions_at_site', 'carriageway_hazards',\n",
    "       'did_police_officer_attend_scene_of_accident',\n",
    "     'sex_of_casualty',\n",
    "       'age_of_casualty', 'age_band_of_casualty',\n",
    "       'pedestrian_location', 'pedestrian_movement', 'car_passenger',\n",
    "       'bus_or_coach_passenger', 'pedestrian_road_maintenance_worker',\n",
    "       'casualty_home_area_type', 'casualty_imd_decile']\n",
    "replace_cols"
   ]
  },
  {
   "cell_type": "code",
   "execution_count": 19,
   "id": "334af710-5385-4fd3-b62a-9cf187405fbd",
   "metadata": {
    "tags": []
   },
   "outputs": [],
   "source": [
    "#replacing with median with analysis\n",
    "\n",
    "col_median = acc_data_cleaning[replace_cols].median()\n",
    "col_median\n",
    "for col in replace_cols:\n",
    "    median = col_median[col]\n",
    "    acc_data_cleaning[col + '_median'] = median\n",
    "    acc_data_cleaning[col] = acc_data_cleaning[col].fillna(median)"
   ]
  },
  {
   "cell_type": "code",
   "execution_count": 41,
   "id": "3ff6a3ae-9e3e-453f-846e-2a6a721de9a9",
   "metadata": {
    "tags": []
   },
   "outputs": [
    {
     "data": {
      "text/plain": [
       "vehicle_type                                        0\n",
       "towing_and_articulation                             0\n",
       "vehicle_manoeuvre                                   0\n",
       "vehicle_location-restricted_lane                    0\n",
       "junction_location                                   0\n",
       "skidding_and_overturning                            0\n",
       "hit_object_in_carriageway                           0\n",
       "vehicle_leaving_carriageway                         0\n",
       "hit_object_off_carriageway                          0\n",
       "1st_point_of_impact                                 0\n",
       "was_vehicle_left_hand_drive?                        0\n",
       "journey_purpose_of_driver                           0\n",
       "sex_of_driver                                       0\n",
       "age_of_driver                                       0\n",
       "age_band_of_driver                                  0\n",
       "engine_capacity_(cc)                                0\n",
       "propulsion_code                                     0\n",
       "age_of_vehicle                                      0\n",
       "driver_home_area_type                               0\n",
       "NUmber_of_Casualities_unique_to_accident_index      0\n",
       "No_of_Vehicles_involved_unique_to_accident_index    0\n",
       "longitude                                           0\n",
       "latitude                                            0\n",
       "police_force                                        0\n",
       "accident_severity                                   0\n",
       "number_of_vehicles                                  0\n",
       "number_of_casualties                                0\n",
       "day_of_week                                         0\n",
       "time                                                0\n",
       "local_authority_(district)                          0\n",
       "local_authority_(highway)                           0\n",
       "1st_road_class                                      0\n",
       "1st_road_number                                     0\n",
       "road_type                                           0\n",
       "speed_limit                                         0\n",
       "junction_detail                                     0\n",
       "junction_control                                    0\n",
       "2nd_road_class                                      0\n",
       "2nd_road_number                                     0\n",
       "pedestrian_crossing-human_control                   0\n",
       "pedestrian_crossing-physical_facilities             0\n",
       "light_conditions                                    0\n",
       "weather_conditions                                  0\n",
       "road_surface_conditions                             0\n",
       "special_conditions_at_site                          0\n",
       "carriageway_hazards                                 0\n",
       "urban_or_rural_area                                 0\n",
       "did_police_officer_attend_scene_of_accident         0\n",
       "casualty_reference                                  0\n",
       "casualty_class                                      0\n",
       "sex_of_casualty                                     0\n",
       "age_of_casualty                                     0\n",
       "age_band_of_casualty                                0\n",
       "casualty_severity                                   0\n",
       "pedestrian_location                                 0\n",
       "pedestrian_movement                                 0\n",
       "car_passenger                                       0\n",
       "bus_or_coach_passenger                              0\n",
       "pedestrian_road_maintenance_worker                  0\n",
       "casualty_type                                       0\n",
       "casualty_home_area_type                             0\n",
       "casualty_imd_decile                                 0\n",
       "dtype: int64"
      ]
     },
     "execution_count": 41,
     "metadata": {},
     "output_type": "execute_result"
    }
   ],
   "source": [
    "acc_data_cleaning.isna().sum()"
   ]
  },
  {
   "cell_type": "code",
   "execution_count": 21,
   "id": "4f84d68b-9ac3-4a1c-9985-3d65ad40b52b",
   "metadata": {
    "tags": []
   },
   "outputs": [
    {
     "data": {
      "text/plain": [
       "4.0    88946\n",
       "NaN    76621\n",
       "2.0    19294\n",
       "3.0      997\n",
       "1.0      214\n",
       "Name: junction_control, dtype: int64"
      ]
     },
     "execution_count": 21,
     "metadata": {},
     "output_type": "execute_result"
    }
   ],
   "source": [
    "acc_data_cleaning['junction_control'].value_counts(dropna=False)"
   ]
  },
  {
   "cell_type": "code",
   "execution_count": 22,
   "id": "52badd41-dd9d-453b-bfdf-ee241b0dc045",
   "metadata": {
    "scrolled": true,
    "tags": []
   },
   "outputs": [
    {
     "data": {
      "text/plain": [
       "NaN    77325\n",
       "6.0    74130\n",
       "3.0    17793\n",
       "5.0     8060\n",
       "4.0     7422\n",
       "1.0     1200\n",
       "2.0      142\n",
       "Name: 2nd_road_class, dtype: int64"
      ]
     },
     "execution_count": 22,
     "metadata": {},
     "output_type": "execute_result"
    }
   ],
   "source": [
    "acc_data_cleaning['2nd_road_class'].value_counts(dropna=False)"
   ]
  },
  {
   "cell_type": "code",
   "execution_count": 23,
   "id": "81692a75-2330-4325-9ad8-048bec26b482",
   "metadata": {
    "tags": []
   },
   "outputs": [
    {
     "data": {
      "text/plain": [
       "Index(['vehicle_type', 'towing_and_articulation', 'vehicle_manoeuvre',\n",
       "       'vehicle_location-restricted_lane', 'junction_location',\n",
       "       'skidding_and_overturning', 'hit_object_in_carriageway',\n",
       "       'vehicle_leaving_carriageway', 'hit_object_off_carriageway',\n",
       "       '1st_point_of_impact', 'was_vehicle_left_hand_drive?',\n",
       "       'journey_purpose_of_driver', 'sex_of_driver', 'age_of_driver',\n",
       "       'age_band_of_driver', 'engine_capacity_(cc)', 'propulsion_code',\n",
       "       'age_of_vehicle', 'driver_home_area_type',\n",
       "       'NUmber_of_Casualities_unique_to_accident_index',\n",
       "       'No_of_Vehicles_involved_unique_to_accident_index', 'longitude',\n",
       "       'latitude', 'police_force', 'accident_severity', 'number_of_vehicles',\n",
       "       'number_of_casualties', 'day_of_week', 'time',\n",
       "       'local_authority_(district)', 'local_authority_(highway)',\n",
       "       '1st_road_class', '1st_road_number', 'road_type', 'speed_limit',\n",
       "       'junction_detail', 'junction_control', '2nd_road_class',\n",
       "       '2nd_road_number', 'pedestrian_crossing-human_control',\n",
       "       'pedestrian_crossing-physical_facilities', 'light_conditions',\n",
       "       'weather_conditions', 'road_surface_conditions',\n",
       "       'special_conditions_at_site', 'carriageway_hazards',\n",
       "       'urban_or_rural_area', 'did_police_officer_attend_scene_of_accident',\n",
       "       'casualty_reference', 'casualty_class', 'sex_of_casualty',\n",
       "       'age_of_casualty', 'age_band_of_casualty', 'casualty_severity',\n",
       "       'pedestrian_location', 'pedestrian_movement', 'car_passenger',\n",
       "       'bus_or_coach_passenger', 'pedestrian_road_maintenance_worker',\n",
       "       'casualty_type', 'casualty_home_area_type', 'casualty_imd_decile',\n",
       "       'skidding_and_overturning_median', 'hit_object_in_carriageway_median',\n",
       "       'vehicle_leaving_carriageway_median',\n",
       "       'hit_object_off_carriageway_median', '1st_point_of_impact_median',\n",
       "       'was_vehicle_left_hand_drive?_median',\n",
       "       'journey_purpose_of_driver_median', 'sex_of_driver_median',\n",
       "       'age_of_driver_median', 'age_band_of_driver_median',\n",
       "       'driver_home_area_type_median', 'junction_detail_median',\n",
       "       '2nd_road_number_median', 'pedestrian_crossing-human_control_median',\n",
       "       'pedestrian_crossing-physical_facilities_median',\n",
       "       'road_surface_conditions_median', 'special_conditions_at_site_median',\n",
       "       'carriageway_hazards_median',\n",
       "       'did_police_officer_attend_scene_of_accident_median',\n",
       "       'sex_of_casualty_median', 'age_of_casualty_median',\n",
       "       'age_band_of_casualty_median', 'pedestrian_location_median',\n",
       "       'pedestrian_movement_median', 'car_passenger_median',\n",
       "       'bus_or_coach_passenger_median',\n",
       "       'pedestrian_road_maintenance_worker_median',\n",
       "       'casualty_home_area_type_median', 'casualty_imd_decile_median'],\n",
       "      dtype='object')"
      ]
     },
     "execution_count": 23,
     "metadata": {},
     "output_type": "execute_result"
    }
   ],
   "source": [
    "acc_data_cleaning.columns"
   ]
  },
  {
   "cell_type": "code",
   "execution_count": 24,
   "id": "d990b9e2-1a31-47cc-9f0b-6388df34f7c0",
   "metadata": {
    "tags": []
   },
   "outputs": [
    {
     "data": {
      "text/plain": [
       "0"
      ]
     },
     "execution_count": 24,
     "metadata": {},
     "output_type": "execute_result"
    }
   ],
   "source": [
    "# acc_data_cleaning['vehicle_manoeuvre'].value_counts()\n",
    "# acc_data_cleaning['vehicle_manoeuvre'].mean()\n",
    "acc_data_cleaning['vehicle_manoeuvre'] = acc_data_cleaning['vehicle_manoeuvre'].fillna(acc_data_cleaning['vehicle_manoeuvre'].median())\n",
    "acc_data_cleaning['vehicle_manoeuvre'].isna().sum()"
   ]
  },
  {
   "cell_type": "code",
   "execution_count": 25,
   "id": "e673de42-bc8b-4db4-b2a8-ce521b9d578a",
   "metadata": {
    "tags": []
   },
   "outputs": [
    {
     "data": {
      "text/plain": [
       "0"
      ]
     },
     "execution_count": 25,
     "metadata": {},
     "output_type": "execute_result"
    }
   ],
   "source": [
    "acc_data_cleaning['junction_location'].value_counts()\n",
    "acc_data_cleaning['junction_location'].median()\n",
    "acc_data_cleaning['junction_location'] = acc_data_cleaning['junction_location'].fillna(acc_data_cleaning['junction_location'].median())\n",
    "acc_data_cleaning['junction_location'].isna().sum()"
   ]
  },
  {
   "cell_type": "code",
   "execution_count": 26,
   "id": "d6a37960-95c7-4258-964b-17abd980e057",
   "metadata": {
    "tags": []
   },
   "outputs": [
    {
     "data": {
      "text/plain": [
       "0"
      ]
     },
     "execution_count": 26,
     "metadata": {},
     "output_type": "execute_result"
    }
   ],
   "source": [
    "acc_data_cleaning['junction_control'].value_counts()\n",
    "acc_data_cleaning['junction_control'].median()\n",
    "acc_data_cleaning['junction_control'] = acc_data_cleaning['junction_location'].fillna(acc_data_cleaning['junction_location'].median())\n",
    "acc_data_cleaning['junction_control'].isna().sum()\n",
    "acc_data_cleaning['2nd_road_class'].value_counts()\n",
    "acc_data_cleaning['2nd_road_class'].median()\n",
    "acc_data_cleaning['2nd_road_class'] = acc_data_cleaning['junction_location'].fillna(acc_data_cleaning['junction_location'].median())\n",
    "acc_data_cleaning['2nd_road_class'].isna().sum()"
   ]
  },
  {
   "cell_type": "code",
   "execution_count": 27,
   "id": "6e0bfb1b-acd9-4f2f-93ad-0bd419744ac7",
   "metadata": {
    "tags": []
   },
   "outputs": [
    {
     "ename": "KeyboardInterrupt",
     "evalue": "",
     "output_type": "error",
     "traceback": [
      "\u001b[1;31m---------------------------------------------------------------------------\u001b[0m",
      "\u001b[1;31mKeyboardInterrupt\u001b[0m                         Traceback (most recent call last)",
      "\u001b[1;32m~\\AppData\\Local\\Temp/ipykernel_11892/167535218.py\u001b[0m in \u001b[0;36m<module>\u001b[1;34m\u001b[0m\n\u001b[0;32m      7\u001b[0m \u001b[1;31m#calculate data-center point for longitude and latitude\u001b[0m\u001b[1;33m\u001b[0m\u001b[1;33m\u001b[0m\u001b[0m\n\u001b[0;32m      8\u001b[0m \u001b[1;32mimport\u001b[0m \u001b[0mnumpy\u001b[0m \u001b[1;32mas\u001b[0m \u001b[0mnp\u001b[0m\u001b[1;33m\u001b[0m\u001b[1;33m\u001b[0m\u001b[0m\n\u001b[1;32m----> 9\u001b[1;33m \u001b[1;32mimport\u001b[0m \u001b[0mseaborn\u001b[0m \u001b[1;32mas\u001b[0m \u001b[0msns\u001b[0m\u001b[1;33m\u001b[0m\u001b[1;33m\u001b[0m\u001b[0m\n\u001b[0m\u001b[0;32m     10\u001b[0m \u001b[1;32mimport\u001b[0m \u001b[0mmatplotlib\u001b[0m\u001b[1;33m.\u001b[0m\u001b[0mpyplot\u001b[0m \u001b[1;32mas\u001b[0m \u001b[0mplt\u001b[0m\u001b[1;33m\u001b[0m\u001b[1;33m\u001b[0m\u001b[0m\n\u001b[0;32m     11\u001b[0m \u001b[1;33m\u001b[0m\u001b[0m\n",
      "\u001b[1;32m~\\anaconda3\\lib\\site-packages\\seaborn\\__init__.py\u001b[0m in \u001b[0;36m<module>\u001b[1;34m\u001b[0m\n\u001b[0;32m      1\u001b[0m \u001b[1;31m# Import seaborn objects\u001b[0m\u001b[1;33m\u001b[0m\u001b[1;33m\u001b[0m\u001b[0m\n\u001b[1;32m----> 2\u001b[1;33m \u001b[1;32mfrom\u001b[0m \u001b[1;33m.\u001b[0m\u001b[0mrcmod\u001b[0m \u001b[1;32mimport\u001b[0m \u001b[1;33m*\u001b[0m  \u001b[1;31m# noqa: F401,F403\u001b[0m\u001b[1;33m\u001b[0m\u001b[1;33m\u001b[0m\u001b[0m\n\u001b[0m\u001b[0;32m      3\u001b[0m \u001b[1;32mfrom\u001b[0m \u001b[1;33m.\u001b[0m\u001b[0mutils\u001b[0m \u001b[1;32mimport\u001b[0m \u001b[1;33m*\u001b[0m  \u001b[1;31m# noqa: F401,F403\u001b[0m\u001b[1;33m\u001b[0m\u001b[1;33m\u001b[0m\u001b[0m\n\u001b[0;32m      4\u001b[0m \u001b[1;32mfrom\u001b[0m \u001b[1;33m.\u001b[0m\u001b[0mpalettes\u001b[0m \u001b[1;32mimport\u001b[0m \u001b[1;33m*\u001b[0m  \u001b[1;31m# noqa: F401,F403\u001b[0m\u001b[1;33m\u001b[0m\u001b[1;33m\u001b[0m\u001b[0m\n\u001b[0;32m      5\u001b[0m \u001b[1;32mfrom\u001b[0m \u001b[1;33m.\u001b[0m\u001b[0mrelational\u001b[0m \u001b[1;32mimport\u001b[0m \u001b[1;33m*\u001b[0m  \u001b[1;31m# noqa: F401,F403\u001b[0m\u001b[1;33m\u001b[0m\u001b[1;33m\u001b[0m\u001b[0m\n",
      "\u001b[1;32m~\\anaconda3\\lib\\site-packages\\seaborn\\rcmod.py\u001b[0m in \u001b[0;36m<module>\u001b[1;34m\u001b[0m\n\u001b[0;32m      5\u001b[0m \u001b[1;32mimport\u001b[0m \u001b[0mmatplotlib\u001b[0m \u001b[1;32mas\u001b[0m \u001b[0mmpl\u001b[0m\u001b[1;33m\u001b[0m\u001b[1;33m\u001b[0m\u001b[0m\n\u001b[0;32m      6\u001b[0m \u001b[1;32mfrom\u001b[0m \u001b[0mcycler\u001b[0m \u001b[1;32mimport\u001b[0m \u001b[0mcycler\u001b[0m\u001b[1;33m\u001b[0m\u001b[1;33m\u001b[0m\u001b[0m\n\u001b[1;32m----> 7\u001b[1;33m \u001b[1;32mfrom\u001b[0m \u001b[1;33m.\u001b[0m \u001b[1;32mimport\u001b[0m \u001b[0mpalettes\u001b[0m\u001b[1;33m\u001b[0m\u001b[1;33m\u001b[0m\u001b[0m\n\u001b[0m\u001b[0;32m      8\u001b[0m \u001b[1;33m\u001b[0m\u001b[0m\n\u001b[0;32m      9\u001b[0m \u001b[1;33m\u001b[0m\u001b[0m\n",
      "\u001b[1;32m~\\anaconda3\\lib\\site-packages\\seaborn\\palettes.py\u001b[0m in \u001b[0;36m<module>\u001b[1;34m\u001b[0m\n\u001b[0;32m      7\u001b[0m \u001b[1;32mfrom\u001b[0m \u001b[1;33m.\u001b[0m\u001b[0mexternal\u001b[0m \u001b[1;32mimport\u001b[0m \u001b[0mhusl\u001b[0m\u001b[1;33m\u001b[0m\u001b[1;33m\u001b[0m\u001b[0m\n\u001b[0;32m      8\u001b[0m \u001b[1;33m\u001b[0m\u001b[0m\n\u001b[1;32m----> 9\u001b[1;33m \u001b[1;32mfrom\u001b[0m \u001b[1;33m.\u001b[0m\u001b[0mutils\u001b[0m \u001b[1;32mimport\u001b[0m \u001b[0mdesaturate\u001b[0m\u001b[1;33m,\u001b[0m \u001b[0mget_color_cycle\u001b[0m\u001b[1;33m\u001b[0m\u001b[1;33m\u001b[0m\u001b[0m\n\u001b[0m\u001b[0;32m     10\u001b[0m \u001b[1;32mfrom\u001b[0m \u001b[1;33m.\u001b[0m\u001b[0mcolors\u001b[0m \u001b[1;32mimport\u001b[0m \u001b[0mxkcd_rgb\u001b[0m\u001b[1;33m,\u001b[0m \u001b[0mcrayons\u001b[0m\u001b[1;33m\u001b[0m\u001b[1;33m\u001b[0m\u001b[0m\n\u001b[0;32m     11\u001b[0m \u001b[1;33m\u001b[0m\u001b[0m\n",
      "\u001b[1;32m~\\anaconda3\\lib\\site-packages\\seaborn\\utils.py\u001b[0m in \u001b[0;36m<module>\u001b[1;34m\u001b[0m\n\u001b[0;32m      8\u001b[0m \u001b[1;33m\u001b[0m\u001b[0m\n\u001b[0;32m      9\u001b[0m \u001b[1;32mimport\u001b[0m \u001b[0mnumpy\u001b[0m \u001b[1;32mas\u001b[0m \u001b[0mnp\u001b[0m\u001b[1;33m\u001b[0m\u001b[1;33m\u001b[0m\u001b[0m\n\u001b[1;32m---> 10\u001b[1;33m \u001b[1;32mfrom\u001b[0m \u001b[0mscipy\u001b[0m \u001b[1;32mimport\u001b[0m \u001b[0mstats\u001b[0m\u001b[1;33m\u001b[0m\u001b[1;33m\u001b[0m\u001b[0m\n\u001b[0m\u001b[0;32m     11\u001b[0m \u001b[1;32mimport\u001b[0m \u001b[0mpandas\u001b[0m \u001b[1;32mas\u001b[0m \u001b[0mpd\u001b[0m\u001b[1;33m\u001b[0m\u001b[1;33m\u001b[0m\u001b[0m\n\u001b[0;32m     12\u001b[0m \u001b[1;32mimport\u001b[0m \u001b[0mmatplotlib\u001b[0m \u001b[1;32mas\u001b[0m \u001b[0mmpl\u001b[0m\u001b[1;33m\u001b[0m\u001b[1;33m\u001b[0m\u001b[0m\n",
      "\u001b[1;32m~\\anaconda3\\lib\\site-packages\\scipy\\stats\\__init__.py\u001b[0m in \u001b[0;36m<module>\u001b[1;34m\u001b[0m\n\u001b[0;32m    439\u001b[0m \"\"\"\n\u001b[0;32m    440\u001b[0m \u001b[1;33m\u001b[0m\u001b[0m\n\u001b[1;32m--> 441\u001b[1;33m \u001b[1;32mfrom\u001b[0m \u001b[1;33m.\u001b[0m\u001b[0mstats\u001b[0m \u001b[1;32mimport\u001b[0m \u001b[1;33m*\u001b[0m\u001b[1;33m\u001b[0m\u001b[1;33m\u001b[0m\u001b[0m\n\u001b[0m\u001b[0;32m    442\u001b[0m \u001b[1;32mfrom\u001b[0m \u001b[1;33m.\u001b[0m\u001b[0mdistributions\u001b[0m \u001b[1;32mimport\u001b[0m \u001b[1;33m*\u001b[0m\u001b[1;33m\u001b[0m\u001b[1;33m\u001b[0m\u001b[0m\n\u001b[0;32m    443\u001b[0m \u001b[1;32mfrom\u001b[0m \u001b[1;33m.\u001b[0m\u001b[0mmorestats\u001b[0m \u001b[1;32mimport\u001b[0m \u001b[1;33m*\u001b[0m\u001b[1;33m\u001b[0m\u001b[1;33m\u001b[0m\u001b[0m\n",
      "\u001b[1;32m~\\anaconda3\\lib\\site-packages\\scipy\\stats\\stats.py\u001b[0m in \u001b[0;36m<module>\u001b[1;34m\u001b[0m\n\u001b[0;32m     35\u001b[0m \u001b[1;32mfrom\u001b[0m \u001b[0mnumpy\u001b[0m \u001b[1;32mimport\u001b[0m \u001b[0marray\u001b[0m\u001b[1;33m,\u001b[0m \u001b[0masarray\u001b[0m\u001b[1;33m,\u001b[0m \u001b[0mma\u001b[0m\u001b[1;33m\u001b[0m\u001b[1;33m\u001b[0m\u001b[0m\n\u001b[0;32m     36\u001b[0m \u001b[1;33m\u001b[0m\u001b[0m\n\u001b[1;32m---> 37\u001b[1;33m \u001b[1;32mfrom\u001b[0m \u001b[0mscipy\u001b[0m\u001b[1;33m.\u001b[0m\u001b[0mspatial\u001b[0m\u001b[1;33m.\u001b[0m\u001b[0mdistance\u001b[0m \u001b[1;32mimport\u001b[0m \u001b[0mcdist\u001b[0m\u001b[1;33m\u001b[0m\u001b[1;33m\u001b[0m\u001b[0m\n\u001b[0m\u001b[0;32m     38\u001b[0m \u001b[1;32mfrom\u001b[0m \u001b[0mscipy\u001b[0m\u001b[1;33m.\u001b[0m\u001b[0mndimage\u001b[0m \u001b[1;32mimport\u001b[0m \u001b[0mmeasurements\u001b[0m\u001b[1;33m\u001b[0m\u001b[1;33m\u001b[0m\u001b[0m\n\u001b[0;32m     39\u001b[0m from scipy._lib._util import (check_random_state, MapWrapper,\n",
      "\u001b[1;32m~\\anaconda3\\lib\\site-packages\\scipy\\spatial\\__init__.py\u001b[0m in \u001b[0;36m<module>\u001b[1;34m\u001b[0m\n\u001b[0;32m     99\u001b[0m \u001b[1;32mfrom\u001b[0m \u001b[1;33m.\u001b[0m\u001b[0m_spherical_voronoi\u001b[0m \u001b[1;32mimport\u001b[0m \u001b[0mSphericalVoronoi\u001b[0m\u001b[1;33m\u001b[0m\u001b[1;33m\u001b[0m\u001b[0m\n\u001b[0;32m    100\u001b[0m \u001b[1;32mfrom\u001b[0m \u001b[1;33m.\u001b[0m\u001b[0m_plotutils\u001b[0m \u001b[1;32mimport\u001b[0m \u001b[1;33m*\u001b[0m\u001b[1;33m\u001b[0m\u001b[1;33m\u001b[0m\u001b[0m\n\u001b[1;32m--> 101\u001b[1;33m \u001b[1;32mfrom\u001b[0m \u001b[1;33m.\u001b[0m\u001b[0m_procrustes\u001b[0m \u001b[1;32mimport\u001b[0m \u001b[0mprocrustes\u001b[0m\u001b[1;33m\u001b[0m\u001b[1;33m\u001b[0m\u001b[0m\n\u001b[0m\u001b[0;32m    102\u001b[0m \u001b[1;32mfrom\u001b[0m \u001b[1;33m.\u001b[0m\u001b[0m_geometric_slerp\u001b[0m \u001b[1;32mimport\u001b[0m \u001b[0mgeometric_slerp\u001b[0m\u001b[1;33m\u001b[0m\u001b[1;33m\u001b[0m\u001b[0m\n\u001b[0;32m    103\u001b[0m \u001b[1;33m\u001b[0m\u001b[0m\n",
      "\u001b[1;32m~\\anaconda3\\lib\\site-packages\\scipy\\spatial\\_procrustes.py\u001b[0m in \u001b[0;36m<module>\u001b[1;34m\u001b[0m\n\u001b[0;32m      7\u001b[0m \u001b[1;33m\u001b[0m\u001b[0m\n\u001b[0;32m      8\u001b[0m \u001b[1;32mimport\u001b[0m \u001b[0mnumpy\u001b[0m \u001b[1;32mas\u001b[0m \u001b[0mnp\u001b[0m\u001b[1;33m\u001b[0m\u001b[1;33m\u001b[0m\u001b[0m\n\u001b[1;32m----> 9\u001b[1;33m \u001b[1;32mfrom\u001b[0m \u001b[0mscipy\u001b[0m\u001b[1;33m.\u001b[0m\u001b[0mlinalg\u001b[0m \u001b[1;32mimport\u001b[0m \u001b[0morthogonal_procrustes\u001b[0m\u001b[1;33m\u001b[0m\u001b[1;33m\u001b[0m\u001b[0m\n\u001b[0m\u001b[0;32m     10\u001b[0m \u001b[1;33m\u001b[0m\u001b[0m\n\u001b[0;32m     11\u001b[0m \u001b[1;33m\u001b[0m\u001b[0m\n",
      "\u001b[1;32m~\\anaconda3\\lib\\site-packages\\scipy\\linalg\\__init__.py\u001b[0m in \u001b[0;36m<module>\u001b[1;34m\u001b[0m\n\u001b[0;32m    196\u001b[0m \u001b[1;32mfrom\u001b[0m \u001b[1;33m.\u001b[0m\u001b[0mbasic\u001b[0m \u001b[1;32mimport\u001b[0m \u001b[1;33m*\u001b[0m\u001b[1;33m\u001b[0m\u001b[1;33m\u001b[0m\u001b[0m\n\u001b[0;32m    197\u001b[0m \u001b[1;32mfrom\u001b[0m \u001b[1;33m.\u001b[0m\u001b[0mdecomp\u001b[0m \u001b[1;32mimport\u001b[0m \u001b[1;33m*\u001b[0m\u001b[1;33m\u001b[0m\u001b[1;33m\u001b[0m\u001b[0m\n\u001b[1;32m--> 198\u001b[1;33m \u001b[1;32mfrom\u001b[0m \u001b[1;33m.\u001b[0m\u001b[0mdecomp_lu\u001b[0m \u001b[1;32mimport\u001b[0m \u001b[1;33m*\u001b[0m\u001b[1;33m\u001b[0m\u001b[1;33m\u001b[0m\u001b[0m\n\u001b[0m\u001b[0;32m    199\u001b[0m \u001b[1;32mfrom\u001b[0m \u001b[1;33m.\u001b[0m\u001b[0m_decomp_ldl\u001b[0m \u001b[1;32mimport\u001b[0m \u001b[1;33m*\u001b[0m\u001b[1;33m\u001b[0m\u001b[1;33m\u001b[0m\u001b[0m\n\u001b[0;32m    200\u001b[0m \u001b[1;32mfrom\u001b[0m \u001b[1;33m.\u001b[0m\u001b[0mdecomp_cholesky\u001b[0m \u001b[1;32mimport\u001b[0m \u001b[1;33m*\u001b[0m\u001b[1;33m\u001b[0m\u001b[1;33m\u001b[0m\u001b[0m\n",
      "\u001b[1;32m~\\anaconda3\\lib\\importlib\\_bootstrap.py\u001b[0m in \u001b[0;36m_find_and_load\u001b[1;34m(name, import_)\u001b[0m\n",
      "\u001b[1;32m~\\anaconda3\\lib\\importlib\\_bootstrap.py\u001b[0m in \u001b[0;36m_find_and_load_unlocked\u001b[1;34m(name, import_)\u001b[0m\n",
      "\u001b[1;32m~\\anaconda3\\lib\\importlib\\_bootstrap.py\u001b[0m in \u001b[0;36m_load_unlocked\u001b[1;34m(spec)\u001b[0m\n",
      "\u001b[1;32m~\\anaconda3\\lib\\importlib\\_bootstrap_external.py\u001b[0m in \u001b[0;36mexec_module\u001b[1;34m(self, module)\u001b[0m\n",
      "\u001b[1;32m~\\anaconda3\\lib\\importlib\\_bootstrap_external.py\u001b[0m in \u001b[0;36mget_code\u001b[1;34m(self, fullname)\u001b[0m\n",
      "\u001b[1;32m~\\anaconda3\\lib\\importlib\\_bootstrap_external.py\u001b[0m in \u001b[0;36mget_data\u001b[1;34m(self, path)\u001b[0m\n",
      "\u001b[1;31mKeyboardInterrupt\u001b[0m: "
     ]
    }
   ],
   "source": [
    "# for latitude and longitude data cleaning\n",
    "# finding if the missing values are randomly distributed or not by using visualisation and heat map ,\n",
    "# to decide if to replace the nan values with median or not\n",
    "\n",
    "\n",
    "\n",
    "#calculate data-center point for longitude and latitude\n",
    "import numpy as np\n",
    "import seaborn as sns\n",
    "import matplotlib.pyplot as plt\n",
    "\n",
    "missing  = pd.DataFrame({'missing_longitude': acc_data_cleaning['longitude'].isnull(), 'missing_latitude': acc_data_cleaning['latitude'].isnull()})\n",
    "\n",
    "\n",
    "corr = missing.corr()\n",
    "\n",
    "sns.heatmap(corr, cmap = 'coolwarm' ,annot=True, fmt= '.2f')\n",
    "plt.show()"
   ]
  },
  {
   "cell_type": "code",
   "execution_count": null,
   "id": "cd340bec-0bcf-4b3a-81db-089246b1b69d",
   "metadata": {
    "tags": []
   },
   "outputs": [],
   "source": [
    "missing_data = acc_data_cleaning[(acc_data_cleaning['longitude'].isnull()) & (acc_data_cleaning['time'].isnull())]\n",
    "missing_data"
   ]
  },
  {
   "cell_type": "code",
   "execution_count": null,
   "id": "b344abed-0eff-47fe-811c-2087e38cc0e9",
   "metadata": {},
   "outputs": [],
   "source": [
    "# dropping rows for which time has nan values, since data imputation is not possible in the format of time(yyyy-mm-dd hh:mm:ss)\n",
    "# and we dont have any other time related data to compute the data to replace the nan value in time\n"
   ]
  },
  {
   "cell_type": "code",
   "execution_count": 28,
   "id": "effb1bab-db14-4e7f-ab3c-0c3dec95f423",
   "metadata": {
    "tags": []
   },
   "outputs": [
    {
     "data": {
      "text/plain": [
       "186050"
      ]
     },
     "execution_count": 28,
     "metadata": {},
     "output_type": "execute_result"
    }
   ],
   "source": [
    "acc_data_cleaning = acc_data_cleaning.dropna(subset=['time'])\n",
    "rows = len(acc_data_cleaning.axes[0])\n",
    "rows"
   ]
  },
  {
   "cell_type": "code",
   "execution_count": 29,
   "id": "523143f2-a864-48a7-a06b-e84fee31ce42",
   "metadata": {},
   "outputs": [
    {
     "ename": "SyntaxError",
     "evalue": "invalid syntax (Temp/ipykernel_11892/3038829288.py, line 1)",
     "output_type": "error",
     "traceback": [
      "\u001b[1;36m  File \u001b[1;32m\"C:\\Users\\DELL\\AppData\\Local\\Temp/ipykernel_11892/3038829288.py\"\u001b[1;36m, line \u001b[1;32m1\u001b[0m\n\u001b[1;33m    engine_capacity_(cc)                                  51554\u001b[0m\n\u001b[1;37m                                                          ^\u001b[0m\n\u001b[1;31mSyntaxError\u001b[0m\u001b[1;31m:\u001b[0m invalid syntax\n"
     ]
    }
   ],
   "source": [
    "engine_capacity_(cc)                                  51554\n",
    "propulsion_code                                       51279\n",
    "age_of_vehicle   "
   ]
  },
  {
   "cell_type": "code",
   "execution_count": 34,
   "id": "a4616e59-c229-4927-a298-c0747036757e",
   "metadata": {
    "tags": []
   },
   "outputs": [
    {
     "name": "stderr",
     "output_type": "stream",
     "text": [
      "C:\\Users\\DELL\\AppData\\Local\\Temp/ipykernel_11892/2546643766.py:1: SettingWithCopyWarning: \n",
      "A value is trying to be set on a copy of a slice from a DataFrame.\n",
      "Try using .loc[row_indexer,col_indexer] = value instead\n",
      "\n",
      "See the caveats in the documentation: https://pandas.pydata.org/pandas-docs/stable/user_guide/indexing.html#returning-a-view-versus-a-copy\n",
      "  acc_data_cleaning['engine_capacity_(cc)'] = acc_data_cleaning['engine_capacity_(cc)'].fillna(acc_data_cleaning['engine_capacity_(cc)'].median())\n",
      "C:\\Users\\DELL\\AppData\\Local\\Temp/ipykernel_11892/2546643766.py:2: SettingWithCopyWarning: \n",
      "A value is trying to be set on a copy of a slice from a DataFrame.\n",
      "Try using .loc[row_indexer,col_indexer] = value instead\n",
      "\n",
      "See the caveats in the documentation: https://pandas.pydata.org/pandas-docs/stable/user_guide/indexing.html#returning-a-view-versus-a-copy\n",
      "  acc_data_cleaning['propulsion_code'] = acc_data_cleaning['propulsion_code'].fillna(acc_data_cleaning['propulsion_code'].median())\n",
      "C:\\Users\\DELL\\AppData\\Local\\Temp/ipykernel_11892/2546643766.py:3: SettingWithCopyWarning: \n",
      "A value is trying to be set on a copy of a slice from a DataFrame.\n",
      "Try using .loc[row_indexer,col_indexer] = value instead\n",
      "\n",
      "See the caveats in the documentation: https://pandas.pydata.org/pandas-docs/stable/user_guide/indexing.html#returning-a-view-versus-a-copy\n",
      "  acc_data_cleaning['age_of_vehicle'] = acc_data_cleaning['age_of_vehicle'].fillna(acc_data_cleaning['age_of_vehicle'].median())\n",
      "C:\\Users\\DELL\\AppData\\Local\\Temp/ipykernel_11892/2546643766.py:4: SettingWithCopyWarning: \n",
      "A value is trying to be set on a copy of a slice from a DataFrame.\n",
      "Try using .loc[row_indexer,col_indexer] = value instead\n",
      "\n",
      "See the caveats in the documentation: https://pandas.pydata.org/pandas-docs/stable/user_guide/indexing.html#returning-a-view-versus-a-copy\n",
      "  acc_data_cleaning['age_of_vehicle'] = acc_data_cleaning['age_of_vehicle'].fillna(acc_data_cleaning['age_of_vehicle'].median())\n",
      "C:\\Users\\DELL\\AppData\\Local\\Temp/ipykernel_11892/2546643766.py:5: SettingWithCopyWarning: \n",
      "A value is trying to be set on a copy of a slice from a DataFrame.\n",
      "Try using .loc[row_indexer,col_indexer] = value instead\n",
      "\n",
      "See the caveats in the documentation: https://pandas.pydata.org/pandas-docs/stable/user_guide/indexing.html#returning-a-view-versus-a-copy\n",
      "  acc_data_cleaning['towing_and_articulation'] = acc_data_cleaning['towing_and_articulation'].fillna(acc_data_cleaning['towing_and_articulation'].median())\n",
      "C:\\Users\\DELL\\AppData\\Local\\Temp/ipykernel_11892/2546643766.py:7: SettingWithCopyWarning: \n",
      "A value is trying to be set on a copy of a slice from a DataFrame.\n",
      "Try using .loc[row_indexer,col_indexer] = value instead\n",
      "\n",
      "See the caveats in the documentation: https://pandas.pydata.org/pandas-docs/stable/user_guide/indexing.html#returning-a-view-versus-a-copy\n",
      "  acc_data_cleaning['vehicle_location-restricted_lane'] = acc_data_cleaning['vehicle_location-restricted_lane'].fillna(acc_data_cleaning['vehicle_location-restricted_lane'].median())\n",
      "C:\\Users\\DELL\\AppData\\Local\\Temp/ipykernel_11892/2546643766.py:9: SettingWithCopyWarning: \n",
      "A value is trying to be set on a copy of a slice from a DataFrame.\n",
      "Try using .loc[row_indexer,col_indexer] = value instead\n",
      "\n",
      "See the caveats in the documentation: https://pandas.pydata.org/pandas-docs/stable/user_guide/indexing.html#returning-a-view-versus-a-copy\n",
      "  acc_data_cleaning['latitude'] = acc_data_cleaning['latitude'].fillna(acc_data_cleaning['latitude'].median())\n",
      "C:\\Users\\DELL\\AppData\\Local\\Temp/ipykernel_11892/2546643766.py:10: SettingWithCopyWarning: \n",
      "A value is trying to be set on a copy of a slice from a DataFrame.\n",
      "Try using .loc[row_indexer,col_indexer] = value instead\n",
      "\n",
      "See the caveats in the documentation: https://pandas.pydata.org/pandas-docs/stable/user_guide/indexing.html#returning-a-view-versus-a-copy\n",
      "  acc_data_cleaning['longitude'] = acc_data_cleaning['longitude'].fillna(acc_data_cleaning['longitude'].median())\n"
     ]
    }
   ],
   "source": [
    "acc_data_cleaning['engine_capacity_(cc)'] = acc_data_cleaning['engine_capacity_(cc)'].fillna(acc_data_cleaning['engine_capacity_(cc)'].median())\n",
    "acc_data_cleaning['propulsion_code'] = acc_data_cleaning['propulsion_code'].fillna(acc_data_cleaning['propulsion_code'].median())\n",
    "acc_data_cleaning['age_of_vehicle'] = acc_data_cleaning['age_of_vehicle'].fillna(acc_data_cleaning['age_of_vehicle'].median())\n",
    "acc_data_cleaning['age_of_vehicle'] = acc_data_cleaning['age_of_vehicle'].fillna(acc_data_cleaning['age_of_vehicle'].median())\n",
    "acc_data_cleaning['towing_and_articulation'] = acc_data_cleaning['towing_and_articulation'].fillna(acc_data_cleaning['towing_and_articulation'].median())\n",
    "\n",
    "acc_data_cleaning['vehicle_location-restricted_lane'] = acc_data_cleaning['vehicle_location-restricted_lane'].fillna(acc_data_cleaning['vehicle_location-restricted_lane'].median())\n",
    "\n",
    "acc_data_cleaning['latitude'] = acc_data_cleaning['latitude'].fillna(acc_data_cleaning['latitude'].median())\n",
    "acc_data_cleaning['longitude'] = acc_data_cleaning['longitude'].fillna(acc_data_cleaning['longitude'].median())\n",
    "\n"
   ]
  },
  {
   "cell_type": "code",
   "execution_count": 42,
   "id": "5188f1ea-3c0c-4db1-82cb-1ff48228cf18",
   "metadata": {
    "tags": []
   },
   "outputs": [],
   "source": [
    "acc_data_cleaning.to_csv('acc_data_after_cleaning.csv', index=False)"
   ]
  },
  {
   "cell_type": "code",
   "execution_count": null,
   "id": "2b87f0b0-d40b-4aa3-92a5-f1b6f6404642",
   "metadata": {
    "tags": []
   },
   "outputs": [],
   "source": []
  },
  {
   "cell_type": "code",
   "execution_count": null,
   "id": "020de353-2462-4119-b31c-49dc32f0ec63",
   "metadata": {},
   "outputs": [],
   "source": []
  }
 ],
 "metadata": {
  "kernelspec": {
   "display_name": "Python 3 (ipykernel)",
   "language": "python",
   "name": "python3"
  },
  "language_info": {
   "codemirror_mode": {
    "name": "ipython",
    "version": 3
   },
   "file_extension": ".py",
   "mimetype": "text/x-python",
   "name": "python",
   "nbconvert_exporter": "python",
   "pygments_lexer": "ipython3",
   "version": "3.9.7"
  }
 },
 "nbformat": 4,
 "nbformat_minor": 5
}
