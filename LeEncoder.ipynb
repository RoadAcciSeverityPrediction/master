{
 "cells": [
  {
   "cell_type": "code",
   "execution_count": 1,
   "metadata": {
    "id": "xX2JX6Aqx8Yy"
   },
   "outputs": [],
   "source": [
    "from sklearn.datasets import load_breast_cancer\n",
    "from sklearn.feature_selection import RFECV\n",
    "from sklearn.ensemble import RandomForestClassifier\n",
    "import matplotlib.pyplot as plt"
   ]
  },
  {
   "cell_type": "code",
   "execution_count": 2,
   "metadata": {
    "id": "Gl5YQTibzM-5"
   },
   "outputs": [],
   "source": [
    "import pandas as pd"
   ]
  },
  {
   "cell_type": "code",
   "execution_count": 6,
   "metadata": {
    "id": "t22Q9AZQbChR"
   },
   "outputs": [],
   "source": [
    "df = pd.read_csv(\"acc_data_after_cleaning.csv\",engine='python')\n"
   ]
  },
  {
   "cell_type": "code",
   "execution_count": 7,
   "metadata": {
    "colab": {
     "base_uri": "https://localhost:8080/"
    },
    "id": "f-SchNPibC4f",
    "outputId": "0d014d6a-7cfd-49e9-ab46-b6637f48050f"
   },
   "outputs": [
    {
     "data": {
      "text/plain": [
       "Index(['vehicle_type', 'towing_and_articulation', 'vehicle_manoeuvre',\n",
       "       'vehicle_location-restricted_lane', 'junction_location',\n",
       "       'skidding_and_overturning', 'hit_object_in_carriageway',\n",
       "       'vehicle_leaving_carriageway', 'hit_object_off_carriageway',\n",
       "       '1st_point_of_impact', 'was_vehicle_left_hand_drive?',\n",
       "       'journey_purpose_of_driver', 'sex_of_driver', 'age_of_driver',\n",
       "       'age_band_of_driver', 'engine_capacity_(cc)', 'propulsion_code',\n",
       "       'age_of_vehicle', 'driver_home_area_type',\n",
       "       'NUmber_of_Casualities_unique_to_accident_index',\n",
       "       'No_of_Vehicles_involved_unique_to_accident_index', 'longitude',\n",
       "       'latitude', 'police_force', 'accident_severity', 'number_of_vehicles',\n",
       "       'number_of_casualties', 'day_of_week', 'time',\n",
       "       'local_authority_(district)', 'local_authority_(highway)',\n",
       "       '1st_road_class', '1st_road_number', 'road_type', 'speed_limit',\n",
       "       'junction_detail', 'junction_control', '2nd_road_class',\n",
       "       '2nd_road_number', 'pedestrian_crossing-human_control',\n",
       "       'pedestrian_crossing-physical_facilities', 'light_conditions',\n",
       "       'weather_conditions', 'road_surface_conditions',\n",
       "       'special_conditions_at_site', 'carriageway_hazards',\n",
       "       'urban_or_rural_area', 'did_police_officer_attend_scene_of_accident',\n",
       "       'casualty_reference', 'casualty_class', 'sex_of_casualty',\n",
       "       'age_of_casualty', 'age_band_of_casualty', 'casualty_severity',\n",
       "       'pedestrian_location', 'pedestrian_movement', 'car_passenger',\n",
       "       'bus_or_coach_passenger', 'pedestrian_road_maintenance_worker',\n",
       "       'casualty_type', 'casualty_home_area_type', 'casualty_imd_decile'],\n",
       "      dtype='object')"
      ]
     },
     "execution_count": 7,
     "metadata": {},
     "output_type": "execute_result"
    }
   ],
   "source": [
    "df.columns"
   ]
  },
  {
   "cell_type": "code",
   "execution_count": 8,
   "metadata": {
    "colab": {
     "base_uri": "https://localhost:8080/"
    },
    "id": "5t5N9mpJbC7l",
    "outputId": "d626f590-6274-4471-b276-d66c193cae38"
   },
   "outputs": [
    {
     "name": "stdout",
     "output_type": "stream",
     "text": [
      "<class 'pandas.core.frame.DataFrame'>\n",
      "RangeIndex: 186050 entries, 0 to 186049\n",
      "Data columns (total 62 columns):\n",
      " #   Column                                            Non-Null Count   Dtype  \n",
      "---  ------                                            --------------   -----  \n",
      " 0   vehicle_type                                      186050 non-null  int64  \n",
      " 1   towing_and_articulation                           186050 non-null  int64  \n",
      " 2   vehicle_manoeuvre                                 186050 non-null  int64  \n",
      " 3   vehicle_location-restricted_lane                  186050 non-null  int64  \n",
      " 4   junction_location                                 186050 non-null  int64  \n",
      " 5   skidding_and_overturning                          186050 non-null  int64  \n",
      " 6   hit_object_in_carriageway                         186050 non-null  int64  \n",
      " 7   vehicle_leaving_carriageway                       186050 non-null  int64  \n",
      " 8   hit_object_off_carriageway                        186050 non-null  int64  \n",
      " 9   1st_point_of_impact                               186050 non-null  int64  \n",
      " 10  was_vehicle_left_hand_drive?                      186050 non-null  int64  \n",
      " 11  journey_purpose_of_driver                         186050 non-null  int64  \n",
      " 12  sex_of_driver                                     186050 non-null  int64  \n",
      " 13  age_of_driver                                     186050 non-null  int64  \n",
      " 14  age_band_of_driver                                186050 non-null  int64  \n",
      " 15  engine_capacity_(cc)                              186050 non-null  int64  \n",
      " 16  propulsion_code                                   186050 non-null  int64  \n",
      " 17  age_of_vehicle                                    186050 non-null  int64  \n",
      " 18  driver_home_area_type                             186050 non-null  int64  \n",
      " 19  NUmber_of_Casualities_unique_to_accident_index    186050 non-null  int64  \n",
      " 20  No_of_Vehicles_involved_unique_to_accident_index  186050 non-null  int64  \n",
      " 21  longitude                                         186050 non-null  float64\n",
      " 22  latitude                                          186050 non-null  float64\n",
      " 23  police_force                                      186050 non-null  int64  \n",
      " 24  accident_severity                                 186050 non-null  int64  \n",
      " 25  number_of_vehicles                                186050 non-null  int64  \n",
      " 26  number_of_casualties                              186050 non-null  int64  \n",
      " 27  day_of_week                                       186050 non-null  int64  \n",
      " 28  time                                              186050 non-null  object \n",
      " 29  local_authority_(district)                        186050 non-null  int64  \n",
      " 30  local_authority_(highway)                         186050 non-null  object \n",
      " 31  1st_road_class                                    186050 non-null  int64  \n",
      " 32  1st_road_number                                   186050 non-null  int64  \n",
      " 33  road_type                                         186050 non-null  int64  \n",
      " 34  speed_limit                                       186050 non-null  int64  \n",
      " 35  junction_detail                                   186050 non-null  int64  \n",
      " 36  junction_control                                  186050 non-null  int64  \n",
      " 37  2nd_road_class                                    186050 non-null  int64  \n",
      " 38  2nd_road_number                                   186050 non-null  int64  \n",
      " 39  pedestrian_crossing-human_control                 186050 non-null  int64  \n",
      " 40  pedestrian_crossing-physical_facilities           186050 non-null  int64  \n",
      " 41  light_conditions                                  186050 non-null  int64  \n",
      " 42  weather_conditions                                186050 non-null  int64  \n",
      " 43  road_surface_conditions                           186050 non-null  int64  \n",
      " 44  special_conditions_at_site                        186050 non-null  int64  \n",
      " 45  carriageway_hazards                               186050 non-null  int64  \n",
      " 46  urban_or_rural_area                               186050 non-null  int64  \n",
      " 47  did_police_officer_attend_scene_of_accident       186050 non-null  int64  \n",
      " 48  casualty_reference                                186050 non-null  int64  \n",
      " 49  casualty_class                                    186050 non-null  int64  \n",
      " 50  sex_of_casualty                                   186050 non-null  int64  \n",
      " 51  age_of_casualty                                   186050 non-null  int64  \n",
      " 52  age_band_of_casualty                              186050 non-null  int64  \n",
      " 53  casualty_severity                                 186050 non-null  int64  \n",
      " 54  pedestrian_location                               186050 non-null  int64  \n",
      " 55  pedestrian_movement                               186050 non-null  int64  \n",
      " 56  car_passenger                                     186050 non-null  int64  \n",
      " 57  bus_or_coach_passenger                            186050 non-null  int64  \n",
      " 58  pedestrian_road_maintenance_worker                186050 non-null  int64  \n",
      " 59  casualty_type                                     186050 non-null  int64  \n",
      " 60  casualty_home_area_type                           186050 non-null  int64  \n",
      " 61  casualty_imd_decile                               186050 non-null  int64  \n",
      "dtypes: float64(2), int64(58), object(2)\n",
      "memory usage: 88.0+ MB\n"
     ]
    }
   ],
   "source": [
    "df.info()"
   ]
  },
  {
   "cell_type": "code",
   "execution_count": 11,
   "metadata": {
    "id": "mlRlEGDPd3l0"
   },
   "outputs": [],
   "source": [
    "data_cat=df.select_dtypes(include=[object])"
   ]
  },
  {
   "cell_type": "code",
   "execution_count": 12,
   "metadata": {
    "id": "ffHyurpUjw81"
   },
   "outputs": [],
   "source": [
    "from sklearn.preprocessing import LabelEncoder\n",
    "le=LabelEncoder()"
   ]
  },
  {
   "cell_type": "code",
   "execution_count": 13,
   "metadata": {
    "colab": {
     "base_uri": "https://localhost:8080/"
    },
    "id": "Ch-AyFpAj2qt",
    "outputId": "c46f1aad-25fc-4d23-9fe6-960e6b0ba99d"
   },
   "outputs": [
    {
     "data": {
      "text/plain": [
       "Index(['time', 'local_authority_(highway)'], dtype='object')"
      ]
     },
     "execution_count": 13,
     "metadata": {},
     "output_type": "execute_result"
    }
   ],
   "source": [
    "data_cat.columns"
   ]
  },
  {
   "cell_type": "code",
   "execution_count": null,
   "metadata": {
    "id": "f4WhkVnInP7R"
   },
   "outputs": [],
   "source": [
    "data_cat = data_cat.apply(le.fit_transform)"
   ]
  },
  {
   "cell_type": "code",
   "execution_count": null,
   "metadata": {
    "colab": {
     "base_uri": "https://localhost:8080/",
     "height": 300
    },
    "id": "3o69Cq81nP-U",
    "outputId": "efb2f92a-e5aa-47ea-a6bb-232644d0b0f9"
   },
   "outputs": [
    {
     "data": {
      "text/html": [
       "\n",
       "  <div id=\"df-f9bc0711-8c93-42b8-af22-e55336129b05\">\n",
       "    <div class=\"colab-df-container\">\n",
       "      <div>\n",
       "<style scoped>\n",
       "    .dataframe tbody tr th:only-of-type {\n",
       "        vertical-align: middle;\n",
       "    }\n",
       "\n",
       "    .dataframe tbody tr th {\n",
       "        vertical-align: top;\n",
       "    }\n",
       "\n",
       "    .dataframe thead th {\n",
       "        text-align: right;\n",
       "    }\n",
       "</style>\n",
       "<table border=\"1\" class=\"dataframe\">\n",
       "  <thead>\n",
       "    <tr style=\"text-align: right;\">\n",
       "      <th></th>\n",
       "      <th>Accident_Index</th>\n",
       "      <th>Date</th>\n",
       "      <th>Time</th>\n",
       "      <th>Local_Authority_(Highway)</th>\n",
       "      <th>LSOA_of_Accident_Location</th>\n",
       "    </tr>\n",
       "  </thead>\n",
       "  <tbody>\n",
       "    <tr>\n",
       "      <th>count</th>\n",
       "      <td>140056.000000</td>\n",
       "      <td>140056.000000</td>\n",
       "      <td>140056.000000</td>\n",
       "      <td>140056.000000</td>\n",
       "      <td>140056.000000</td>\n",
       "    </tr>\n",
       "    <tr>\n",
       "      <th>mean</th>\n",
       "      <td>70027.500000</td>\n",
       "      <td>181.423923</td>\n",
       "      <td>839.522284</td>\n",
       "      <td>106.023405</td>\n",
       "      <td>15175.466078</td>\n",
       "    </tr>\n",
       "    <tr>\n",
       "      <th>std</th>\n",
       "      <td>40430.828988</td>\n",
       "      <td>104.640210</td>\n",
       "      <td>304.856216</td>\n",
       "      <td>48.356238</td>\n",
       "      <td>8990.604956</td>\n",
       "    </tr>\n",
       "    <tr>\n",
       "      <th>min</th>\n",
       "      <td>0.000000</td>\n",
       "      <td>0.000000</td>\n",
       "      <td>0.000000</td>\n",
       "      <td>0.000000</td>\n",
       "      <td>0.000000</td>\n",
       "    </tr>\n",
       "    <tr>\n",
       "      <th>25%</th>\n",
       "      <td>35013.750000</td>\n",
       "      <td>91.000000</td>\n",
       "      <td>609.000000</td>\n",
       "      <td>73.000000</td>\n",
       "      <td>7222.000000</td>\n",
       "    </tr>\n",
       "    <tr>\n",
       "      <th>50%</th>\n",
       "      <td>70027.500000</td>\n",
       "      <td>180.000000</td>\n",
       "      <td>880.000000</td>\n",
       "      <td>118.000000</td>\n",
       "      <td>15367.000000</td>\n",
       "    </tr>\n",
       "    <tr>\n",
       "      <th>75%</th>\n",
       "      <td>105041.250000</td>\n",
       "      <td>272.000000</td>\n",
       "      <td>1064.000000</td>\n",
       "      <td>140.000000</td>\n",
       "      <td>23289.000000</td>\n",
       "    </tr>\n",
       "    <tr>\n",
       "      <th>max</th>\n",
       "      <td>140055.000000</td>\n",
       "      <td>364.000000</td>\n",
       "      <td>1439.000000</td>\n",
       "      <td>206.000000</td>\n",
       "      <td>28737.000000</td>\n",
       "    </tr>\n",
       "  </tbody>\n",
       "</table>\n",
       "</div>\n",
       "      <button class=\"colab-df-convert\" onclick=\"convertToInteractive('df-f9bc0711-8c93-42b8-af22-e55336129b05')\"\n",
       "              title=\"Convert this dataframe to an interactive table.\"\n",
       "              style=\"display:none;\">\n",
       "        \n",
       "  <svg xmlns=\"http://www.w3.org/2000/svg\" height=\"24px\"viewBox=\"0 0 24 24\"\n",
       "       width=\"24px\">\n",
       "    <path d=\"M0 0h24v24H0V0z\" fill=\"none\"/>\n",
       "    <path d=\"M18.56 5.44l.94 2.06.94-2.06 2.06-.94-2.06-.94-.94-2.06-.94 2.06-2.06.94zm-11 1L8.5 8.5l.94-2.06 2.06-.94-2.06-.94L8.5 2.5l-.94 2.06-2.06.94zm10 10l.94 2.06.94-2.06 2.06-.94-2.06-.94-.94-2.06-.94 2.06-2.06.94z\"/><path d=\"M17.41 7.96l-1.37-1.37c-.4-.4-.92-.59-1.43-.59-.52 0-1.04.2-1.43.59L10.3 9.45l-7.72 7.72c-.78.78-.78 2.05 0 2.83L4 21.41c.39.39.9.59 1.41.59.51 0 1.02-.2 1.41-.59l7.78-7.78 2.81-2.81c.8-.78.8-2.07 0-2.86zM5.41 20L4 18.59l7.72-7.72 1.47 1.35L5.41 20z\"/>\n",
       "  </svg>\n",
       "      </button>\n",
       "      \n",
       "  <style>\n",
       "    .colab-df-container {\n",
       "      display:flex;\n",
       "      flex-wrap:wrap;\n",
       "      gap: 12px;\n",
       "    }\n",
       "\n",
       "    .colab-df-convert {\n",
       "      background-color: #E8F0FE;\n",
       "      border: none;\n",
       "      border-radius: 50%;\n",
       "      cursor: pointer;\n",
       "      display: none;\n",
       "      fill: #1967D2;\n",
       "      height: 32px;\n",
       "      padding: 0 0 0 0;\n",
       "      width: 32px;\n",
       "    }\n",
       "\n",
       "    .colab-df-convert:hover {\n",
       "      background-color: #E2EBFA;\n",
       "      box-shadow: 0px 1px 2px rgba(60, 64, 67, 0.3), 0px 1px 3px 1px rgba(60, 64, 67, 0.15);\n",
       "      fill: #174EA6;\n",
       "    }\n",
       "\n",
       "    [theme=dark] .colab-df-convert {\n",
       "      background-color: #3B4455;\n",
       "      fill: #D2E3FC;\n",
       "    }\n",
       "\n",
       "    [theme=dark] .colab-df-convert:hover {\n",
       "      background-color: #434B5C;\n",
       "      box-shadow: 0px 1px 3px 1px rgba(0, 0, 0, 0.15);\n",
       "      filter: drop-shadow(0px 1px 2px rgba(0, 0, 0, 0.3));\n",
       "      fill: #FFFFFF;\n",
       "    }\n",
       "  </style>\n",
       "\n",
       "      <script>\n",
       "        const buttonEl =\n",
       "          document.querySelector('#df-f9bc0711-8c93-42b8-af22-e55336129b05 button.colab-df-convert');\n",
       "        buttonEl.style.display =\n",
       "          google.colab.kernel.accessAllowed ? 'block' : 'none';\n",
       "\n",
       "        async function convertToInteractive(key) {\n",
       "          const element = document.querySelector('#df-f9bc0711-8c93-42b8-af22-e55336129b05');\n",
       "          const dataTable =\n",
       "            await google.colab.kernel.invokeFunction('convertToInteractive',\n",
       "                                                     [key], {});\n",
       "          if (!dataTable) return;\n",
       "\n",
       "          const docLinkHtml = 'Like what you see? Visit the ' +\n",
       "            '<a target=\"_blank\" href=https://colab.research.google.com/notebooks/data_table.ipynb>data table notebook</a>'\n",
       "            + ' to learn more about interactive tables.';\n",
       "          element.innerHTML = '';\n",
       "          dataTable['output_type'] = 'display_data';\n",
       "          await google.colab.output.renderOutput(dataTable, element);\n",
       "          const docLink = document.createElement('div');\n",
       "          docLink.innerHTML = docLinkHtml;\n",
       "          element.appendChild(docLink);\n",
       "        }\n",
       "      </script>\n",
       "    </div>\n",
       "  </div>\n",
       "  "
      ],
      "text/plain": [
       "       Accident_Index           Date           Time  \\\n",
       "count   140056.000000  140056.000000  140056.000000   \n",
       "mean     70027.500000     181.423923     839.522284   \n",
       "std      40430.828988     104.640210     304.856216   \n",
       "min          0.000000       0.000000       0.000000   \n",
       "25%      35013.750000      91.000000     609.000000   \n",
       "50%      70027.500000     180.000000     880.000000   \n",
       "75%     105041.250000     272.000000    1064.000000   \n",
       "max     140055.000000     364.000000    1439.000000   \n",
       "\n",
       "       Local_Authority_(Highway)  LSOA_of_Accident_Location  \n",
       "count              140056.000000              140056.000000  \n",
       "mean                  106.023405               15175.466078  \n",
       "std                    48.356238                8990.604956  \n",
       "min                     0.000000                   0.000000  \n",
       "25%                    73.000000                7222.000000  \n",
       "50%                   118.000000               15367.000000  \n",
       "75%                   140.000000               23289.000000  \n",
       "max                   206.000000               28737.000000  "
      ]
     },
     "execution_count": 23,
     "metadata": {},
     "output_type": "execute_result"
    }
   ],
   "source": [
    "data_cat.describe()"
   ]
  },
  {
   "cell_type": "code",
   "execution_count": 16,
   "metadata": {
    "id": "gii-MSJwnQDU"
   },
   "outputs": [],
   "source": [
    "data_cat= data_cat.astype('category')"
   ]
  },
  {
   "cell_type": "code",
   "execution_count": 19,
   "metadata": {},
   "outputs": [
    {
     "data": {
      "text/html": [
       "<div>\n",
       "<style scoped>\n",
       "    .dataframe tbody tr th:only-of-type {\n",
       "        vertical-align: middle;\n",
       "    }\n",
       "\n",
       "    .dataframe tbody tr th {\n",
       "        vertical-align: top;\n",
       "    }\n",
       "\n",
       "    .dataframe thead th {\n",
       "        text-align: right;\n",
       "    }\n",
       "</style>\n",
       "<table border=\"1\" class=\"dataframe\">\n",
       "  <thead>\n",
       "    <tr style=\"text-align: right;\">\n",
       "      <th></th>\n",
       "      <th>time</th>\n",
       "      <th>local_authority_(highway)</th>\n",
       "    </tr>\n",
       "  </thead>\n",
       "  <tbody>\n",
       "    <tr>\n",
       "      <th>count</th>\n",
       "      <td>186050</td>\n",
       "      <td>186050</td>\n",
       "    </tr>\n",
       "    <tr>\n",
       "      <th>unique</th>\n",
       "      <td>1439</td>\n",
       "      <td>207</td>\n",
       "    </tr>\n",
       "    <tr>\n",
       "      <th>top</th>\n",
       "      <td>1899-12-30 17:00:00</td>\n",
       "      <td>E10000016</td>\n",
       "    </tr>\n",
       "    <tr>\n",
       "      <th>freq</th>\n",
       "      <td>1711</td>\n",
       "      <td>5799</td>\n",
       "    </tr>\n",
       "  </tbody>\n",
       "</table>\n",
       "</div>"
      ],
      "text/plain": [
       "                       time local_authority_(highway)\n",
       "count                186050                    186050\n",
       "unique                 1439                       207\n",
       "top     1899-12-30 17:00:00                 E10000016\n",
       "freq                   1711                      5799"
      ]
     },
     "execution_count": 19,
     "metadata": {},
     "output_type": "execute_result"
    }
   ],
   "source": [
    "data_cat.describe()"
   ]
  },
  {
   "cell_type": "code",
   "execution_count": 21,
   "metadata": {
    "id": "V0MxMw5Yq2Vu"
   },
   "outputs": [
    {
     "ename": "NameError",
     "evalue": "name 'data_num' is not defined",
     "output_type": "error",
     "traceback": [
      "\u001b[1;31m---------------------------------------------------------------------------\u001b[0m",
      "\u001b[1;31mNameError\u001b[0m                                 Traceback (most recent call last)",
      "\u001b[1;32m~\\AppData\\Local\\Temp/ipykernel_14104/2106049890.py\u001b[0m in \u001b[0;36m<module>\u001b[1;34m\u001b[0m\n\u001b[1;32m----> 1\u001b[1;33m \u001b[0mdata_num\u001b[0m \u001b[1;33m=\u001b[0m \u001b[0mdata_num\u001b[0m\u001b[1;33m.\u001b[0m\u001b[0mastype\u001b[0m\u001b[1;33m(\u001b[0m\u001b[1;34m'int'\u001b[0m\u001b[1;33m)\u001b[0m\u001b[1;33m\u001b[0m\u001b[1;33m\u001b[0m\u001b[0m\n\u001b[0m",
      "\u001b[1;31mNameError\u001b[0m: name 'data_num' is not defined"
     ]
    }
   ],
   "source": [
    "data_num = data_num.astype('int')"
   ]
  },
  {
   "cell_type": "code",
   "execution_count": null,
   "metadata": {
    "colab": {
     "base_uri": "https://localhost:8080/"
    },
    "id": "U1AKZx_aq_XO",
    "outputId": "5c3b550b-b57d-45d4-88f1-d41d6bb0a8fb"
   },
   "outputs": [
    {
     "name": "stdout",
     "output_type": "stream",
     "text": [
      "<class 'pandas.core.frame.DataFrame'>\n",
      "Int64Index: 140029 entries, 0 to 140055\n",
      "Data columns (total 27 columns):\n",
      " #   Column                                       Non-Null Count   Dtype\n",
      "---  ------                                       --------------   -----\n",
      " 0   Location_Easting_OSGR                        140029 non-null  int64\n",
      " 1   Location_Northing_OSGR                       140029 non-null  int64\n",
      " 2   Longitude                                    140029 non-null  int64\n",
      " 3   Latitude                                     140029 non-null  int64\n",
      " 4   Police_Force                                 140029 non-null  int64\n",
      " 5   Accident_Severity                            140029 non-null  int64\n",
      " 6   Number_of_Vehicles                           140029 non-null  int64\n",
      " 7   Number_of_Casualties                         140029 non-null  int64\n",
      " 8   Day_of_Week                                  140029 non-null  int64\n",
      " 9   Local_Authority_(District)                   140029 non-null  int64\n",
      " 10  1st_Road_Class                               140029 non-null  int64\n",
      " 11  1st_Road_Number                              140029 non-null  int64\n",
      " 12  Road_Type                                    140029 non-null  int64\n",
      " 13  Speed_limit                                  140029 non-null  int64\n",
      " 14  Junction_Detail                              140029 non-null  int64\n",
      " 15  Junction_Control                             140029 non-null  int64\n",
      " 16  2nd_Road_Class                               140029 non-null  int64\n",
      " 17  2nd_Road_Number                              140029 non-null  int64\n",
      " 18  Pedestrian_Crossing-Human_Control            140029 non-null  int64\n",
      " 19  Pedestrian_Crossing-Physical_Facilities      140029 non-null  int64\n",
      " 20  Light_Conditions                             140029 non-null  int64\n",
      " 21  Weather_Conditions                           140029 non-null  int64\n",
      " 22  Road_Surface_Conditions                      140029 non-null  int64\n",
      " 23  Special_Conditions_at_Site                   140029 non-null  int64\n",
      " 24  Carriageway_Hazards                          140029 non-null  int64\n",
      " 25  Urban_or_Rural_Area                          140029 non-null  int64\n",
      " 26  Did_Police_Officer_Attend_Scene_of_Accident  140029 non-null  int64\n",
      "dtypes: int64(27)\n",
      "memory usage: 29.9 MB\n"
     ]
    }
   ],
   "source": [
    "data_num.info()"
   ]
  },
  {
   "cell_type": "code",
   "execution_count": null,
   "metadata": {
    "colab": {
     "base_uri": "https://localhost:8080/",
     "height": 175
    },
    "id": "s1wJx4ocnQFM",
    "outputId": "4b1ccc46-aa34-4c8a-a12e-fcd467d1246f"
   },
   "outputs": [
    {
     "data": {
      "text/html": [
       "\n",
       "  <div id=\"df-e93008e1-345e-4be4-8047-fc42b6f7628d\">\n",
       "    <div class=\"colab-df-container\">\n",
       "      <div>\n",
       "<style scoped>\n",
       "    .dataframe tbody tr th:only-of-type {\n",
       "        vertical-align: middle;\n",
       "    }\n",
       "\n",
       "    .dataframe tbody tr th {\n",
       "        vertical-align: top;\n",
       "    }\n",
       "\n",
       "    .dataframe thead th {\n",
       "        text-align: right;\n",
       "    }\n",
       "</style>\n",
       "<table border=\"1\" class=\"dataframe\">\n",
       "  <thead>\n",
       "    <tr style=\"text-align: right;\">\n",
       "      <th></th>\n",
       "      <th>Accident_Index</th>\n",
       "      <th>Date</th>\n",
       "      <th>Time</th>\n",
       "      <th>Local_Authority_(Highway)</th>\n",
       "      <th>LSOA_of_Accident_Location</th>\n",
       "    </tr>\n",
       "  </thead>\n",
       "  <tbody>\n",
       "    <tr>\n",
       "      <th>count</th>\n",
       "      <td>140056</td>\n",
       "      <td>140056</td>\n",
       "      <td>140056</td>\n",
       "      <td>140056</td>\n",
       "      <td>140056</td>\n",
       "    </tr>\n",
       "    <tr>\n",
       "      <th>unique</th>\n",
       "      <td>140056</td>\n",
       "      <td>365</td>\n",
       "      <td>1440</td>\n",
       "      <td>207</td>\n",
       "      <td>28738</td>\n",
       "    </tr>\n",
       "    <tr>\n",
       "      <th>top</th>\n",
       "      <td>0</td>\n",
       "      <td>58</td>\n",
       "      <td>1019</td>\n",
       "      <td>136</td>\n",
       "      <td>28737</td>\n",
       "    </tr>\n",
       "    <tr>\n",
       "      <th>freq</th>\n",
       "      <td>1</td>\n",
       "      <td>535</td>\n",
       "      <td>1347</td>\n",
       "      <td>4222</td>\n",
       "      <td>8897</td>\n",
       "    </tr>\n",
       "  </tbody>\n",
       "</table>\n",
       "</div>\n",
       "      <button class=\"colab-df-convert\" onclick=\"convertToInteractive('df-e93008e1-345e-4be4-8047-fc42b6f7628d')\"\n",
       "              title=\"Convert this dataframe to an interactive table.\"\n",
       "              style=\"display:none;\">\n",
       "        \n",
       "  <svg xmlns=\"http://www.w3.org/2000/svg\" height=\"24px\"viewBox=\"0 0 24 24\"\n",
       "       width=\"24px\">\n",
       "    <path d=\"M0 0h24v24H0V0z\" fill=\"none\"/>\n",
       "    <path d=\"M18.56 5.44l.94 2.06.94-2.06 2.06-.94-2.06-.94-.94-2.06-.94 2.06-2.06.94zm-11 1L8.5 8.5l.94-2.06 2.06-.94-2.06-.94L8.5 2.5l-.94 2.06-2.06.94zm10 10l.94 2.06.94-2.06 2.06-.94-2.06-.94-.94-2.06-.94 2.06-2.06.94z\"/><path d=\"M17.41 7.96l-1.37-1.37c-.4-.4-.92-.59-1.43-.59-.52 0-1.04.2-1.43.59L10.3 9.45l-7.72 7.72c-.78.78-.78 2.05 0 2.83L4 21.41c.39.39.9.59 1.41.59.51 0 1.02-.2 1.41-.59l7.78-7.78 2.81-2.81c.8-.78.8-2.07 0-2.86zM5.41 20L4 18.59l7.72-7.72 1.47 1.35L5.41 20z\"/>\n",
       "  </svg>\n",
       "      </button>\n",
       "      \n",
       "  <style>\n",
       "    .colab-df-container {\n",
       "      display:flex;\n",
       "      flex-wrap:wrap;\n",
       "      gap: 12px;\n",
       "    }\n",
       "\n",
       "    .colab-df-convert {\n",
       "      background-color: #E8F0FE;\n",
       "      border: none;\n",
       "      border-radius: 50%;\n",
       "      cursor: pointer;\n",
       "      display: none;\n",
       "      fill: #1967D2;\n",
       "      height: 32px;\n",
       "      padding: 0 0 0 0;\n",
       "      width: 32px;\n",
       "    }\n",
       "\n",
       "    .colab-df-convert:hover {\n",
       "      background-color: #E2EBFA;\n",
       "      box-shadow: 0px 1px 2px rgba(60, 64, 67, 0.3), 0px 1px 3px 1px rgba(60, 64, 67, 0.15);\n",
       "      fill: #174EA6;\n",
       "    }\n",
       "\n",
       "    [theme=dark] .colab-df-convert {\n",
       "      background-color: #3B4455;\n",
       "      fill: #D2E3FC;\n",
       "    }\n",
       "\n",
       "    [theme=dark] .colab-df-convert:hover {\n",
       "      background-color: #434B5C;\n",
       "      box-shadow: 0px 1px 3px 1px rgba(0, 0, 0, 0.15);\n",
       "      filter: drop-shadow(0px 1px 2px rgba(0, 0, 0, 0.3));\n",
       "      fill: #FFFFFF;\n",
       "    }\n",
       "  </style>\n",
       "\n",
       "      <script>\n",
       "        const buttonEl =\n",
       "          document.querySelector('#df-e93008e1-345e-4be4-8047-fc42b6f7628d button.colab-df-convert');\n",
       "        buttonEl.style.display =\n",
       "          google.colab.kernel.accessAllowed ? 'block' : 'none';\n",
       "\n",
       "        async function convertToInteractive(key) {\n",
       "          const element = document.querySelector('#df-e93008e1-345e-4be4-8047-fc42b6f7628d');\n",
       "          const dataTable =\n",
       "            await google.colab.kernel.invokeFunction('convertToInteractive',\n",
       "                                                     [key], {});\n",
       "          if (!dataTable) return;\n",
       "\n",
       "          const docLinkHtml = 'Like what you see? Visit the ' +\n",
       "            '<a target=\"_blank\" href=https://colab.research.google.com/notebooks/data_table.ipynb>data table notebook</a>'\n",
       "            + ' to learn more about interactive tables.';\n",
       "          element.innerHTML = '';\n",
       "          dataTable['output_type'] = 'display_data';\n",
       "          await google.colab.output.renderOutput(dataTable, element);\n",
       "          const docLink = document.createElement('div');\n",
       "          docLink.innerHTML = docLinkHtml;\n",
       "          element.appendChild(docLink);\n",
       "        }\n",
       "      </script>\n",
       "    </div>\n",
       "  </div>\n",
       "  "
      ],
      "text/plain": [
       "        Accident_Index    Date    Time  Local_Authority_(Highway)  \\\n",
       "count           140056  140056  140056                     140056   \n",
       "unique          140056     365    1440                        207   \n",
       "top                  0      58    1019                        136   \n",
       "freq                 1     535    1347                       4222   \n",
       "\n",
       "        LSOA_of_Accident_Location  \n",
       "count                      140056  \n",
       "unique                      28738  \n",
       "top                         28737  \n",
       "freq                         8897  "
      ]
     },
     "execution_count": 27,
     "metadata": {},
     "output_type": "execute_result"
    }
   ],
   "source": [
    "data_cat.describe()"
   ]
  },
  {
   "cell_type": "code",
   "execution_count": null,
   "metadata": {
    "id": "yjeGaRkmnQIa"
   },
   "outputs": [],
   "source": [
    "data_final=pd.concat([data_num,data_cat],axis=1)"
   ]
  },
  {
   "cell_type": "code",
   "execution_count": null,
   "metadata": {
    "colab": {
     "base_uri": "https://localhost:8080/"
    },
    "id": "CTb2OQiynQKP",
    "outputId": "28500b38-669b-4c9d-9db0-ad9ed3c6c38c"
   },
   "outputs": [
    {
     "name": "stdout",
     "output_type": "stream",
     "text": [
      "<class 'pandas.core.frame.DataFrame'>\n",
      "Int64Index: 140056 entries, 0 to 134207\n",
      "Data columns (total 32 columns):\n",
      " #   Column                                       Non-Null Count   Dtype   \n",
      "---  ------                                       --------------   -----   \n",
      " 0   Location_Easting_OSGR                        140029 non-null  float64 \n",
      " 1   Location_Northing_OSGR                       140029 non-null  float64 \n",
      " 2   Longitude                                    140029 non-null  float64 \n",
      " 3   Latitude                                     140029 non-null  float64 \n",
      " 4   Police_Force                                 140029 non-null  float64 \n",
      " 5   Accident_Severity                            140029 non-null  float64 \n",
      " 6   Number_of_Vehicles                           140029 non-null  float64 \n",
      " 7   Number_of_Casualties                         140029 non-null  float64 \n",
      " 8   Day_of_Week                                  140029 non-null  float64 \n",
      " 9   Local_Authority_(District)                   140029 non-null  float64 \n",
      " 10  1st_Road_Class                               140029 non-null  float64 \n",
      " 11  1st_Road_Number                              140029 non-null  float64 \n",
      " 12  Road_Type                                    140029 non-null  float64 \n",
      " 13  Speed_limit                                  140029 non-null  float64 \n",
      " 14  Junction_Detail                              140029 non-null  float64 \n",
      " 15  Junction_Control                             140029 non-null  float64 \n",
      " 16  2nd_Road_Class                               140029 non-null  float64 \n",
      " 17  2nd_Road_Number                              140029 non-null  float64 \n",
      " 18  Pedestrian_Crossing-Human_Control            140029 non-null  float64 \n",
      " 19  Pedestrian_Crossing-Physical_Facilities      140029 non-null  float64 \n",
      " 20  Light_Conditions                             140029 non-null  float64 \n",
      " 21  Weather_Conditions                           140029 non-null  float64 \n",
      " 22  Road_Surface_Conditions                      140029 non-null  float64 \n",
      " 23  Special_Conditions_at_Site                   140029 non-null  float64 \n",
      " 24  Carriageway_Hazards                          140029 non-null  float64 \n",
      " 25  Urban_or_Rural_Area                          140029 non-null  float64 \n",
      " 26  Did_Police_Officer_Attend_Scene_of_Accident  140029 non-null  float64 \n",
      " 27  Accident_Index                               140056 non-null  category\n",
      " 28  Date                                         140056 non-null  category\n",
      " 29  Time                                         140056 non-null  category\n",
      " 30  Local_Authority_(Highway)                    140056 non-null  category\n",
      " 31  LSOA_of_Accident_Location                    140056 non-null  category\n",
      "dtypes: category(5), float64(27)\n",
      "memory usage: 37.9 MB\n"
     ]
    }
   ],
   "source": [
    "data_final.info()"
   ]
  },
  {
   "cell_type": "code",
   "execution_count": null,
   "metadata": {
    "id": "DzNqVQsyrdfc"
   },
   "outputs": [],
   "source": [
    "from sklearn.model_selection import train_test_split"
   ]
  },
  {
   "cell_type": "code",
   "execution_count": null,
   "metadata": {
    "id": "zzGzR5qksN7A"
   },
   "outputs": [],
   "source": [
    "x=data_final[['Speed_limit','Road_Type']]\n",
    "y=data_final[\"Accident_Severity\"]"
   ]
  },
  {
   "cell_type": "code",
   "execution_count": null,
   "metadata": {
    "id": "dqfx9qc2sjj8"
   },
   "outputs": [],
   "source": [
    "from sklearn.ensemble import RandomForestClassifier\n",
    "rf = RandomForestClassifier()\n",
    "x_train, x_test, y_train, y_test = train_test_split(x, y, test_size=0.33, random_state=42)\n"
   ]
  },
  {
   "cell_type": "code",
   "execution_count": null,
   "metadata": {
    "colab": {
     "base_uri": "https://localhost:8080/",
     "height": 508
    },
    "id": "lyK4O7BgR0ZW",
    "outputId": "e8795b9e-2f1e-41e6-991c-d748b8273678"
   },
   "outputs": [
    {
     "name": "stdout",
     "output_type": "stream",
     "text": [
      "        Speed_limit  Road_Type\n",
      "0              30.0        6.0\n",
      "1              30.0        6.0\n",
      "2              30.0        6.0\n",
      "3              30.0        6.0\n",
      "4              30.0        6.0\n",
      "...             ...        ...\n",
      "129664         30.0        6.0\n",
      "131152         30.0        6.0\n",
      "132218         30.0        6.0\n",
      "134155         30.0        6.0\n",
      "134207         30.0        6.0\n",
      "\n",
      "[140056 rows x 2 columns] 0         3.0\n",
      "1         3.0\n",
      "2         3.0\n",
      "3         3.0\n",
      "4         2.0\n",
      "         ... \n",
      "129664    3.0\n",
      "131152    3.0\n",
      "132218    3.0\n",
      "134155    3.0\n",
      "134207    3.0\n",
      "Name: Accident_Severity, Length: 140056, dtype: float64\n"
     ]
    },
    {
     "data": {
      "text/html": [
       "<style>#sk-container-id-1 {color: black;background-color: white;}#sk-container-id-1 pre{padding: 0;}#sk-container-id-1 div.sk-toggleable {background-color: white;}#sk-container-id-1 label.sk-toggleable__label {cursor: pointer;display: block;width: 100%;margin-bottom: 0;padding: 0.3em;box-sizing: border-box;text-align: center;}#sk-container-id-1 label.sk-toggleable__label-arrow:before {content: \"▸\";float: left;margin-right: 0.25em;color: #696969;}#sk-container-id-1 label.sk-toggleable__label-arrow:hover:before {color: black;}#sk-container-id-1 div.sk-estimator:hover label.sk-toggleable__label-arrow:before {color: black;}#sk-container-id-1 div.sk-toggleable__content {max-height: 0;max-width: 0;overflow: hidden;text-align: left;background-color: #f0f8ff;}#sk-container-id-1 div.sk-toggleable__content pre {margin: 0.2em;color: black;border-radius: 0.25em;background-color: #f0f8ff;}#sk-container-id-1 input.sk-toggleable__control:checked~div.sk-toggleable__content {max-height: 200px;max-width: 100%;overflow: auto;}#sk-container-id-1 input.sk-toggleable__control:checked~label.sk-toggleable__label-arrow:before {content: \"▾\";}#sk-container-id-1 div.sk-estimator input.sk-toggleable__control:checked~label.sk-toggleable__label {background-color: #d4ebff;}#sk-container-id-1 div.sk-label input.sk-toggleable__control:checked~label.sk-toggleable__label {background-color: #d4ebff;}#sk-container-id-1 input.sk-hidden--visually {border: 0;clip: rect(1px 1px 1px 1px);clip: rect(1px, 1px, 1px, 1px);height: 1px;margin: -1px;overflow: hidden;padding: 0;position: absolute;width: 1px;}#sk-container-id-1 div.sk-estimator {font-family: monospace;background-color: #f0f8ff;border: 1px dotted black;border-radius: 0.25em;box-sizing: border-box;margin-bottom: 0.5em;}#sk-container-id-1 div.sk-estimator:hover {background-color: #d4ebff;}#sk-container-id-1 div.sk-parallel-item::after {content: \"\";width: 100%;border-bottom: 1px solid gray;flex-grow: 1;}#sk-container-id-1 div.sk-label:hover label.sk-toggleable__label {background-color: #d4ebff;}#sk-container-id-1 div.sk-serial::before {content: \"\";position: absolute;border-left: 1px solid gray;box-sizing: border-box;top: 0;bottom: 0;left: 50%;z-index: 0;}#sk-container-id-1 div.sk-serial {display: flex;flex-direction: column;align-items: center;background-color: white;padding-right: 0.2em;padding-left: 0.2em;position: relative;}#sk-container-id-1 div.sk-item {position: relative;z-index: 1;}#sk-container-id-1 div.sk-parallel {display: flex;align-items: stretch;justify-content: center;background-color: white;position: relative;}#sk-container-id-1 div.sk-item::before, #sk-container-id-1 div.sk-parallel-item::before {content: \"\";position: absolute;border-left: 1px solid gray;box-sizing: border-box;top: 0;bottom: 0;left: 50%;z-index: -1;}#sk-container-id-1 div.sk-parallel-item {display: flex;flex-direction: column;z-index: 1;position: relative;background-color: white;}#sk-container-id-1 div.sk-parallel-item:first-child::after {align-self: flex-end;width: 50%;}#sk-container-id-1 div.sk-parallel-item:last-child::after {align-self: flex-start;width: 50%;}#sk-container-id-1 div.sk-parallel-item:only-child::after {width: 0;}#sk-container-id-1 div.sk-dashed-wrapped {border: 1px dashed gray;margin: 0 0.4em 0.5em 0.4em;box-sizing: border-box;padding-bottom: 0.4em;background-color: white;}#sk-container-id-1 div.sk-label label {font-family: monospace;font-weight: bold;display: inline-block;line-height: 1.2em;}#sk-container-id-1 div.sk-label-container {text-align: center;}#sk-container-id-1 div.sk-container {/* jupyter's `normalize.less` sets `[hidden] { display: none; }` but bootstrap.min.css set `[hidden] { display: none !important; }` so we also need the `!important` here to be able to override the default hidden behavior on the sphinx rendered scikit-learn.org. See: https://github.com/scikit-learn/scikit-learn/issues/21755 */display: inline-block !important;position: relative;}#sk-container-id-1 div.sk-text-repr-fallback {display: none;}</style><div id=\"sk-container-id-1\" class=\"sk-top-container\"><div class=\"sk-text-repr-fallback\"><pre>LogisticRegression()</pre><b>In a Jupyter environment, please rerun this cell to show the HTML representation or trust the notebook. <br />On GitHub, the HTML representation is unable to render, please try loading this page with nbviewer.org.</b></div><div class=\"sk-container\" hidden><div class=\"sk-item\"><div class=\"sk-estimator sk-toggleable\"><input class=\"sk-toggleable__control sk-hidden--visually\" id=\"sk-estimator-id-1\" type=\"checkbox\" checked><label for=\"sk-estimator-id-1\" class=\"sk-toggleable__label sk-toggleable__label-arrow\">LogisticRegression</label><div class=\"sk-toggleable__content\"><pre>LogisticRegression()</pre></div></div></div></div></div>"
      ],
      "text/plain": [
       "LogisticRegression()"
      ]
     },
     "execution_count": 33,
     "metadata": {},
     "output_type": "execute_result"
    }
   ],
   "source": [
    "from sklearn.ensemble import RandomForestClassifier\n",
    "from sklearn.impute import SimpleImputer\n",
    "from sklearn import preprocessing\n",
    "from sklearn.linear_model import LogisticRegression\n",
    "# Select the features and target variable\n",
    "# X = data_final[['Speed_limit', 'Road_Type']]\n",
    "# y = data_final['Accident_Severity']\n",
    "# # Impute missing values in X\n",
    "# imputer = SimpleImputer(strategy='median')\n",
    "# X = imputer.fit_transform(X)\n",
    "# y = imputer.fit_transform(y)\n",
    "label_encoder = preprocessing.LabelEncoder()\n",
    "mean_value=data_final['Speed_limit'].median()\n",
    "data_final['Speed_limit'].fillna(value=mean_value, inplace=True)\n",
    "mean_value=data_final['Road_Type'].median()\n",
    "data_final['Road_Type'].fillna(value=mean_value, inplace=True)\n",
    "mean_value=data_final['Accident_Severity'].median()\n",
    "data_final['Accident_Severity'].fillna(value=mean_value, inplace=True)\n",
    "df['Accident_Severity']= label_encoder.fit_transform(df['Accident_Severity'])\n",
    "X = data_final[['Speed_limit', 'Road_Type']]\n",
    "y = data_final['Accident_Severity']\n",
    "print(X,y)\n",
    "logisticRegr = LogisticRegression()\n",
    "# # Split the data into training and testing sets\n",
    "from sklearn.model_selection import train_test_split\n",
    "X_train, X_test, y_train, y_test = train_test_split(X, y, test_size=0.2, random_state=42)\n",
    "\n",
    "# # Fit a RandomForest model\n",
    "# rf = RandomForestClassifier()\n",
    "# # rf.fit(X_train, y_train)\n",
    "logisticRegr.fit(X_train, y_train)"
   ]
  },
  {
   "cell_type": "code",
   "execution_count": null,
   "metadata": {
    "id": "vsE-1P2ss2xr"
   },
   "outputs": [],
   "source": [
    "# rf.fit(x_train,y_train)"
   ]
  },
  {
   "cell_type": "code",
   "execution_count": null,
   "metadata": {
    "colab": {
     "base_uri": "https://localhost:8080/"
    },
    "id": "LVYm1BM77LBB",
    "outputId": "4d5d251e-3422-4aa8-a337-2f50a28b53b8"
   },
   "outputs": [
    {
     "data": {
      "text/plain": [
       "0.8459176751990289"
      ]
     },
     "execution_count": 35,
     "metadata": {},
     "output_type": "execute_result"
    }
   ],
   "source": [
    "rf.fit(X_train, y_train)\n",
    "rf.score(X_train,y_train)"
   ]
  },
  {
   "cell_type": "code",
   "execution_count": null,
   "metadata": {
    "colab": {
     "base_uri": "https://localhost:8080/",
     "height": 74
    },
    "id": "5FxVUaR80APt",
    "outputId": "2e5c3d31-4649-4c24-9654-fdf99c9efdf3"
   },
   "outputs": [
    {
     "data": {
      "text/html": [
       "<style>#sk-container-id-2 {color: black;background-color: white;}#sk-container-id-2 pre{padding: 0;}#sk-container-id-2 div.sk-toggleable {background-color: white;}#sk-container-id-2 label.sk-toggleable__label {cursor: pointer;display: block;width: 100%;margin-bottom: 0;padding: 0.3em;box-sizing: border-box;text-align: center;}#sk-container-id-2 label.sk-toggleable__label-arrow:before {content: \"▸\";float: left;margin-right: 0.25em;color: #696969;}#sk-container-id-2 label.sk-toggleable__label-arrow:hover:before {color: black;}#sk-container-id-2 div.sk-estimator:hover label.sk-toggleable__label-arrow:before {color: black;}#sk-container-id-2 div.sk-toggleable__content {max-height: 0;max-width: 0;overflow: hidden;text-align: left;background-color: #f0f8ff;}#sk-container-id-2 div.sk-toggleable__content pre {margin: 0.2em;color: black;border-radius: 0.25em;background-color: #f0f8ff;}#sk-container-id-2 input.sk-toggleable__control:checked~div.sk-toggleable__content {max-height: 200px;max-width: 100%;overflow: auto;}#sk-container-id-2 input.sk-toggleable__control:checked~label.sk-toggleable__label-arrow:before {content: \"▾\";}#sk-container-id-2 div.sk-estimator input.sk-toggleable__control:checked~label.sk-toggleable__label {background-color: #d4ebff;}#sk-container-id-2 div.sk-label input.sk-toggleable__control:checked~label.sk-toggleable__label {background-color: #d4ebff;}#sk-container-id-2 input.sk-hidden--visually {border: 0;clip: rect(1px 1px 1px 1px);clip: rect(1px, 1px, 1px, 1px);height: 1px;margin: -1px;overflow: hidden;padding: 0;position: absolute;width: 1px;}#sk-container-id-2 div.sk-estimator {font-family: monospace;background-color: #f0f8ff;border: 1px dotted black;border-radius: 0.25em;box-sizing: border-box;margin-bottom: 0.5em;}#sk-container-id-2 div.sk-estimator:hover {background-color: #d4ebff;}#sk-container-id-2 div.sk-parallel-item::after {content: \"\";width: 100%;border-bottom: 1px solid gray;flex-grow: 1;}#sk-container-id-2 div.sk-label:hover label.sk-toggleable__label {background-color: #d4ebff;}#sk-container-id-2 div.sk-serial::before {content: \"\";position: absolute;border-left: 1px solid gray;box-sizing: border-box;top: 0;bottom: 0;left: 50%;z-index: 0;}#sk-container-id-2 div.sk-serial {display: flex;flex-direction: column;align-items: center;background-color: white;padding-right: 0.2em;padding-left: 0.2em;position: relative;}#sk-container-id-2 div.sk-item {position: relative;z-index: 1;}#sk-container-id-2 div.sk-parallel {display: flex;align-items: stretch;justify-content: center;background-color: white;position: relative;}#sk-container-id-2 div.sk-item::before, #sk-container-id-2 div.sk-parallel-item::before {content: \"\";position: absolute;border-left: 1px solid gray;box-sizing: border-box;top: 0;bottom: 0;left: 50%;z-index: -1;}#sk-container-id-2 div.sk-parallel-item {display: flex;flex-direction: column;z-index: 1;position: relative;background-color: white;}#sk-container-id-2 div.sk-parallel-item:first-child::after {align-self: flex-end;width: 50%;}#sk-container-id-2 div.sk-parallel-item:last-child::after {align-self: flex-start;width: 50%;}#sk-container-id-2 div.sk-parallel-item:only-child::after {width: 0;}#sk-container-id-2 div.sk-dashed-wrapped {border: 1px dashed gray;margin: 0 0.4em 0.5em 0.4em;box-sizing: border-box;padding-bottom: 0.4em;background-color: white;}#sk-container-id-2 div.sk-label label {font-family: monospace;font-weight: bold;display: inline-block;line-height: 1.2em;}#sk-container-id-2 div.sk-label-container {text-align: center;}#sk-container-id-2 div.sk-container {/* jupyter's `normalize.less` sets `[hidden] { display: none; }` but bootstrap.min.css set `[hidden] { display: none !important; }` so we also need the `!important` here to be able to override the default hidden behavior on the sphinx rendered scikit-learn.org. See: https://github.com/scikit-learn/scikit-learn/issues/21755 */display: inline-block !important;position: relative;}#sk-container-id-2 div.sk-text-repr-fallback {display: none;}</style><div id=\"sk-container-id-2\" class=\"sk-top-container\"><div class=\"sk-text-repr-fallback\"><pre>RandomForestClassifier()</pre><b>In a Jupyter environment, please rerun this cell to show the HTML representation or trust the notebook. <br />On GitHub, the HTML representation is unable to render, please try loading this page with nbviewer.org.</b></div><div class=\"sk-container\" hidden><div class=\"sk-item\"><div class=\"sk-estimator sk-toggleable\"><input class=\"sk-toggleable__control sk-hidden--visually\" id=\"sk-estimator-id-2\" type=\"checkbox\" checked><label for=\"sk-estimator-id-2\" class=\"sk-toggleable__label sk-toggleable__label-arrow\">RandomForestClassifier</label><div class=\"sk-toggleable__content\"><pre>RandomForestClassifier()</pre></div></div></div></div></div>"
      ],
      "text/plain": [
       "RandomForestClassifier()"
      ]
     },
     "execution_count": 36,
     "metadata": {},
     "output_type": "execute_result"
    }
   ],
   "source": [
    "rf = RandomForestClassifier()\n",
    "rf.fit(X_train, y_train)"
   ]
  },
  {
   "cell_type": "code",
   "execution_count": null,
   "metadata": {
    "colab": {
     "base_uri": "https://localhost:8080/"
    },
    "id": "cDwoooYp1tcY",
    "outputId": "173368f9-32b8-48b2-a6d9-34e90188d3a7"
   },
   "outputs": [
    {
     "data": {
      "text/plain": [
       "0.8459176751990289"
      ]
     },
     "execution_count": 37,
     "metadata": {},
     "output_type": "execute_result"
    }
   ],
   "source": [
    "rf.score(X_train,y_train)"
   ]
  },
  {
   "cell_type": "code",
   "execution_count": null,
   "metadata": {
    "id": "QLiuZX5Fs6b4"
   },
   "outputs": [],
   "source": [
    "# df['Label'] = pd.cut(x=df['Height'],\n",
    "#                      bins=[150, 157, 169, 180],\n",
    "#                      labels=['Short', 'Average', 'Tall'])"
   ]
  },
  {
   "cell_type": "code",
   "execution_count": null,
   "metadata": {
    "colab": {
     "base_uri": "https://localhost:8080/"
    },
    "id": "a5Xtv5pcVam5",
    "outputId": "d9f6bbee-a4dc-47e7-e4d8-a0a523c5cf62"
   },
   "outputs": [
    {
     "name": "stderr",
     "output_type": "stream",
     "text": [
      "<ipython-input-39-0dada35f2546>:1: FutureWarning: The default value of numeric_only in DataFrame.mean is deprecated. In a future version, it will default to False. In addition, specifying 'numeric_only=None' is deprecated. Select only valid columns or specify the value of numeric_only to silence this warning.\n",
      "  df2 = data_final.fillna(data_final.mean(), inplace=True)\n"
     ]
    }
   ],
   "source": [
    "df2 = data_final.fillna(data_final.mean(), inplace=True)"
   ]
  },
  {
   "cell_type": "markdown",
   "metadata": {
    "id": "Elrg9T9_RAXn"
   },
   "source": []
  },
  {
   "cell_type": "code",
   "execution_count": null,
   "metadata": {
    "id": "7Bcils4u0z0A"
   },
   "outputs": [],
   "source": [
    "data_final.drop(data_final[data_final['Accident_Severity']==1.0].index, inplace = True)"
   ]
  },
  {
   "cell_type": "code",
   "execution_count": null,
   "metadata": {
    "colab": {
     "base_uri": "https://localhost:8080/",
     "height": 611
    },
    "id": "2tRAvku2Xv2L",
    "outputId": "a3a9cec3-8493-45bf-adde-5f605c900b66"
   },
   "outputs": [
    {
     "data": {
      "image/png": "[encoded data removed]",
      "text/plain": [
       "<Figure size 1400x600 with 1 Axes>"
      ]
     },
     "metadata": {},
     "output_type": "display_data"
    }
   ],
   "source": [
    "pd.crosstab(data_final.Speed_limit,data_final.Number_of_Casualties).plot(kind='bar',figsize=(14,6))\n",
    "plt.show()"
   ]
  },
  {
   "cell_type": "code",
   "execution_count": null,
   "metadata": {
    "id": "2QByplfUSvjJ"
   },
   "outputs": [],
   "source": [
    "  mean_value=data_final['Number_of_Casualties'].median()\n",
    "data_final['Number_of_Casualties'].fillna(value=mean_value, inplace=True)"
   ]
  },
  {
   "cell_type": "markdown",
   "metadata": {
    "id": "Ej9BBhFKRBKJ"
   },
   "source": [
    "Number_of_Casualties']]\n",
    "y1=data_final['Speed_limit. vs Accident Severity"
   ]
  },
  {
   "cell_type": "code",
   "execution_count": null,
   "metadata": {
    "id": "m1d6qWPy2b60"
   },
   "outputs": [],
   "source": [
    "mean_value=data_final['Speed_limit'].median()\n",
    "data_final['Speed_limit'].fillna(value=mean_value, inplace=True)\n",
    "x1=data_final[['Number_of_Casualties']]\n",
    "y1=data_final['Speed_limit']"
   ]
  },
  {
   "cell_type": "code",
   "execution_count": null,
   "metadata": {
    "colab": {
     "base_uri": "https://localhost:8080/"
    },
    "id": "OuoUc2Q-3zFD",
    "outputId": "1940bb02-3ec0-4ccb-c4b8-cb7688380fb8"
   },
   "outputs": [
    {
     "name": "stdout",
     "output_type": "stream",
     "text": [
      "0         30.0\n",
      "1         30.0\n",
      "2         30.0\n",
      "3         30.0\n",
      "4         30.0\n",
      "          ... \n",
      "129664    30.0\n",
      "131152    30.0\n",
      "132218    30.0\n",
      "134155    30.0\n",
      "134207    30.0\n",
      "Name: Speed_limit, Length: 138440, dtype: float64\n"
     ]
    }
   ],
   "source": [
    "print(data_final['Speed_limit'])"
   ]
  },
  {
   "cell_type": "code",
   "execution_count": null,
   "metadata": {
    "colab": {
     "base_uri": "https://localhost:8080/"
    },
    "id": "3W6jNEf2qtZ1",
    "outputId": "6b660c9d-369f-4754-f682-b1a8d9d65746"
   },
   "outputs": [
    {
     "name": "stdout",
     "output_type": "stream",
     "text": [
      "<class 'pandas.core.frame.DataFrame'>\n",
      "Int64Index: 138440 entries, 0 to 134207\n",
      "Data columns (total 32 columns):\n",
      " #   Column                                       Non-Null Count   Dtype   \n",
      "---  ------                                       --------------   -----   \n",
      " 0   Location_Easting_OSGR                        138440 non-null  float64 \n",
      " 1   Location_Northing_OSGR                       138440 non-null  float64 \n",
      " 2   Longitude                                    138440 non-null  float64 \n",
      " 3   Latitude                                     138440 non-null  float64 \n",
      " 4   Police_Force                                 138440 non-null  float64 \n",
      " 5   Accident_Severity                            138440 non-null  float64 \n",
      " 6   Number_of_Vehicles                           138440 non-null  float64 \n",
      " 7   Number_of_Casualties                         138440 non-null  float64 \n",
      " 8   Day_of_Week                                  138440 non-null  float64 \n",
      " 9   Local_Authority_(District)                   138440 non-null  float64 \n",
      " 10  1st_Road_Class                               138440 non-null  float64 \n",
      " 11  1st_Road_Number                              138440 non-null  float64 \n",
      " 12  Road_Type                                    138440 non-null  float64 \n",
      " 13  Speed_limit                                  138440 non-null  float64 \n",
      " 14  Junction_Detail                              138440 non-null  float64 \n",
      " 15  Junction_Control                             138440 non-null  float64 \n",
      " 16  2nd_Road_Class                               138440 non-null  float64 \n",
      " 17  2nd_Road_Number                              138440 non-null  float64 \n",
      " 18  Pedestrian_Crossing-Human_Control            138440 non-null  float64 \n",
      " 19  Pedestrian_Crossing-Physical_Facilities      138440 non-null  float64 \n",
      " 20  Light_Conditions                             138440 non-null  float64 \n",
      " 21  Weather_Conditions                           138440 non-null  float64 \n",
      " 22  Road_Surface_Conditions                      138440 non-null  float64 \n",
      " 23  Special_Conditions_at_Site                   138440 non-null  float64 \n",
      " 24  Carriageway_Hazards                          138440 non-null  float64 \n",
      " 25  Urban_or_Rural_Area                          138440 non-null  float64 \n",
      " 26  Did_Police_Officer_Attend_Scene_of_Accident  138440 non-null  float64 \n",
      " 27  Accident_Index                               138440 non-null  category\n",
      " 28  Date                                         138440 non-null  category\n",
      " 29  Time                                         138440 non-null  category\n",
      " 30  Local_Authority_(Highway)                    138440 non-null  category\n",
      " 31  LSOA_of_Accident_Location                    138440 non-null  category\n",
      "dtypes: category(5), float64(27)\n",
      "memory usage: 37.5 MB\n"
     ]
    }
   ],
   "source": [
    "data_final.info()"
   ]
  },
  {
   "cell_type": "code",
   "execution_count": null,
   "metadata": {
    "id": "AjvPFmJKSFHj"
   },
   "outputs": [],
   "source": [
    "x1_train,x1_test, y1_train, y1_test = train_test_split(x1, y1, test_size=0.33, random_state=42)"
   ]
  },
  {
   "cell_type": "code",
   "execution_count": null,
   "metadata": {
    "colab": {
     "base_uri": "https://localhost:8080/",
     "height": 74
    },
    "id": "nZ4LPtmH2b-A",
    "outputId": "8a1ae864-7732-475f-f42c-ae8b78786cab"
   },
   "outputs": [
    {
     "data": {
      "text/html": [
       "<style>#sk-container-id-3 {color: black;background-color: white;}#sk-container-id-3 pre{padding: 0;}#sk-container-id-3 div.sk-toggleable {background-color: white;}#sk-container-id-3 label.sk-toggleable__label {cursor: pointer;display: block;width: 100%;margin-bottom: 0;padding: 0.3em;box-sizing: border-box;text-align: center;}#sk-container-id-3 label.sk-toggleable__label-arrow:before {content: \"▸\";float: left;margin-right: 0.25em;color: #696969;}#sk-container-id-3 label.sk-toggleable__label-arrow:hover:before {color: black;}#sk-container-id-3 div.sk-estimator:hover label.sk-toggleable__label-arrow:before {color: black;}#sk-container-id-3 div.sk-toggleable__content {max-height: 0;max-width: 0;overflow: hidden;text-align: left;background-color: #f0f8ff;}#sk-container-id-3 div.sk-toggleable__content pre {margin: 0.2em;color: black;border-radius: 0.25em;background-color: #f0f8ff;}#sk-container-id-3 input.sk-toggleable__control:checked~div.sk-toggleable__content {max-height: 200px;max-width: 100%;overflow: auto;}#sk-container-id-3 input.sk-toggleable__control:checked~label.sk-toggleable__label-arrow:before {content: \"▾\";}#sk-container-id-3 div.sk-estimator input.sk-toggleable__control:checked~label.sk-toggleable__label {background-color: #d4ebff;}#sk-container-id-3 div.sk-label input.sk-toggleable__control:checked~label.sk-toggleable__label {background-color: #d4ebff;}#sk-container-id-3 input.sk-hidden--visually {border: 0;clip: rect(1px 1px 1px 1px);clip: rect(1px, 1px, 1px, 1px);height: 1px;margin: -1px;overflow: hidden;padding: 0;position: absolute;width: 1px;}#sk-container-id-3 div.sk-estimator {font-family: monospace;background-color: #f0f8ff;border: 1px dotted black;border-radius: 0.25em;box-sizing: border-box;margin-bottom: 0.5em;}#sk-container-id-3 div.sk-estimator:hover {background-color: #d4ebff;}#sk-container-id-3 div.sk-parallel-item::after {content: \"\";width: 100%;border-bottom: 1px solid gray;flex-grow: 1;}#sk-container-id-3 div.sk-label:hover label.sk-toggleable__label {background-color: #d4ebff;}#sk-container-id-3 div.sk-serial::before {content: \"\";position: absolute;border-left: 1px solid gray;box-sizing: border-box;top: 0;bottom: 0;left: 50%;z-index: 0;}#sk-container-id-3 div.sk-serial {display: flex;flex-direction: column;align-items: center;background-color: white;padding-right: 0.2em;padding-left: 0.2em;position: relative;}#sk-container-id-3 div.sk-item {position: relative;z-index: 1;}#sk-container-id-3 div.sk-parallel {display: flex;align-items: stretch;justify-content: center;background-color: white;position: relative;}#sk-container-id-3 div.sk-item::before, #sk-container-id-3 div.sk-parallel-item::before {content: \"\";position: absolute;border-left: 1px solid gray;box-sizing: border-box;top: 0;bottom: 0;left: 50%;z-index: -1;}#sk-container-id-3 div.sk-parallel-item {display: flex;flex-direction: column;z-index: 1;position: relative;background-color: white;}#sk-container-id-3 div.sk-parallel-item:first-child::after {align-self: flex-end;width: 50%;}#sk-container-id-3 div.sk-parallel-item:last-child::after {align-self: flex-start;width: 50%;}#sk-container-id-3 div.sk-parallel-item:only-child::after {width: 0;}#sk-container-id-3 div.sk-dashed-wrapped {border: 1px dashed gray;margin: 0 0.4em 0.5em 0.4em;box-sizing: border-box;padding-bottom: 0.4em;background-color: white;}#sk-container-id-3 div.sk-label label {font-family: monospace;font-weight: bold;display: inline-block;line-height: 1.2em;}#sk-container-id-3 div.sk-label-container {text-align: center;}#sk-container-id-3 div.sk-container {/* jupyter's `normalize.less` sets `[hidden] { display: none; }` but bootstrap.min.css set `[hidden] { display: none !important; }` so we also need the `!important` here to be able to override the default hidden behavior on the sphinx rendered scikit-learn.org. See: https://github.com/scikit-learn/scikit-learn/issues/21755 */display: inline-block !important;position: relative;}#sk-container-id-3 div.sk-text-repr-fallback {display: none;}</style><div id=\"sk-container-id-3\" class=\"sk-top-container\"><div class=\"sk-text-repr-fallback\"><pre>RandomForestClassifier()</pre><b>In a Jupyter environment, please rerun this cell to show the HTML representation or trust the notebook. <br />On GitHub, the HTML representation is unable to render, please try loading this page with nbviewer.org.</b></div><div class=\"sk-container\" hidden><div class=\"sk-item\"><div class=\"sk-estimator sk-toggleable\"><input class=\"sk-toggleable__control sk-hidden--visually\" id=\"sk-estimator-id-3\" type=\"checkbox\" checked><label for=\"sk-estimator-id-3\" class=\"sk-toggleable__label sk-toggleable__label-arrow\">RandomForestClassifier</label><div class=\"sk-toggleable__content\"><pre>RandomForestClassifier()</pre></div></div></div></div></div>"
      ],
      "text/plain": [
       "RandomForestClassifier()"
      ]
     },
     "execution_count": 47,
     "metadata": {},
     "output_type": "execute_result"
    }
   ],
   "source": [
    "rf.fit(x1_train,y1_train)"
   ]
  },
  {
   "cell_type": "code",
   "execution_count": null,
   "metadata": {
    "colab": {
     "base_uri": "https://localhost:8080/"
    },
    "id": "spv1Fb8p2b_8",
    "outputId": "9d66db11-017f-459a-8ded-87be8f49734f"
   },
   "outputs": [
    {
     "data": {
      "text/plain": [
       "0.643594885395778"
      ]
     },
     "execution_count": 48,
     "metadata": {},
     "output_type": "execute_result"
    }
   ],
   "source": [
    "rf.score(x1_train,y1_train)"
   ]
  },
  {
   "cell_type": "code",
   "execution_count": null,
   "metadata": {
    "id": "R6ZwcDUmTHl0"
   },
   "outputs": [],
   "source": [
    "predict2=rf.predict(x1_test)\n",
    "from sklearn.metrics import accuracy_score"
   ]
  },
  {
   "cell_type": "code",
   "execution_count": null,
   "metadata": {
    "colab": {
     "base_uri": "https://localhost:8080/"
    },
    "id": "1K37SnNuTWYD",
    "outputId": "ac8ad4fc-6242-4b8a-8e90-1eaef2e01620"
   },
   "outputs": [
    {
     "data": {
      "text/plain": [
       "0.6439828393818675"
      ]
     },
     "execution_count": 50,
     "metadata": {},
     "output_type": "execute_result"
    }
   ],
   "source": [
    "accuracy_score(predict2,y1_test)"
   ]
  },
  {
   "cell_type": "code",
   "execution_count": null,
   "metadata": {
    "id": "6rUAhk4LWX7W"
   },
   "outputs": [],
   "source": [
    "mean_value=data_final['Speed_limit'].median()\n",
    "data_final['Speed_limit'].fillna(value=mean_value, inplace=True)\n",
    "mean_value=data_final['Road_Type'].median()\n",
    "data_final['Road_Type'].fillna(value=mean_value, inplace=True)\n",
    "x7=data_final[['Road_Type']]\n",
    "y7=data_final['Speed_limit']"
   ]
  },
  {
   "cell_type": "code",
   "execution_count": null,
   "metadata": {
    "id": "3xGwbuX5gePO"
   },
   "outputs": [],
   "source": [
    "x7_train, x7_test, y7_train, y7_test = train_test_split(x7, y7, test_size=0.33, random_state=42)\n",
    "from sklearn.naive_bayes import BernoulliNB\n",
    "be = BernoulliNB()"
   ]
  },
  {
   "cell_type": "code",
   "execution_count": null,
   "metadata": {
    "colab": {
     "base_uri": "https://localhost:8080/",
     "height": 74
    },
    "id": "3Fq3hqKTgkE4",
    "outputId": "e6d5260a-e405-4cbf-9ece-e9c654f38d7c"
   },
   "outputs": [
    {
     "data": {
      "text/html": [
       "<style>#sk-container-id-4 {color: black;background-color: white;}#sk-container-id-4 pre{padding: 0;}#sk-container-id-4 div.sk-toggleable {background-color: white;}#sk-container-id-4 label.sk-toggleable__label {cursor: pointer;display: block;width: 100%;margin-bottom: 0;padding: 0.3em;box-sizing: border-box;text-align: center;}#sk-container-id-4 label.sk-toggleable__label-arrow:before {content: \"▸\";float: left;margin-right: 0.25em;color: #696969;}#sk-container-id-4 label.sk-toggleable__label-arrow:hover:before {color: black;}#sk-container-id-4 div.sk-estimator:hover label.sk-toggleable__label-arrow:before {color: black;}#sk-container-id-4 div.sk-toggleable__content {max-height: 0;max-width: 0;overflow: hidden;text-align: left;background-color: #f0f8ff;}#sk-container-id-4 div.sk-toggleable__content pre {margin: 0.2em;color: black;border-radius: 0.25em;background-color: #f0f8ff;}#sk-container-id-4 input.sk-toggleable__control:checked~div.sk-toggleable__content {max-height: 200px;max-width: 100%;overflow: auto;}#sk-container-id-4 input.sk-toggleable__control:checked~label.sk-toggleable__label-arrow:before {content: \"▾\";}#sk-container-id-4 div.sk-estimator input.sk-toggleable__control:checked~label.sk-toggleable__label {background-color: #d4ebff;}#sk-container-id-4 div.sk-label input.sk-toggleable__control:checked~label.sk-toggleable__label {background-color: #d4ebff;}#sk-container-id-4 input.sk-hidden--visually {border: 0;clip: rect(1px 1px 1px 1px);clip: rect(1px, 1px, 1px, 1px);height: 1px;margin: -1px;overflow: hidden;padding: 0;position: absolute;width: 1px;}#sk-container-id-4 div.sk-estimator {font-family: monospace;background-color: #f0f8ff;border: 1px dotted black;border-radius: 0.25em;box-sizing: border-box;margin-bottom: 0.5em;}#sk-container-id-4 div.sk-estimator:hover {background-color: #d4ebff;}#sk-container-id-4 div.sk-parallel-item::after {content: \"\";width: 100%;border-bottom: 1px solid gray;flex-grow: 1;}#sk-container-id-4 div.sk-label:hover label.sk-toggleable__label {background-color: #d4ebff;}#sk-container-id-4 div.sk-serial::before {content: \"\";position: absolute;border-left: 1px solid gray;box-sizing: border-box;top: 0;bottom: 0;left: 50%;z-index: 0;}#sk-container-id-4 div.sk-serial {display: flex;flex-direction: column;align-items: center;background-color: white;padding-right: 0.2em;padding-left: 0.2em;position: relative;}#sk-container-id-4 div.sk-item {position: relative;z-index: 1;}#sk-container-id-4 div.sk-parallel {display: flex;align-items: stretch;justify-content: center;background-color: white;position: relative;}#sk-container-id-4 div.sk-item::before, #sk-container-id-4 div.sk-parallel-item::before {content: \"\";position: absolute;border-left: 1px solid gray;box-sizing: border-box;top: 0;bottom: 0;left: 50%;z-index: -1;}#sk-container-id-4 div.sk-parallel-item {display: flex;flex-direction: column;z-index: 1;position: relative;background-color: white;}#sk-container-id-4 div.sk-parallel-item:first-child::after {align-self: flex-end;width: 50%;}#sk-container-id-4 div.sk-parallel-item:last-child::after {align-self: flex-start;width: 50%;}#sk-container-id-4 div.sk-parallel-item:only-child::after {width: 0;}#sk-container-id-4 div.sk-dashed-wrapped {border: 1px dashed gray;margin: 0 0.4em 0.5em 0.4em;box-sizing: border-box;padding-bottom: 0.4em;background-color: white;}#sk-container-id-4 div.sk-label label {font-family: monospace;font-weight: bold;display: inline-block;line-height: 1.2em;}#sk-container-id-4 div.sk-label-container {text-align: center;}#sk-container-id-4 div.sk-container {/* jupyter's `normalize.less` sets `[hidden] { display: none; }` but bootstrap.min.css set `[hidden] { display: none !important; }` so we also need the `!important` here to be able to override the default hidden behavior on the sphinx rendered scikit-learn.org. See: https://github.com/scikit-learn/scikit-learn/issues/21755 */display: inline-block !important;position: relative;}#sk-container-id-4 div.sk-text-repr-fallback {display: none;}</style><div id=\"sk-container-id-4\" class=\"sk-top-container\"><div class=\"sk-text-repr-fallback\"><pre>BernoulliNB()</pre><b>In a Jupyter environment, please rerun this cell to show the HTML representation or trust the notebook. <br />On GitHub, the HTML representation is unable to render, please try loading this page with nbviewer.org.</b></div><div class=\"sk-container\" hidden><div class=\"sk-item\"><div class=\"sk-estimator sk-toggleable\"><input class=\"sk-toggleable__control sk-hidden--visually\" id=\"sk-estimator-id-4\" type=\"checkbox\" checked><label for=\"sk-estimator-id-4\" class=\"sk-toggleable__label sk-toggleable__label-arrow\">BernoulliNB</label><div class=\"sk-toggleable__content\"><pre>BernoulliNB()</pre></div></div></div></div></div>"
      ],
      "text/plain": [
       "BernoulliNB()"
      ]
     },
     "execution_count": 53,
     "metadata": {},
     "output_type": "execute_result"
    }
   ],
   "source": [
    "be.fit(x7_train,y7_train)"
   ]
  },
  {
   "cell_type": "code",
   "execution_count": null,
   "metadata": {
    "colab": {
     "base_uri": "https://localhost:8080/"
    },
    "id": "ejcRZocuh54X",
    "outputId": "b96b48b1-e76d-450c-9b7d-9836c3e6c26c"
   },
   "outputs": [
    {
     "name": "stdout",
     "output_type": "stream",
     "text": [
      "Drive already mounted at /content/drive; to attempt to forcibly remount, call drive.mount(\"/content/drive\", force_remount=True).\n"
     ]
    }
   ],
   "source": [
    "from google.colab import drive\n",
    "drive.mount('/content/drive')"
   ]
  },
  {
   "cell_type": "code",
   "execution_count": null,
   "metadata": {
    "colab": {
     "base_uri": "https://localhost:8080/"
    },
    "id": "zyCM1y3pmwOx",
    "outputId": "efd2d280-2b1e-4162-b957-e59db0fc7893"
   },
   "outputs": [
    {
     "data": {
      "text/plain": [
       "0.6435409793647713"
      ]
     },
     "execution_count": 55,
     "metadata": {},
     "output_type": "execute_result"
    }
   ],
   "source": [
    "be.score(x7_train,y7_train)"
   ]
  },
  {
   "cell_type": "code",
   "execution_count": null,
   "metadata": {
    "colab": {
     "base_uri": "https://localhost:8080/"
    },
    "id": "LiCJO5ClvCe7",
    "outputId": "64281094-5f7b-4894-f7e6-9b8e57af7aa7"
   },
   "outputs": [
    {
     "name": "stdout",
     "output_type": "stream",
     "text": [
      "<class 'pandas.core.frame.DataFrame'>\n",
      "Int64Index: 138440 entries, 0 to 134207\n",
      "Data columns (total 32 columns):\n",
      " #   Column                                       Non-Null Count   Dtype   \n",
      "---  ------                                       --------------   -----   \n",
      " 0   Location_Easting_OSGR                        138440 non-null  float64 \n",
      " 1   Location_Northing_OSGR                       138440 non-null  float64 \n",
      " 2   Longitude                                    138440 non-null  float64 \n",
      " 3   Latitude                                     138440 non-null  float64 \n",
      " 4   Police_Force                                 138440 non-null  float64 \n",
      " 5   Accident_Severity                            138440 non-null  float64 \n",
      " 6   Number_of_Vehicles                           138440 non-null  float64 \n",
      " 7   Number_of_Casualties                         138440 non-null  float64 \n",
      " 8   Day_of_Week                                  138440 non-null  float64 \n",
      " 9   Local_Authority_(District)                   138440 non-null  float64 \n",
      " 10  1st_Road_Class                               138440 non-null  float64 \n",
      " 11  1st_Road_Number                              138440 non-null  float64 \n",
      " 12  Road_Type                                    138440 non-null  float64 \n",
      " 13  Speed_limit                                  138440 non-null  float64 \n",
      " 14  Junction_Detail                              138440 non-null  float64 \n",
      " 15  Junction_Control                             138440 non-null  float64 \n",
      " 16  2nd_Road_Class                               138440 non-null  float64 \n",
      " 17  2nd_Road_Number                              138440 non-null  float64 \n",
      " 18  Pedestrian_Crossing-Human_Control            138440 non-null  float64 \n",
      " 19  Pedestrian_Crossing-Physical_Facilities      138440 non-null  float64 \n",
      " 20  Light_Conditions                             138440 non-null  float64 \n",
      " 21  Weather_Conditions                           138440 non-null  float64 \n",
      " 22  Road_Surface_Conditions                      138440 non-null  float64 \n",
      " 23  Special_Conditions_at_Site                   138440 non-null  float64 \n",
      " 24  Carriageway_Hazards                          138440 non-null  float64 \n",
      " 25  Urban_or_Rural_Area                          138440 non-null  float64 \n",
      " 26  Did_Police_Officer_Attend_Scene_of_Accident  138440 non-null  float64 \n",
      " 27  Accident_Index                               138440 non-null  category\n",
      " 28  Date                                         138440 non-null  category\n",
      " 29  Time                                         138440 non-null  category\n",
      " 30  Local_Authority_(Highway)                    138440 non-null  category\n",
      " 31  LSOA_of_Accident_Location                    138440 non-null  category\n",
      "dtypes: category(5), float64(27)\n",
      "memory usage: 37.5 MB\n"
     ]
    }
   ],
   "source": [
    "data_final.info()"
   ]
  },
  {
   "cell_type": "code",
   "execution_count": null,
   "metadata": {
    "id": "7JbIW6Nt3A64"
   },
   "outputs": [],
   "source": [
    "from sklearn.feature_selection import VarianceThreshold\n",
    "\n",
    "vt = VarianceThreshold()"
   ]
  },
  {
   "cell_type": "code",
   "execution_count": null,
   "metadata": {
    "id": "f8HBcwp44iT6"
   },
   "outputs": [],
   "source": [
    "data_final = data_final.drop(['Location_Easting_OSGR','Location_Northing_OSGR'],axis = 1)"
   ]
  },
  {
   "cell_type": "code",
   "execution_count": null,
   "metadata": {
    "id": "_pUIU-5a4NAF"
   },
   "outputs": [],
   "source": [
    "df_var_num = data_final.select_dtypes(include='number')"
   ]
  },
  {
   "cell_type": "code",
   "execution_count": null,
   "metadata": {
    "id": "P01WHl5C4U1l"
   },
   "outputs": [],
   "source": [
    "transformed = vt.fit_transform(df_var_num)\n"
   ]
  },
  {
   "cell_type": "code",
   "execution_count": null,
   "metadata": {
    "colab": {
     "base_uri": "https://localhost:8080/"
    },
    "id": "0zC0St9-4dt7",
    "outputId": "bdfddc06-3f7a-453f-a17b-f19441575370"
   },
   "outputs": [
    {
     "data": {
      "text/plain": [
       "array([[ 0.        , 51.        ,  1.        , ...,  0.        ,\n",
       "         1.        ,  1.        ],\n",
       "       [ 0.        , 51.        ,  1.        , ...,  0.        ,\n",
       "         1.        ,  1.        ],\n",
       "       [ 0.        , 51.        ,  1.        , ...,  0.        ,\n",
       "         1.        ,  1.        ],\n",
       "       ...,\n",
       "       [-1.01840333, 51.95687322, 29.89955652, ...,  0.06175864,\n",
       "         1.34244335,  1.19846603],\n",
       "       [-1.01840333, 51.95687322, 29.89955652, ...,  0.06175864,\n",
       "         1.34244335,  1.19846603],\n",
       "       [-1.01840333, 51.95687322, 29.89955652, ...,  0.06175864,\n",
       "         1.34244335,  1.19846603]])"
      ]
     },
     "execution_count": 61,
     "metadata": {},
     "output_type": "execute_result"
    }
   ],
   "source": [
    "transformed"
   ]
  },
  {
   "cell_type": "code",
   "execution_count": null,
   "metadata": {
    "id": "1GSKtSKw4fn_"
   },
   "outputs": [],
   "source": [
    "from imblearn.over_sampling import SMOTE\n",
    "from sklearn.model_selection import train_test_split"
   ]
  },
  {
   "cell_type": "code",
   "execution_count": null,
   "metadata": {
    "colab": {
     "base_uri": "https://localhost:8080/"
    },
    "id": "n4j6-MyKAcKS",
    "outputId": "b612a131-a597-46a1-c789-bc7e8531173e"
   },
   "outputs": [
    {
     "data": {
      "text/plain": [
       "Longitude                                      0\n",
       "Latitude                                       0\n",
       "Police_Force                                   0\n",
       "Accident_Severity                              0\n",
       "Number_of_Vehicles                             0\n",
       "Number_of_Casualties                           0\n",
       "Day_of_Week                                    0\n",
       "Local_Authority_(District)                     0\n",
       "1st_Road_Class                                 0\n",
       "1st_Road_Number                                0\n",
       "Road_Type                                      0\n",
       "Speed_limit                                    0\n",
       "Junction_Detail                                0\n",
       "Junction_Control                               0\n",
       "2nd_Road_Class                                 0\n",
       "2nd_Road_Number                                0\n",
       "Pedestrian_Crossing-Human_Control              0\n",
       "Pedestrian_Crossing-Physical_Facilities        0\n",
       "Light_Conditions                               0\n",
       "Weather_Conditions                             0\n",
       "Road_Surface_Conditions                        0\n",
       "Special_Conditions_at_Site                     0\n",
       "Carriageway_Hazards                            0\n",
       "Urban_or_Rural_Area                            0\n",
       "Did_Police_Officer_Attend_Scene_of_Accident    0\n",
       "Accident_Index                                 0\n",
       "Date                                           0\n",
       "Time                                           0\n",
       "Local_Authority_(Highway)                      0\n",
       "LSOA_of_Accident_Location                      0\n",
       "dtype: int64"
      ]
     },
     "execution_count": 63,
     "metadata": {},
     "output_type": "execute_result"
    }
   ],
   "source": [
    "data_final.isnull().sum()\n"
   ]
  },
  {
   "cell_type": "code",
   "execution_count": null,
   "metadata": {
    "id": "djl7gN98A426"
   },
   "outputs": [],
   "source": [
    "data_smote = data_final"
   ]
  },
  {
   "cell_type": "code",
   "execution_count": null,
   "metadata": {
    "id": "zJItMY_cBZSF"
   },
   "outputs": [],
   "source": [
    "data_smote.dropna(inplace=True)"
   ]
  },
  {
   "cell_type": "code",
   "execution_count": null,
   "metadata": {
    "colab": {
     "base_uri": "https://localhost:8080/"
    },
    "id": "5YNbKUl5BhBt",
    "outputId": "e18b008e-7a8f-41d6-f168-85695620551c"
   },
   "outputs": [
    {
     "data": {
      "text/plain": [
       "Longitude                                      0\n",
       "Latitude                                       0\n",
       "Police_Force                                   0\n",
       "Accident_Severity                              0\n",
       "Number_of_Vehicles                             0\n",
       "Number_of_Casualties                           0\n",
       "Day_of_Week                                    0\n",
       "Local_Authority_(District)                     0\n",
       "1st_Road_Class                                 0\n",
       "1st_Road_Number                                0\n",
       "Road_Type                                      0\n",
       "Speed_limit                                    0\n",
       "Junction_Detail                                0\n",
       "Junction_Control                               0\n",
       "2nd_Road_Class                                 0\n",
       "2nd_Road_Number                                0\n",
       "Pedestrian_Crossing-Human_Control              0\n",
       "Pedestrian_Crossing-Physical_Facilities        0\n",
       "Light_Conditions                               0\n",
       "Weather_Conditions                             0\n",
       "Road_Surface_Conditions                        0\n",
       "Special_Conditions_at_Site                     0\n",
       "Carriageway_Hazards                            0\n",
       "Urban_or_Rural_Area                            0\n",
       "Did_Police_Officer_Attend_Scene_of_Accident    0\n",
       "Accident_Index                                 0\n",
       "Date                                           0\n",
       "Time                                           0\n",
       "Local_Authority_(Highway)                      0\n",
       "LSOA_of_Accident_Location                      0\n",
       "dtype: int64"
      ]
     },
     "execution_count": 66,
     "metadata": {},
     "output_type": "execute_result"
    }
   ],
   "source": [
    "data_smote.isnull().sum()"
   ]
  },
  {
   "cell_type": "code",
   "execution_count": null,
   "metadata": {
    "colab": {
     "base_uri": "https://localhost:8080/"
    },
    "id": "kp1JztpHBlcf",
    "outputId": "a0aa0729-d7fd-434b-a5d0-8cafd50f4357"
   },
   "outputs": [
    {
     "name": "stderr",
     "output_type": "stream",
     "text": [
      "<ipython-input-67-86196c4afc63>:3: FutureWarning: The default value of numeric_only in DataFrame.median is deprecated. In a future version, it will default to False. In addition, specifying 'numeric_only=None' is deprecated. Select only valid columns or specify the value of numeric_only to silence this warning.\n",
      "  X = X.fillna(X.median())\n"
     ]
    },
    {
     "name": "stdout",
     "output_type": "stream",
     "text": [
      "Class distribution after SMOTE:  3.0    82856\n",
      "2.0    82856\n",
      "Name: Accident_Severity, dtype: int64\n"
     ]
    }
   ],
   "source": [
    "X = data_smote.drop('Accident_Severity', axis=1)\n",
    "y = data_smote['Accident_Severity']\n",
    "X = X.fillna(X.median())\n",
    "# Split the dataset into training and testing sets\n",
    "X_train, X_test, y_train, y_test = train_test_split(X, y, test_size=0.3, random_state=42)\n",
    "\n",
    "# Apply SMOTE on the target variable\n",
    "sm = SMOTE(random_state=42)\n",
    "X_train_res, y_train_res = sm.fit_resample(X_train, y_train)\n",
    "\n",
    "# Check the class distribution after SMOTE\n",
    "print(\"Class distribution after SMOTE: \", y_train_res.value_counts())\n"
   ]
  },
  {
   "cell_type": "code",
   "execution_count": null,
   "metadata": {
    "colab": {
     "base_uri": "https://localhost:8080/"
    },
    "id": "6w0EcgEbE6eu",
    "outputId": "09dc3987-f065-42d5-c43c-25743d52d9f4"
   },
   "outputs": [
    {
     "name": "stdout",
     "output_type": "stream",
     "text": [
      "<class 'pandas.core.frame.DataFrame'>\n",
      "Int64Index: 138440 entries, 0 to 134207\n",
      "Data columns (total 30 columns):\n",
      " #   Column                                       Non-Null Count   Dtype   \n",
      "---  ------                                       --------------   -----   \n",
      " 0   Longitude                                    138440 non-null  float64 \n",
      " 1   Latitude                                     138440 non-null  float64 \n",
      " 2   Police_Force                                 138440 non-null  float64 \n",
      " 3   Accident_Severity                            138440 non-null  float64 \n",
      " 4   Number_of_Vehicles                           138440 non-null  float64 \n",
      " 5   Number_of_Casualties                         138440 non-null  float64 \n",
      " 6   Day_of_Week                                  138440 non-null  float64 \n",
      " 7   Local_Authority_(District)                   138440 non-null  float64 \n",
      " 8   1st_Road_Class                               138440 non-null  float64 \n",
      " 9   1st_Road_Number                              138440 non-null  float64 \n",
      " 10  Road_Type                                    138440 non-null  float64 \n",
      " 11  Speed_limit                                  138440 non-null  float64 \n",
      " 12  Junction_Detail                              138440 non-null  float64 \n",
      " 13  Junction_Control                             138440 non-null  float64 \n",
      " 14  2nd_Road_Class                               138440 non-null  float64 \n",
      " 15  2nd_Road_Number                              138440 non-null  float64 \n",
      " 16  Pedestrian_Crossing-Human_Control            138440 non-null  float64 \n",
      " 17  Pedestrian_Crossing-Physical_Facilities      138440 non-null  float64 \n",
      " 18  Light_Conditions                             138440 non-null  float64 \n",
      " 19  Weather_Conditions                           138440 non-null  float64 \n",
      " 20  Road_Surface_Conditions                      138440 non-null  float64 \n",
      " 21  Special_Conditions_at_Site                   138440 non-null  float64 \n",
      " 22  Carriageway_Hazards                          138440 non-null  float64 \n",
      " 23  Urban_or_Rural_Area                          138440 non-null  float64 \n",
      " 24  Did_Police_Officer_Attend_Scene_of_Accident  138440 non-null  float64 \n",
      " 25  Accident_Index                               138440 non-null  category\n",
      " 26  Date                                         138440 non-null  category\n",
      " 27  Time                                         138440 non-null  category\n",
      " 28  Local_Authority_(Highway)                    138440 non-null  category\n",
      " 29  LSOA_of_Accident_Location                    138440 non-null  category\n",
      "dtypes: category(5), float64(25)\n",
      "memory usage: 35.4 MB\n"
     ]
    }
   ],
   "source": [
    "data_final.info()"
   ]
  },
  {
   "cell_type": "code",
   "execution_count": null,
   "metadata": {
    "colab": {
     "base_uri": "https://localhost:8080/"
    },
    "id": "PnehdHz2T9WT",
    "outputId": "f89a4133-ae7f-4216-e77e-386b9edb078f"
   },
   "outputs": [
    {
     "data": {
      "text/plain": [
       "Longitude                                      0\n",
       "Latitude                                       0\n",
       "Police_Force                                   0\n",
       "Number_of_Vehicles                             0\n",
       "Number_of_Casualties                           0\n",
       "Day_of_Week                                    0\n",
       "Local_Authority_(District)                     0\n",
       "1st_Road_Class                                 0\n",
       "1st_Road_Number                                0\n",
       "Road_Type                                      0\n",
       "Speed_limit                                    0\n",
       "Junction_Detail                                0\n",
       "Junction_Control                               0\n",
       "2nd_Road_Class                                 0\n",
       "2nd_Road_Number                                0\n",
       "Pedestrian_Crossing-Human_Control              0\n",
       "Pedestrian_Crossing-Physical_Facilities        0\n",
       "Light_Conditions                               0\n",
       "Weather_Conditions                             0\n",
       "Road_Surface_Conditions                        0\n",
       "Special_Conditions_at_Site                     0\n",
       "Carriageway_Hazards                            0\n",
       "Urban_or_Rural_Area                            0\n",
       "Did_Police_Officer_Attend_Scene_of_Accident    0\n",
       "Accident_Index                                 0\n",
       "Date                                           0\n",
       "Time                                           0\n",
       "Local_Authority_(Highway)                      0\n",
       "LSOA_of_Accident_Location                      0\n",
       "dtype: int64"
      ]
     },
     "execution_count": 69,
     "metadata": {},
     "output_type": "execute_result"
    }
   ],
   "source": [
    "X.isnull().sum()"
   ]
  },
  {
   "cell_type": "code",
   "execution_count": null,
   "metadata": {
    "id": "sLAoGeqhCSkN"
   },
   "outputs": [],
   "source": [
    "\n",
    "X_train, X_test, y_train, y_test = train_test_split(X, y, test_size=0.3, random_state=42)\n",
    "\n",
    "# Apply SMOTE on the target variable\n",
    "sm = SMOTE(random_state=42)\n",
    "X_train_res, y_train_res = sm.fit_resample(X_train, y_train)"
   ]
  },
  {
   "cell_type": "code",
   "execution_count": null,
   "metadata": {
    "colab": {
     "base_uri": "https://localhost:8080/",
     "height": 380
    },
    "id": "we_6GJ0IB2Zd",
    "outputId": "f7b629f1-da77-4caa-bc9f-43e39393deb5"
   },
   "outputs": [
    {
     "ename": "ValueError",
     "evalue": "ignored",
     "output_type": "error",
     "traceback": [
      "\u001b[0;31m---------------------------------------------------------------------------\u001b[0m",
      "\u001b[0;31mValueError\u001b[0m                                Traceback (most recent call last)",
      "\u001b[0;32m<ipython-input-71-212126f2e4d7>\u001b[0m in \u001b[0;36m<cell line: 1>\u001b[0;34m()\u001b[0m\n\u001b[0;32m----> 1\u001b[0;31m \u001b[0mclf_1\u001b[0m \u001b[0;34m=\u001b[0m \u001b[0mLogisticRegression\u001b[0m\u001b[0;34m(\u001b[0m\u001b[0msolver\u001b[0m\u001b[0;34m=\u001b[0m\u001b[0;34m'saga'\u001b[0m\u001b[0;34m,\u001b[0m\u001b[0mmax_iter\u001b[0m\u001b[0;34m=\u001b[0m\u001b[0;36m2500\u001b[0m\u001b[0;34m)\u001b[0m\u001b[0;34m.\u001b[0m\u001b[0mfit\u001b[0m\u001b[0;34m(\u001b[0m\u001b[0mX_train_res\u001b[0m\u001b[0;34m,\u001b[0m \u001b[0my_train_res\u001b[0m\u001b[0;34m)\u001b[0m\u001b[0;34m\u001b[0m\u001b[0;34m\u001b[0m\u001b[0m\n\u001b[0m",
      "\u001b[0;32m/usr/local/lib/python3.10/dist-packages/sklearn/linear_model/_logistic.py\u001b[0m in \u001b[0;36mfit\u001b[0;34m(self, X, y, sample_weight)\u001b[0m\n\u001b[1;32m   1194\u001b[0m             \u001b[0m_dtype\u001b[0m \u001b[0;34m=\u001b[0m \u001b[0;34m[\u001b[0m\u001b[0mnp\u001b[0m\u001b[0;34m.\u001b[0m\u001b[0mfloat64\u001b[0m\u001b[0;34m,\u001b[0m \u001b[0mnp\u001b[0m\u001b[0;34m.\u001b[0m\u001b[0mfloat32\u001b[0m\u001b[0;34m]\u001b[0m\u001b[0;34m\u001b[0m\u001b[0;34m\u001b[0m\u001b[0m\n\u001b[1;32m   1195\u001b[0m \u001b[0;34m\u001b[0m\u001b[0m\n\u001b[0;32m-> 1196\u001b[0;31m         X, y = self._validate_data(\n\u001b[0m\u001b[1;32m   1197\u001b[0m             \u001b[0mX\u001b[0m\u001b[0;34m,\u001b[0m\u001b[0;34m\u001b[0m\u001b[0;34m\u001b[0m\u001b[0m\n\u001b[1;32m   1198\u001b[0m             \u001b[0my\u001b[0m\u001b[0;34m,\u001b[0m\u001b[0;34m\u001b[0m\u001b[0;34m\u001b[0m\u001b[0m\n",
      "\u001b[0;32m/usr/local/lib/python3.10/dist-packages/sklearn/base.py\u001b[0m in \u001b[0;36m_validate_data\u001b[0;34m(self, X, y, reset, validate_separately, **check_params)\u001b[0m\n\u001b[1;32m    582\u001b[0m                 \u001b[0my\u001b[0m \u001b[0;34m=\u001b[0m \u001b[0mcheck_array\u001b[0m\u001b[0;34m(\u001b[0m\u001b[0my\u001b[0m\u001b[0;34m,\u001b[0m \u001b[0minput_name\u001b[0m\u001b[0;34m=\u001b[0m\u001b[0;34m\"y\"\u001b[0m\u001b[0;34m,\u001b[0m \u001b[0;34m**\u001b[0m\u001b[0mcheck_y_params\u001b[0m\u001b[0;34m)\u001b[0m\u001b[0;34m\u001b[0m\u001b[0;34m\u001b[0m\u001b[0m\n\u001b[1;32m    583\u001b[0m             \u001b[0;32melse\u001b[0m\u001b[0;34m:\u001b[0m\u001b[0;34m\u001b[0m\u001b[0;34m\u001b[0m\u001b[0m\n\u001b[0;32m--> 584\u001b[0;31m                 \u001b[0mX\u001b[0m\u001b[0;34m,\u001b[0m \u001b[0my\u001b[0m \u001b[0;34m=\u001b[0m \u001b[0mcheck_X_y\u001b[0m\u001b[0;34m(\u001b[0m\u001b[0mX\u001b[0m\u001b[0;34m,\u001b[0m \u001b[0my\u001b[0m\u001b[0;34m,\u001b[0m \u001b[0;34m**\u001b[0m\u001b[0mcheck_params\u001b[0m\u001b[0;34m)\u001b[0m\u001b[0;34m\u001b[0m\u001b[0;34m\u001b[0m\u001b[0m\n\u001b[0m\u001b[1;32m    585\u001b[0m             \u001b[0mout\u001b[0m \u001b[0;34m=\u001b[0m \u001b[0mX\u001b[0m\u001b[0;34m,\u001b[0m \u001b[0my\u001b[0m\u001b[0;34m\u001b[0m\u001b[0;34m\u001b[0m\u001b[0m\n\u001b[1;32m    586\u001b[0m \u001b[0;34m\u001b[0m\u001b[0m\n",
      "\u001b[0;32m/usr/local/lib/python3.10/dist-packages/sklearn/utils/validation.py\u001b[0m in \u001b[0;36mcheck_X_y\u001b[0;34m(X, y, accept_sparse, accept_large_sparse, dtype, order, copy, force_all_finite, ensure_2d, allow_nd, multi_output, ensure_min_samples, ensure_min_features, y_numeric, estimator)\u001b[0m\n\u001b[1;32m   1104\u001b[0m         )\n\u001b[1;32m   1105\u001b[0m \u001b[0;34m\u001b[0m\u001b[0m\n\u001b[0;32m-> 1106\u001b[0;31m     X = check_array(\n\u001b[0m\u001b[1;32m   1107\u001b[0m         \u001b[0mX\u001b[0m\u001b[0;34m,\u001b[0m\u001b[0;34m\u001b[0m\u001b[0;34m\u001b[0m\u001b[0m\n\u001b[1;32m   1108\u001b[0m         \u001b[0maccept_sparse\u001b[0m\u001b[0;34m=\u001b[0m\u001b[0maccept_sparse\u001b[0m\u001b[0;34m,\u001b[0m\u001b[0;34m\u001b[0m\u001b[0;34m\u001b[0m\u001b[0m\n",
      "\u001b[0;32m/usr/local/lib/python3.10/dist-packages/sklearn/utils/validation.py\u001b[0m in \u001b[0;36mcheck_array\u001b[0;34m(array, accept_sparse, accept_large_sparse, dtype, order, copy, force_all_finite, ensure_2d, allow_nd, ensure_min_samples, ensure_min_features, estimator, input_name)\u001b[0m\n\u001b[1;32m    919\u001b[0m \u001b[0;34m\u001b[0m\u001b[0m\n\u001b[1;32m    920\u001b[0m         \u001b[0;32mif\u001b[0m \u001b[0mforce_all_finite\u001b[0m\u001b[0;34m:\u001b[0m\u001b[0;34m\u001b[0m\u001b[0;34m\u001b[0m\u001b[0m\n\u001b[0;32m--> 921\u001b[0;31m             _assert_all_finite(\n\u001b[0m\u001b[1;32m    922\u001b[0m                 \u001b[0marray\u001b[0m\u001b[0;34m,\u001b[0m\u001b[0;34m\u001b[0m\u001b[0;34m\u001b[0m\u001b[0m\n\u001b[1;32m    923\u001b[0m                 \u001b[0minput_name\u001b[0m\u001b[0;34m=\u001b[0m\u001b[0minput_name\u001b[0m\u001b[0;34m,\u001b[0m\u001b[0;34m\u001b[0m\u001b[0;34m\u001b[0m\u001b[0m\n",
      "\u001b[0;32m/usr/local/lib/python3.10/dist-packages/sklearn/utils/validation.py\u001b[0m in \u001b[0;36m_assert_all_finite\u001b[0;34m(X, allow_nan, msg_dtype, estimator_name, input_name)\u001b[0m\n\u001b[1;32m    159\u001b[0m                 \u001b[0;34m\"#estimators-that-handle-nan-values\"\u001b[0m\u001b[0;34m\u001b[0m\u001b[0;34m\u001b[0m\u001b[0m\n\u001b[1;32m    160\u001b[0m             )\n\u001b[0;32m--> 161\u001b[0;31m         \u001b[0;32mraise\u001b[0m \u001b[0mValueError\u001b[0m\u001b[0;34m(\u001b[0m\u001b[0mmsg_err\u001b[0m\u001b[0;34m)\u001b[0m\u001b[0;34m\u001b[0m\u001b[0;34m\u001b[0m\u001b[0m\n\u001b[0m\u001b[1;32m    162\u001b[0m \u001b[0;34m\u001b[0m\u001b[0m\n\u001b[1;32m    163\u001b[0m \u001b[0;34m\u001b[0m\u001b[0m\n",
      "\u001b[0;31mValueError\u001b[0m: Input X contains NaN.\nLogisticRegression does not accept missing values encoded as NaN natively. For supervised learning, you might want to consider sklearn.ensemble.HistGradientBoostingClassifier and Regressor which accept missing values encoded as NaNs natively. Alternatively, it is possible to preprocess the data, for instance by using an imputer transformer in a pipeline or drop samples with missing values. See https://scikit-learn.org/stable/modules/impute.html You can find a list of all estimators that handle NaN values at the following page: https://scikit-learn.org/stable/modules/impute.html#estimators-that-handle-nan-values"
     ]
    }
   ],
   "source": [
    "clf_1 = LogisticRegression(solver='saga',max_iter=2500).fit(X_train_res, y_train_res)"
   ]
  },
  {
   "cell_type": "code",
   "execution_count": null,
   "metadata": {
    "colab": {
     "base_uri": "https://localhost:8080/"
    },
    "id": "W-RLyozkFdnI",
    "outputId": "3aac0815-4668-437e-8e68-76d780998a9c"
   },
   "outputs": [
    {
     "name": "stdout",
     "output_type": "stream",
     "text": [
      "<class 'pandas.core.frame.DataFrame'>\n",
      "Int64Index: 138440 entries, 0 to 134207\n",
      "Data columns (total 30 columns):\n",
      " #   Column                                       Non-Null Count   Dtype   \n",
      "---  ------                                       --------------   -----   \n",
      " 0   Longitude                                    138440 non-null  float64 \n",
      " 1   Latitude                                     138440 non-null  float64 \n",
      " 2   Police_Force                                 138440 non-null  float64 \n",
      " 3   Accident_Severity                            138440 non-null  float64 \n",
      " 4   Number_of_Vehicles                           138440 non-null  float64 \n",
      " 5   Number_of_Casualties                         138440 non-null  float64 \n",
      " 6   Day_of_Week                                  138440 non-null  float64 \n",
      " 7   Local_Authority_(District)                   138440 non-null  float64 \n",
      " 8   1st_Road_Class                               138440 non-null  float64 \n",
      " 9   1st_Road_Number                              138440 non-null  float64 \n",
      " 10  Road_Type                                    138440 non-null  float64 \n",
      " 11  Speed_limit                                  138440 non-null  float64 \n",
      " 12  Junction_Detail                              138440 non-null  float64 \n",
      " 13  Junction_Control                             138440 non-null  float64 \n",
      " 14  2nd_Road_Class                               138440 non-null  float64 \n",
      " 15  2nd_Road_Number                              138440 non-null  float64 \n",
      " 16  Pedestrian_Crossing-Human_Control            138440 non-null  float64 \n",
      " 17  Pedestrian_Crossing-Physical_Facilities      138440 non-null  float64 \n",
      " 18  Light_Conditions                             138440 non-null  float64 \n",
      " 19  Weather_Conditions                           138440 non-null  float64 \n",
      " 20  Road_Surface_Conditions                      138440 non-null  float64 \n",
      " 21  Special_Conditions_at_Site                   138440 non-null  float64 \n",
      " 22  Carriageway_Hazards                          138440 non-null  float64 \n",
      " 23  Urban_or_Rural_Area                          138440 non-null  float64 \n",
      " 24  Did_Police_Officer_Attend_Scene_of_Accident  138440 non-null  float64 \n",
      " 25  Accident_Index                               138440 non-null  category\n",
      " 26  Date                                         138440 non-null  category\n",
      " 27  Time                                         138440 non-null  category\n",
      " 28  Local_Authority_(Highway)                    138440 non-null  category\n",
      " 29  LSOA_of_Accident_Location                    138440 non-null  category\n",
      "dtypes: category(5), float64(25)\n",
      "memory usage: 35.4 MB\n"
     ]
    }
   ],
   "source": [
    "data_final.info()"
   ]
  },
  {
   "cell_type": "code",
   "execution_count": null,
   "metadata": {
    "colab": {
     "base_uri": "https://localhost:8080/",
     "height": 217
    },
    "id": "4jjtqhvCCLi_",
    "outputId": "bc61e6c5-25b1-4566-d32b-dce307fc457a"
   },
   "outputs": [
    {
     "ename": "NameError",
     "evalue": "ignored",
     "output_type": "error",
     "traceback": [
      "\u001b[0;31m---------------------------------------------------------------------------\u001b[0m",
      "\u001b[0;31mNameError\u001b[0m                                 Traceback (most recent call last)",
      "\u001b[0;32m<ipython-input-73-7618cd7bfb0d>\u001b[0m in \u001b[0;36m<cell line: 1>\u001b[0;34m()\u001b[0m\n\u001b[0;32m----> 1\u001b[0;31m \u001b[0mprob_y_1\u001b[0m \u001b[0;34m=\u001b[0m \u001b[0mclf_1\u001b[0m\u001b[0;34m.\u001b[0m\u001b[0mpredict_proba\u001b[0m\u001b[0;34m(\u001b[0m\u001b[0mX_test\u001b[0m\u001b[0;34m)\u001b[0m\u001b[0;34m\u001b[0m\u001b[0;34m\u001b[0m\u001b[0m\n\u001b[0m\u001b[1;32m      2\u001b[0m \u001b[0mprob_y_1\u001b[0m \u001b[0;34m=\u001b[0m \u001b[0;34m[\u001b[0m\u001b[0mp\u001b[0m\u001b[0;34m[\u001b[0m\u001b[0;36m1\u001b[0m\u001b[0;34m]\u001b[0m \u001b[0;32mfor\u001b[0m \u001b[0mp\u001b[0m \u001b[0;32min\u001b[0m \u001b[0mprob_y_1\u001b[0m\u001b[0;34m]\u001b[0m\u001b[0;34m\u001b[0m\u001b[0;34m\u001b[0m\u001b[0m\n\u001b[1;32m      3\u001b[0m \u001b[0;34m\u001b[0m\u001b[0m\n\u001b[1;32m      4\u001b[0m \u001b[0mprint\u001b[0m\u001b[0;34m(\u001b[0m\u001b[0mroc_auc_score\u001b[0m\u001b[0;34m(\u001b[0m\u001b[0my_test\u001b[0m\u001b[0;34m,\u001b[0m \u001b[0mprob_y_1\u001b[0m\u001b[0;34m)\u001b[0m\u001b[0;34m)\u001b[0m\u001b[0;34m\u001b[0m\u001b[0;34m\u001b[0m\u001b[0m\n",
      "\u001b[0;31mNameError\u001b[0m: name 'clf_1' is not defined"
     ]
    }
   ],
   "source": [
    "prob_y_1 = clf_1.predict_proba(X_test)\n",
    "prob_y_1 = [p[1] for p in prob_y_1]\n",
    " \n",
    "print(roc_auc_score(y_test, prob_y_1))"
   ]
  },
  {
   "cell_type": "code",
   "execution_count": null,
   "metadata": {
    "colab": {
     "base_uri": "https://localhost:8080/",
     "height": 165
    },
    "id": "iE5jORoutBV4",
    "outputId": "2b44e817-ba08-4129-a8ea-82dfe578f52b"
   },
   "outputs": [
    {
     "ename": "NameError",
     "evalue": "ignored",
     "output_type": "error",
     "traceback": [
      "\u001b[0;31m---------------------------------------------------------------------------\u001b[0m",
      "\u001b[0;31mNameError\u001b[0m                                 Traceback (most recent call last)",
      "\u001b[0;32m<ipython-input-76-04b037d2fc2c>\u001b[0m in \u001b[0;36m<cell line: 1>\u001b[0;34m()\u001b[0m\n\u001b[0;32m----> 1\u001b[0;31m \u001b[0mpred_y_1\u001b[0m \u001b[0;34m=\u001b[0m \u001b[0mclf_1\u001b[0m\u001b[0;34m.\u001b[0m\u001b[0mpredict\u001b[0m\u001b[0;34m(\u001b[0m\u001b[0mX_test\u001b[0m\u001b[0;34m)\u001b[0m\u001b[0;34m\u001b[0m\u001b[0;34m\u001b[0m\u001b[0m\n\u001b[0m",
      "\u001b[0;31mNameError\u001b[0m: name 'clf_1' is not defined"
     ]
    }
   ],
   "source": [
    "pred_y_1 = clf_1.predict(X_test)"
   ]
  },
  {
   "cell_type": "code",
   "execution_count": null,
   "metadata": {
    "id": "su8-iITdtBY-"
   },
   "outputs": [],
   "source": [
    "from sklearn.preprocessing import StandardScaler"
   ]
  },
  {
   "cell_type": "markdown",
   "metadata": {
    "id": "PF-wmBlRs2Tz"
   },
   "source": []
  },
  {
   "cell_type": "code",
   "execution_count": null,
   "metadata": {
    "colab": {
     "base_uri": "https://localhost:8080/"
    },
    "id": "QjpU0J8qqbkt",
    "outputId": "c646926d-566e-4d05-ddd1-38b2f68726c9"
   },
   "outputs": [
    {
     "name": "stderr",
     "output_type": "stream",
     "text": [
      "/usr/local/lib/python3.10/dist-packages/sklearn/utils/validation.py:1143: DataConversionWarning: A column-vector y was passed when a 1d array was expected. Please change the shape of y to (n_samples, ), for example using ravel().\n",
      "  y = column_or_1d(y, warn=True)\n",
      "/usr/local/lib/python3.10/dist-packages/sklearn/linear_model/_logistic.py:458: ConvergenceWarning: lbfgs failed to converge (status=1):\n",
      "STOP: TOTAL NO. of ITERATIONS REACHED LIMIT.\n",
      "\n",
      "Increase the number of iterations (max_iter) or scale the data as shown in:\n",
      "    https://scikit-learn.org/stable/modules/preprocessing.html\n",
      "Please also refer to the documentation for alternative solver options:\n",
      "    https://scikit-learn.org/stable/modules/linear_model.html#logistic-regression\n",
      "  n_iter_i = _check_optimize_result(\n",
      "/usr/local/lib/python3.10/dist-packages/sklearn/utils/validation.py:1143: DataConversionWarning: A column-vector y was passed when a 1d array was expected. Please change the shape of y to (n_samples, ), for example using ravel().\n",
      "  y = column_or_1d(y, warn=True)\n",
      "/usr/local/lib/python3.10/dist-packages/sklearn/linear_model/_logistic.py:458: ConvergenceWarning: lbfgs failed to converge (status=1):\n",
      "STOP: TOTAL NO. of ITERATIONS REACHED LIMIT.\n",
      "\n",
      "Increase the number of iterations (max_iter) or scale the data as shown in:\n",
      "    https://scikit-learn.org/stable/modules/preprocessing.html\n",
      "Please also refer to the documentation for alternative solver options:\n",
      "    https://scikit-learn.org/stable/modules/linear_model.html#logistic-regression\n",
      "  n_iter_i = _check_optimize_result(\n",
      "/usr/local/lib/python3.10/dist-packages/sklearn/utils/validation.py:1143: DataConversionWarning: A column-vector y was passed when a 1d array was expected. Please change the shape of y to (n_samples, ), for example using ravel().\n",
      "  y = column_or_1d(y, warn=True)\n",
      "/usr/local/lib/python3.10/dist-packages/sklearn/linear_model/_logistic.py:458: ConvergenceWarning: lbfgs failed to converge (status=1):\n",
      "STOP: TOTAL NO. of ITERATIONS REACHED LIMIT.\n",
      "\n",
      "Increase the number of iterations (max_iter) or scale the data as shown in:\n",
      "    https://scikit-learn.org/stable/modules/preprocessing.html\n",
      "Please also refer to the documentation for alternative solver options:\n",
      "    https://scikit-learn.org/stable/modules/linear_model.html#logistic-regression\n",
      "  n_iter_i = _check_optimize_result(\n",
      "/usr/local/lib/python3.10/dist-packages/sklearn/utils/validation.py:1143: DataConversionWarning: A column-vector y was passed when a 1d array was expected. Please change the shape of y to (n_samples, ), for example using ravel().\n",
      "  y = column_or_1d(y, warn=True)\n",
      "/usr/local/lib/python3.10/dist-packages/sklearn/linear_model/_logistic.py:458: ConvergenceWarning: lbfgs failed to converge (status=1):\n",
      "STOP: TOTAL NO. of ITERATIONS REACHED LIMIT.\n",
      "\n",
      "Increase the number of iterations (max_iter) or scale the data as shown in:\n",
      "    https://scikit-learn.org/stable/modules/preprocessing.html\n",
      "Please also refer to the documentation for alternative solver options:\n",
      "    https://scikit-learn.org/stable/modules/linear_model.html#logistic-regression\n",
      "  n_iter_i = _check_optimize_result(\n",
      "/usr/local/lib/python3.10/dist-packages/sklearn/utils/validation.py:1143: DataConversionWarning: A column-vector y was passed when a 1d array was expected. Please change the shape of y to (n_samples, ), for example using ravel().\n",
      "  y = column_or_1d(y, warn=True)\n",
      "/usr/local/lib/python3.10/dist-packages/sklearn/linear_model/_logistic.py:458: ConvergenceWarning: lbfgs failed to converge (status=1):\n",
      "STOP: TOTAL NO. of ITERATIONS REACHED LIMIT.\n",
      "\n",
      "Increase the number of iterations (max_iter) or scale the data as shown in:\n",
      "    https://scikit-learn.org/stable/modules/preprocessing.html\n",
      "Please also refer to the documentation for alternative solver options:\n",
      "    https://scikit-learn.org/stable/modules/linear_model.html#logistic-regression\n",
      "  n_iter_i = _check_optimize_result(\n",
      "/usr/local/lib/python3.10/dist-packages/sklearn/utils/validation.py:1143: DataConversionWarning: A column-vector y was passed when a 1d array was expected. Please change the shape of y to (n_samples, ), for example using ravel().\n",
      "  y = column_or_1d(y, warn=True)\n",
      "/usr/local/lib/python3.10/dist-packages/sklearn/linear_model/_logistic.py:458: ConvergenceWarning: lbfgs failed to converge (status=1):\n",
      "STOP: TOTAL NO. of ITERATIONS REACHED LIMIT.\n",
      "\n",
      "Increase the number of iterations (max_iter) or scale the data as shown in:\n",
      "    https://scikit-learn.org/stable/modules/preprocessing.html\n",
      "Please also refer to the documentation for alternative solver options:\n",
      "    https://scikit-learn.org/stable/modules/linear_model.html#logistic-regression\n",
      "  n_iter_i = _check_optimize_result(\n",
      "/usr/local/lib/python3.10/dist-packages/sklearn/utils/validation.py:1143: DataConversionWarning: A column-vector y was passed when a 1d array was expected. Please change the shape of y to (n_samples, ), for example using ravel().\n",
      "  y = column_or_1d(y, warn=True)\n",
      "/usr/local/lib/python3.10/dist-packages/sklearn/linear_model/_logistic.py:458: ConvergenceWarning: lbfgs failed to converge (status=1):\n",
      "STOP: TOTAL NO. of ITERATIONS REACHED LIMIT.\n",
      "\n",
      "Increase the number of iterations (max_iter) or scale the data as shown in:\n",
      "    https://scikit-learn.org/stable/modules/preprocessing.html\n",
      "Please also refer to the documentation for alternative solver options:\n",
      "    https://scikit-learn.org/stable/modules/linear_model.html#logistic-regression\n",
      "  n_iter_i = _check_optimize_result(\n",
      "/usr/local/lib/python3.10/dist-packages/sklearn/utils/validation.py:1143: DataConversionWarning: A column-vector y was passed when a 1d array was expected. Please change the shape of y to (n_samples, ), for example using ravel().\n",
      "  y = column_or_1d(y, warn=True)\n",
      "/usr/local/lib/python3.10/dist-packages/sklearn/linear_model/_logistic.py:458: ConvergenceWarning: lbfgs failed to converge (status=1):\n",
      "STOP: TOTAL NO. of ITERATIONS REACHED LIMIT.\n",
      "\n",
      "Increase the number of iterations (max_iter) or scale the data as shown in:\n",
      "    https://scikit-learn.org/stable/modules/preprocessing.html\n",
      "Please also refer to the documentation for alternative solver options:\n",
      "    https://scikit-learn.org/stable/modules/linear_model.html#logistic-regression\n",
      "  n_iter_i = _check_optimize_result(\n",
      "/usr/local/lib/python3.10/dist-packages/sklearn/utils/validation.py:1143: DataConversionWarning: A column-vector y was passed when a 1d array was expected. Please change the shape of y to (n_samples, ), for example using ravel().\n",
      "  y = column_or_1d(y, warn=True)\n",
      "/usr/local/lib/python3.10/dist-packages/sklearn/linear_model/_logistic.py:458: ConvergenceWarning: lbfgs failed to converge (status=1):\n",
      "STOP: TOTAL NO. of ITERATIONS REACHED LIMIT.\n",
      "\n",
      "Increase the number of iterations (max_iter) or scale the data as shown in:\n",
      "    https://scikit-learn.org/stable/modules/preprocessing.html\n",
      "Please also refer to the documentation for alternative solver options:\n",
      "    https://scikit-learn.org/stable/modules/linear_model.html#logistic-regression\n",
      "  n_iter_i = _check_optimize_result(\n",
      "/usr/local/lib/python3.10/dist-packages/sklearn/utils/validation.py:1143: DataConversionWarning: A column-vector y was passed when a 1d array was expected. Please change the shape of y to (n_samples, ), for example using ravel().\n",
      "  y = column_or_1d(y, warn=True)\n",
      "/usr/local/lib/python3.10/dist-packages/sklearn/linear_model/_logistic.py:458: ConvergenceWarning: lbfgs failed to converge (status=1):\n",
      "STOP: TOTAL NO. of ITERATIONS REACHED LIMIT.\n",
      "\n",
      "Increase the number of iterations (max_iter) or scale the data as shown in:\n",
      "    https://scikit-learn.org/stable/modules/preprocessing.html\n",
      "Please also refer to the documentation for alternative solver options:\n",
      "    https://scikit-learn.org/stable/modules/linear_model.html#logistic-regression\n",
      "  n_iter_i = _check_optimize_result(\n",
      "/usr/local/lib/python3.10/dist-packages/sklearn/utils/validation.py:1143: DataConversionWarning: A column-vector y was passed when a 1d array was expected. Please change the shape of y to (n_samples, ), for example using ravel().\n",
      "  y = column_or_1d(y, warn=True)\n",
      "/usr/local/lib/python3.10/dist-packages/sklearn/linear_model/_logistic.py:458: ConvergenceWarning: lbfgs failed to converge (status=1):\n",
      "STOP: TOTAL NO. of ITERATIONS REACHED LIMIT.\n",
      "\n",
      "Increase the number of iterations (max_iter) or scale the data as shown in:\n",
      "    https://scikit-learn.org/stable/modules/preprocessing.html\n",
      "Please also refer to the documentation for alternative solver options:\n",
      "    https://scikit-learn.org/stable/modules/linear_model.html#logistic-regression\n",
      "  n_iter_i = _check_optimize_result(\n",
      "/usr/local/lib/python3.10/dist-packages/sklearn/utils/validation.py:1143: DataConversionWarning: A column-vector y was passed when a 1d array was expected. Please change the shape of y to (n_samples, ), for example using ravel().\n",
      "  y = column_or_1d(y, warn=True)\n",
      "/usr/local/lib/python3.10/dist-packages/sklearn/linear_model/_logistic.py:458: ConvergenceWarning: lbfgs failed to converge (status=1):\n",
      "STOP: TOTAL NO. of ITERATIONS REACHED LIMIT.\n",
      "\n",
      "Increase the number of iterations (max_iter) or scale the data as shown in:\n",
      "    https://scikit-learn.org/stable/modules/preprocessing.html\n",
      "Please also refer to the documentation for alternative solver options:\n",
      "    https://scikit-learn.org/stable/modules/linear_model.html#logistic-regression\n",
      "  n_iter_i = _check_optimize_result(\n",
      "/usr/local/lib/python3.10/dist-packages/sklearn/utils/validation.py:1143: DataConversionWarning: A column-vector y was passed when a 1d array was expected. Please change the shape of y to (n_samples, ), for example using ravel().\n",
      "  y = column_or_1d(y, warn=True)\n",
      "/usr/local/lib/python3.10/dist-packages/sklearn/linear_model/_logistic.py:458: ConvergenceWarning: lbfgs failed to converge (status=1):\n",
      "STOP: TOTAL NO. of ITERATIONS REACHED LIMIT.\n",
      "\n",
      "Increase the number of iterations (max_iter) or scale the data as shown in:\n",
      "    https://scikit-learn.org/stable/modules/preprocessing.html\n",
      "Please also refer to the documentation for alternative solver options:\n",
      "    https://scikit-learn.org/stable/modules/linear_model.html#logistic-regression\n",
      "  n_iter_i = _check_optimize_result(\n",
      "/usr/local/lib/python3.10/dist-packages/sklearn/utils/validation.py:1143: DataConversionWarning: A column-vector y was passed when a 1d array was expected. Please change the shape of y to (n_samples, ), for example using ravel().\n",
      "  y = column_or_1d(y, warn=True)\n",
      "/usr/local/lib/python3.10/dist-packages/sklearn/linear_model/_logistic.py:458: ConvergenceWarning: lbfgs failed to converge (status=1):\n",
      "STOP: TOTAL NO. of ITERATIONS REACHED LIMIT.\n",
      "\n",
      "Increase the number of iterations (max_iter) or scale the data as shown in:\n",
      "    https://scikit-learn.org/stable/modules/preprocessing.html\n",
      "Please also refer to the documentation for alternative solver options:\n",
      "    https://scikit-learn.org/stable/modules/linear_model.html#logistic-regression\n",
      "  n_iter_i = _check_optimize_result(\n",
      "/usr/local/lib/python3.10/dist-packages/sklearn/utils/validation.py:1143: DataConversionWarning: A column-vector y was passed when a 1d array was expected. Please change the shape of y to (n_samples, ), for example using ravel().\n",
      "  y = column_or_1d(y, warn=True)\n",
      "/usr/local/lib/python3.10/dist-packages/sklearn/linear_model/_logistic.py:458: ConvergenceWarning: lbfgs failed to converge (status=1):\n",
      "STOP: TOTAL NO. of ITERATIONS REACHED LIMIT.\n",
      "\n",
      "Increase the number of iterations (max_iter) or scale the data as shown in:\n",
      "    https://scikit-learn.org/stable/modules/preprocessing.html\n",
      "Please also refer to the documentation for alternative solver options:\n",
      "    https://scikit-learn.org/stable/modules/linear_model.html#logistic-regression\n",
      "  n_iter_i = _check_optimize_result(\n",
      "/usr/local/lib/python3.10/dist-packages/sklearn/utils/validation.py:1143: DataConversionWarning: A column-vector y was passed when a 1d array was expected. Please change the shape of y to (n_samples, ), for example using ravel().\n",
      "  y = column_or_1d(y, warn=True)\n",
      "/usr/local/lib/python3.10/dist-packages/sklearn/linear_model/_logistic.py:458: ConvergenceWarning: lbfgs failed to converge (status=1):\n",
      "STOP: TOTAL NO. of ITERATIONS REACHED LIMIT.\n",
      "\n",
      "Increase the number of iterations (max_iter) or scale the data as shown in:\n",
      "    https://scikit-learn.org/stable/modules/preprocessing.html\n",
      "Please also refer to the documentation for alternative solver options:\n",
      "    https://scikit-learn.org/stable/modules/linear_model.html#logistic-regression\n",
      "  n_iter_i = _check_optimize_result(\n",
      "/usr/local/lib/python3.10/dist-packages/sklearn/utils/validation.py:1143: DataConversionWarning: A column-vector y was passed when a 1d array was expected. Please change the shape of y to (n_samples, ), for example using ravel().\n",
      "  y = column_or_1d(y, warn=True)\n",
      "/usr/local/lib/python3.10/dist-packages/sklearn/linear_model/_logistic.py:458: ConvergenceWarning: lbfgs failed to converge (status=1):\n",
      "STOP: TOTAL NO. of ITERATIONS REACHED LIMIT.\n",
      "\n",
      "Increase the number of iterations (max_iter) or scale the data as shown in:\n",
      "    https://scikit-learn.org/stable/modules/preprocessing.html\n",
      "Please also refer to the documentation for alternative solver options:\n",
      "    https://scikit-learn.org/stable/modules/linear_model.html#logistic-regression\n",
      "  n_iter_i = _check_optimize_result(\n",
      "/usr/local/lib/python3.10/dist-packages/sklearn/utils/validation.py:1143: DataConversionWarning: A column-vector y was passed when a 1d array was expected. Please change the shape of y to (n_samples, ), for example using ravel().\n",
      "  y = column_or_1d(y, warn=True)\n",
      "/usr/local/lib/python3.10/dist-packages/sklearn/linear_model/_logistic.py:458: ConvergenceWarning: lbfgs failed to converge (status=1):\n",
      "STOP: TOTAL NO. of ITERATIONS REACHED LIMIT.\n",
      "\n",
      "Increase the number of iterations (max_iter) or scale the data as shown in:\n",
      "    https://scikit-learn.org/stable/modules/preprocessing.html\n",
      "Please also refer to the documentation for alternative solver options:\n",
      "    https://scikit-learn.org/stable/modules/linear_model.html#logistic-regression\n",
      "  n_iter_i = _check_optimize_result(\n",
      "/usr/local/lib/python3.10/dist-packages/sklearn/utils/validation.py:1143: DataConversionWarning: A column-vector y was passed when a 1d array was expected. Please change the shape of y to (n_samples, ), for example using ravel().\n",
      "  y = column_or_1d(y, warn=True)\n",
      "/usr/local/lib/python3.10/dist-packages/sklearn/linear_model/_logistic.py:458: ConvergenceWarning: lbfgs failed to converge (status=1):\n",
      "STOP: TOTAL NO. of ITERATIONS REACHED LIMIT.\n",
      "\n",
      "Increase the number of iterations (max_iter) or scale the data as shown in:\n",
      "    https://scikit-learn.org/stable/modules/preprocessing.html\n",
      "Please also refer to the documentation for alternative solver options:\n",
      "    https://scikit-learn.org/stable/modules/linear_model.html#logistic-regression\n",
      "  n_iter_i = _check_optimize_result(\n",
      "/usr/local/lib/python3.10/dist-packages/sklearn/utils/validation.py:1143: DataConversionWarning: A column-vector y was passed when a 1d array was expected. Please change the shape of y to (n_samples, ), for example using ravel().\n",
      "  y = column_or_1d(y, warn=True)\n"
     ]
    }
   ],
   "source": [
    "# X = data_final.drop('Accident_Severity', axis=1)\n",
    "y = data_final['Accident_Severity']\n",
    "from sklearn.feature_selection import RFE\n",
    "from sklearn.linear_model import LogisticRegression\n",
    "from sklearn.preprocessing import MinMaxScaler\n",
    "min_max_scaler = preprocessing.MinMaxScaler()\n",
    "\n",
    "X = min_max_scaler.fit_transform(X)\n",
    "y = min_max_scaler.fit_transform(data_final[['Accident_Severity']])\n",
    "X = pd.DataFrame(data_final.drop('Accident_Severity', axis=1))\n",
    "y = pd.DataFrame(data_final['Accident_Severity'])\n",
    "model = LogisticRegression(solver='lbfgs')\n",
    "rfe = RFE(model, n_features_to_select=10)\n",
    "rfe.fit(X, y)\n",
    "selected_features = rfe.support_\n",
    "selected_feature_names = X.columns[rfe.support_]\n"
   ]
  },
  {
   "cell_type": "code",
   "execution_count": null,
   "metadata": {
    "id": "l-zcG7G0zPNW"
   },
   "outputs": [],
   "source": [
    "from imblearn.under_sampling import TomekLinks\n",
    "X_train, X_test, y_train, y_test = train_test_split(df_X, dataset_Y, test_size=0.2, random_state=42)\n",
    "\n",
    "tl = TomekLinks(return_indices=True, ratio='majority')\n",
    "X_tl, y_tl, id_tl = tl.fit_sample(X_train, y_train)"
   ]
  },
  {
   "cell_type": "code",
   "execution_count": null,
   "metadata": {
    "colab": {
     "base_uri": "https://localhost:8080/"
    },
    "id": "ig66t3z1rkt6",
    "outputId": "cf2fab5a-8468-439c-dd14-410da43b8ae7"
   },
   "outputs": [
    {
     "name": "stdout",
     "output_type": "stream",
     "text": [
      "Index(['Number_of_Vehicles', 'Number_of_Casualties', '1st_Road_Class',\n",
      "       'Road_Type', 'Junction_Control', '2nd_Road_Class',\n",
      "       'Road_Surface_Conditions', 'Special_Conditions_at_Site',\n",
      "       'Urban_or_Rural_Area', 'Did_Police_Officer_Attend_Scene_of_Accident'],\n",
      "      dtype='object')\n"
     ]
    }
   ],
   "source": [
    "print(selected_feature_names)"
   ]
  },
  {
   "cell_type": "code",
   "execution_count": null,
   "metadata": {
    "colab": {
     "base_uri": "https://localhost:8080/",
     "height": 472
    },
    "id": "s8pPzrKJwEoN",
    "outputId": "cc10382b-61ac-457d-9b19-9445da871ba8"
   },
   "outputs": [
    {
     "data": {
      "image/png": "[encoded data removed]",
      "text/plain": [
       "<Figure size 640x480 with 1 Axes>"
      ]
     },
     "metadata": {},
     "output_type": "display_data"
    }
   ],
   "source": [
    "import seaborn as sb\n",
    "sb.countplot(x='Road_Surface_Conditions',data=data_final)\n",
    "plt.title('Road_Surface_Conditions')\n",
    "plt.show()\n"
   ]
  },
  {
   "cell_type": "code",
   "execution_count": null,
   "metadata": {
    "id": "ufwyB3f-yOA7"
   },
   "outputs": [],
   "source": []
  }
 ],
 "metadata": {
  "colab": {
   "provenance": []
  },
  "kernelspec": {
   "display_name": "Python 3 (ipykernel)",
   "language": "python",
   "name": "python3"
  },
  "language_info": {
   "codemirror_mode": {
    "name": "ipython",
    "version": 3
   },
   "file_extension": ".py",
   "mimetype": "text/x-python",
   "name": "python",
   "nbconvert_exporter": "python",
   "pygments_lexer": "ipython3",
   "version": "3.9.7"
  }
 },
 "nbformat": 4,
 "nbformat_minor": 1
}
