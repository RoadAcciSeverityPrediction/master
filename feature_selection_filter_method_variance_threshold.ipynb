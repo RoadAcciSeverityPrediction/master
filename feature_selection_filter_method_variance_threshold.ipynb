{
 "cells": [
  {
   "cell_type": "code",
   "execution_count": 35,
   "id": "a2800a09",
   "metadata": {},
   "outputs": [],
   "source": [
    "import pandas as pd\n",
    "\n",
    "trial_data = pd.read_csv(\"acc_data_after_cleaning.csv\", engine='python')"
   ]
  },
  {
   "cell_type": "code",
   "execution_count": 29,
   "id": "3926340b",
   "metadata": {},
   "outputs": [
    {
     "data": {
      "text/plain": [
       "62"
      ]
     },
     "execution_count": 29,
     "metadata": {},
     "output_type": "execute_result"
    }
   ],
   "source": [
    "pd.options.display.max_rows = None\n",
    "data.columns\n",
    "#find colnumber\n",
    "cols = len(trial_data.axes[1])\n",
    "cols"
   ]
  },
  {
   "cell_type": "code",
   "execution_count": 36,
   "id": "59d4bc59",
   "metadata": {},
   "outputs": [
    {
     "data": {
      "text/plain": [
       "3    155053\n",
       "2     28161\n",
       "1      2836\n",
       "Name: accident_severity, dtype: int64"
      ]
     },
     "execution_count": 36,
     "metadata": {},
     "output_type": "execute_result"
    }
   ],
   "source": [
    "trial_data['accident_severity'].value_counts()\n"
   ]
  },
  {
   "cell_type": "code",
   "execution_count": 37,
   "id": "2acd7128",
   "metadata": {},
   "outputs": [],
   "source": [
    "trial_data['accident_severity'] = 4 - trial_data['accident_severity']\n"
   ]
  },
  {
   "cell_type": "code",
   "execution_count": 38,
   "id": "106fb8d9",
   "metadata": {},
   "outputs": [
    {
     "data": {
      "text/plain": [
       "1    155053\n",
       "2     28161\n",
       "3      2836\n",
       "Name: accident_severity, dtype: int64"
      ]
     },
     "execution_count": 38,
     "metadata": {},
     "output_type": "execute_result"
    }
   ],
   "source": [
    "trial_data['accident_severity'].value_counts()"
   ]
  },
  {
   "cell_type": "code",
   "execution_count": 39,
   "id": "3d64adbd",
   "metadata": {},
   "outputs": [],
   "source": [
    "trial_data['casualty_severity'].value_counts()\n",
    "trial_data['casualty_severity'] = 4 - trial_data['casualty_severity']"
   ]
  },
  {
   "cell_type": "code",
   "execution_count": 40,
   "id": "e280878f",
   "metadata": {},
   "outputs": [
    {
     "data": {
      "text/plain": [
       "1    162193\n",
       "2     22130\n",
       "3      1727\n",
       "Name: casualty_severity, dtype: int64"
      ]
     },
     "execution_count": 40,
     "metadata": {},
     "output_type": "execute_result"
    }
   ],
   "source": [
    "trial_data['casualty_severity'].value_counts()"
   ]
  },
  {
   "cell_type": "code",
   "execution_count": 41,
   "id": "88dbef05",
   "metadata": {},
   "outputs": [],
   "source": [
    "numerical_data = trial_data.select_dtypes(include='number')\n"
   ]
  },
  {
   "cell_type": "code",
   "execution_count": 42,
   "id": "629a4821",
   "metadata": {},
   "outputs": [
    {
     "data": {
      "text/plain": [
       "60"
      ]
     },
     "execution_count": 42,
     "metadata": {},
     "output_type": "execute_result"
    }
   ],
   "source": [
    "numerical_data.columns\n",
    "#find colnumber\n",
    "cols = len(numerical_data.axes[1])\n",
    "cols"
   ]
  },
  {
   "cell_type": "code",
   "execution_count": 13,
   "id": "c318128c",
   "metadata": {},
   "outputs": [],
   "source": [
    "import numpy as np\n",
    "np_data = np.array(numerical_data)"
   ]
  },
  {
   "cell_type": "code",
   "execution_count": 19,
   "id": "13aaa6c3",
   "metadata": {
    "scrolled": true
   },
   "outputs": [
    {
     "data": {
      "text/plain": [
       "VarianceThreshold(threshold=0)"
      ]
     },
     "execution_count": 19,
     "metadata": {},
     "output_type": "execute_result"
    }
   ],
   "source": [
    "from sklearn.feature_selection import VarianceThreshold\n",
    "\n",
    "vt = VarianceThreshold(threshold=0.0)\n",
    "vt.fit(np_data)"
   ]
  },
  {
   "cell_type": "code",
   "execution_count": 20,
   "id": "3a76204b",
   "metadata": {},
   "outputs": [
    {
     "data": {
      "text/plain": [
       "array([ 0,  1,  2,  3,  4,  5,  6,  7,  8,  9, 10, 11, 12, 13, 14, 15, 16,\n",
       "       17, 18, 19, 20, 21, 22, 23, 24, 25, 26, 27, 28, 29, 30, 31, 32, 33,\n",
       "       34, 35, 36, 37, 38, 39, 40, 41, 42, 43, 44, 45, 46, 47, 48, 49, 50,\n",
       "       51, 52, 53, 54, 55, 56, 57, 58, 59], dtype=int64)"
      ]
     },
     "execution_count": 20,
     "metadata": {},
     "output_type": "execute_result"
    }
   ],
   "source": [
    "# Get the indices of the features to keep\n",
    "indices_to_keep = vt.get_support(indices=True)\n",
    "indices_to_keep"
   ]
  },
  {
   "cell_type": "code",
   "execution_count": 43,
   "id": "c1f89e50",
   "metadata": {},
   "outputs": [],
   "source": [
    "trial_data.to_csv(\"trial_data.csv\",index = 'False')"
   ]
  },
  {
   "cell_type": "code",
   "execution_count": null,
   "id": "56ef9e72",
   "metadata": {},
   "outputs": [],
   "source": []
  }
 ],
 "metadata": {
  "kernelspec": {
   "display_name": "Python 3 (ipykernel)",
   "language": "python",
   "name": "python3"
  },
  "language_info": {
   "codemirror_mode": {
    "name": "ipython",
    "version": 3
   },
   "file_extension": ".py",
   "mimetype": "text/x-python",
   "name": "python",
   "nbconvert_exporter": "python",
   "pygments_lexer": "ipython3",
   "version": "3.9.7"
  }
 },
 "nbformat": 4,
 "nbformat_minor": 5
}
