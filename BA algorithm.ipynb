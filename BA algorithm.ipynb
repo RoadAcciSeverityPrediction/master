{
 "cells": [
  {
   "cell_type": "code",
   "execution_count": null,
   "id": "3989e222",
   "metadata": {},
   "outputs": [],
   "source": [
    "def split_train_test(data,test_ratio)\n",
    "\tshuffled = np.random.permutation(len(data))\n",
    "    test_set_size = int(len(data) * test_ratio)\n",
    "    test_indices = shuffled[:test_set_size]\n",
    "    train_indices = shuffled[test_set_size:]\n",
    "    return data.iloc[train_indiced, data.iloc[test_indices]]"
   ]
  },
  {
   "cell_type": "code",
   "execution_count": null,
   "id": "586252c5",
   "metadata": {},
   "outputs": [],
   "source": []
  }
 ],
 "metadata": {
  "kernelspec": {
   "display_name": "Python 3 (ipykernel)",
   "language": "python",
   "name": "python3"
  },
  "language_info": {
   "codemirror_mode": {
    "name": "ipython",
    "version": 3
   },
   "file_extension": ".py",
   "mimetype": "text/x-python",
   "name": "python",
   "nbconvert_exporter": "python",
   "pygments_lexer": "ipython3",
   "version": "3.9.7"
  }
 },
 "nbformat": 4,
 "nbformat_minor": 5
}
